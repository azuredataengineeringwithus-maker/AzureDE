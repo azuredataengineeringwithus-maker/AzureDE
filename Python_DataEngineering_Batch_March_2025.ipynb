{
  "nbformat": 4,
  "nbformat_minor": 0,
  "metadata": {
    "colab": {
      "provenance": [],
      "include_colab_link": true
    },
    "kernelspec": {
      "name": "python3",
      "display_name": "Python 3"
    },
    "language_info": {
      "name": "python"
    }
  },
  "cells": [
    {
      "cell_type": "markdown",
      "metadata": {
        "id": "view-in-github",
        "colab_type": "text"
      },
      "source": [
        "<a href=\"https://colab.research.google.com/github/azuredataengineeringwithus-maker/AzureDE/blob/azure_data_engieering/Python_DataEngineering_Batch_March_2025.ipynb\" target=\"_parent\"><img src=\"https://colab.research.google.com/assets/colab-badge.svg\" alt=\"Open In Colab\"/></a>"
      ]
    },
    {
      "cell_type": "code",
      "execution_count": null,
      "metadata": {
        "colab": {
          "base_uri": "https://localhost:8080/"
        },
        "id": "R3X306geELwx",
        "outputId": "72edd4bf-ac9a-4805-97d2-1cdeffec5eb8"
      },
      "outputs": [
        {
          "output_type": "stream",
          "name": "stdout",
          "text": [
            "hello\n"
          ]
        }
      ],
      "source": [
        "print(\"hello\")"
      ]
    },
    {
      "cell_type": "code",
      "source": [
        "# a = 10.5\n",
        "# a =\"Uma\"\n",
        "a = '10'"
      ],
      "metadata": {
        "id": "qlpRnoRUs8Xt"
      },
      "execution_count": null,
      "outputs": []
    },
    {
      "cell_type": "code",
      "source": [
        "a = 100"
      ],
      "metadata": {
        "id": "3yZFO0XZuub8"
      },
      "execution_count": null,
      "outputs": []
    },
    {
      "cell_type": "code",
      "source": [
        "s = str(a)"
      ],
      "metadata": {
        "id": "6cgmzMo0uwli"
      },
      "execution_count": null,
      "outputs": []
    },
    {
      "cell_type": "code",
      "source": [
        "print(s, type(s))"
      ],
      "metadata": {
        "id": "K8910ZazuzMx",
        "outputId": "dfa22f2d-7936-4ba2-b746-01234c2c33a2",
        "colab": {
          "base_uri": "https://localhost:8080/"
        }
      },
      "execution_count": null,
      "outputs": [
        {
          "output_type": "stream",
          "name": "stdout",
          "text": [
            "100 <class 'str'>\n"
          ]
        }
      ]
    },
    {
      "cell_type": "code",
      "source": [
        "b = int(a)\n",
        "c = float(a)"
      ],
      "metadata": {
        "id": "BYhQUrSAuFrq"
      },
      "execution_count": null,
      "outputs": []
    },
    {
      "cell_type": "code",
      "source": [
        "print(type(c))"
      ],
      "metadata": {
        "colab": {
          "base_uri": "https://localhost:8080/"
        },
        "id": "IiqWwSvWuMU4",
        "outputId": "c24e2a8b-8d94-4584-a2c2-5ae252476b42"
      },
      "execution_count": null,
      "outputs": [
        {
          "output_type": "stream",
          "name": "stdout",
          "text": [
            "<class 'float'>\n"
          ]
        }
      ]
    },
    {
      "cell_type": "code",
      "source": [
        "print(type(a))"
      ],
      "metadata": {
        "colab": {
          "base_uri": "https://localhost:8080/"
        },
        "id": "9JHILOjmtLBZ",
        "outputId": "3b27b513-8d2c-4ad4-cfef-ca5095b5ebab"
      },
      "execution_count": null,
      "outputs": [
        {
          "output_type": "stream",
          "name": "stdout",
          "text": [
            "<class 'str'>\n"
          ]
        }
      ]
    },
    {
      "cell_type": "code",
      "source": [
        "#Datatypes:\n",
        "\n",
        "# integer == numeric    10 , -11, 0\n",
        "# float = decimal value 10.56 ,\n",
        "# string == \"Sachin\", \"d\"   -- whatever u are writing inside ur ''\n",
        "# list === [1,5,8,9,'fgg']\n",
        "#tupple ==== (1,5,9,'k')\n",
        "# Set === {\"f\", \"gh\"}\n",
        "# dict == {\"name\": \"DE\", \"BATch\": 2025 }\n",
        "\n",
        "\n",
        "a = 10\n",
        "\n"
      ],
      "metadata": {
        "id": "1PNSKLFHEOkw"
      },
      "execution_count": null,
      "outputs": []
    },
    {
      "cell_type": "code",
      "source": [
        "a = 10\n",
        "b = 120.5"
      ],
      "metadata": {
        "id": "9Z9So3Y_H17P"
      },
      "execution_count": null,
      "outputs": []
    },
    {
      "cell_type": "code",
      "source": [
        "f = float(a)\n",
        "print(f)"
      ],
      "metadata": {
        "colab": {
          "base_uri": "https://localhost:8080/"
        },
        "id": "cvW4UAPsIAnl",
        "outputId": "757178b9-9642-41cd-e53f-d261b1b7f1ce"
      },
      "execution_count": null,
      "outputs": [
        {
          "output_type": "stream",
          "name": "stdout",
          "text": [
            "10.0\n"
          ]
        }
      ]
    },
    {
      "cell_type": "code",
      "source": [
        "i = int(b)\n",
        "print(i)"
      ],
      "metadata": {
        "colab": {
          "base_uri": "https://localhost:8080/"
        },
        "id": "Iz583gcPIHiG",
        "outputId": "c0bc3cfb-cb19-4c5e-90dc-e6519c776c2d"
      },
      "execution_count": null,
      "outputs": [
        {
          "output_type": "stream",
          "name": "stdout",
          "text": [
            "120\n"
          ]
        }
      ]
    },
    {
      "cell_type": "code",
      "source": [
        "s = str(a)\n",
        "print(s)"
      ],
      "metadata": {
        "colab": {
          "base_uri": "https://localhost:8080/"
        },
        "id": "yBYgeY9-IojG",
        "outputId": "20a2aa95-c459-4c72-c394-a1d36333d013"
      },
      "execution_count": null,
      "outputs": [
        {
          "output_type": "stream",
          "name": "stdout",
          "text": [
            "10\n"
          ]
        }
      ]
    },
    {
      "cell_type": "code",
      "source": [
        "s = \"Sachin\"\n",
        "print(s)"
      ],
      "metadata": {
        "colab": {
          "base_uri": "https://localhost:8080/"
        },
        "id": "BkCUtd4JIzDF",
        "outputId": "00fa1d1d-f8e2-4211-9891-63bda98e1304"
      },
      "execution_count": null,
      "outputs": [
        {
          "output_type": "stream",
          "name": "stdout",
          "text": [
            "Sachin\n"
          ]
        }
      ]
    },
    {
      "cell_type": "code",
      "source": [
        "l = list(a)\n",
        "print(l)"
      ],
      "metadata": {
        "colab": {
          "base_uri": "https://localhost:8080/",
          "height": 159
        },
        "id": "EHn8wRSSIQNm",
        "outputId": "3cf0b879-5baa-4b28-e1db-25bbfaf7c538"
      },
      "execution_count": null,
      "outputs": [
        {
          "output_type": "error",
          "ename": "TypeError",
          "evalue": "'int' object is not iterable",
          "traceback": [
            "\u001b[0;31m---------------------------------------------------------------------------\u001b[0m",
            "\u001b[0;31mTypeError\u001b[0m                                 Traceback (most recent call last)",
            "\u001b[0;32m<ipython-input-23-59ef00f77e56>\u001b[0m in \u001b[0;36m<cell line: 0>\u001b[0;34m()\u001b[0m\n\u001b[0;32m----> 1\u001b[0;31m \u001b[0ml\u001b[0m \u001b[0;34m=\u001b[0m \u001b[0mlist\u001b[0m\u001b[0;34m(\u001b[0m\u001b[0ma\u001b[0m\u001b[0;34m)\u001b[0m\u001b[0;34m\u001b[0m\u001b[0;34m\u001b[0m\u001b[0m\n\u001b[0m\u001b[1;32m      2\u001b[0m \u001b[0mprint\u001b[0m\u001b[0;34m(\u001b[0m\u001b[0ml\u001b[0m\u001b[0;34m)\u001b[0m\u001b[0;34m\u001b[0m\u001b[0;34m\u001b[0m\u001b[0m\n",
            "\u001b[0;31mTypeError\u001b[0m: 'int' object is not iterable"
          ]
        }
      ]
    },
    {
      "cell_type": "code",
      "source": [
        "print(type(a),type(b))"
      ],
      "metadata": {
        "colab": {
          "base_uri": "https://localhost:8080/"
        },
        "id": "FwGUpW-iH4-d",
        "outputId": "7c8d5c56-64c7-4da3-82cf-9e8b96b4832d"
      },
      "execution_count": null,
      "outputs": [
        {
          "output_type": "stream",
          "name": "stdout",
          "text": [
            "<class 'int'> <class 'float'>\n"
          ]
        }
      ]
    },
    {
      "cell_type": "code",
      "source": [
        "# variable :\n",
        "# must starts with letter, _ but not with digit\n",
        "# it not be a keyword\n",
        "# use some meaning full names\n",
        "\n"
      ],
      "metadata": {
        "id": "aJ4HUPQ1GMpf"
      },
      "execution_count": null,
      "outputs": []
    },
    {
      "cell_type": "code",
      "source": [
        "a = \"25.15\""
      ],
      "metadata": {
        "id": "fUAUMLmdGMjv"
      },
      "execution_count": null,
      "outputs": []
    },
    {
      "cell_type": "code",
      "source": [
        "# collectional objects :"
      ],
      "metadata": {
        "id": "Wk2aGqKCJKP2"
      },
      "execution_count": null,
      "outputs": []
    },
    {
      "cell_type": "code",
      "source": [
        "#string :\n",
        "# ordered collection\n",
        "# indexing -- +ve , -ve\n",
        "# immutable ( once created u r not allowed to modify it )\n",
        "# whatever inside \"\" is string\n",
        "\n",
        "s = \"fgjkjkk\"\n",
        "s[-1] = \"m\"\n",
        "print(s[-1])"
      ],
      "metadata": {
        "colab": {
          "base_uri": "https://localhost:8080/"
        },
        "id": "xl5cpxOANPwd",
        "outputId": "044e9e60-405a-4a2f-e275-b37cac0342e2"
      },
      "execution_count": null,
      "outputs": [
        {
          "output_type": "stream",
          "name": "stdout",
          "text": [
            "k\n"
          ]
        }
      ]
    },
    {
      "cell_type": "code",
      "source": [
        "#list :\n",
        "#have []\n",
        "#it can contain diff datatype elements\n",
        "# supports indexing\n",
        "# it is an ordered collection\n",
        "# mutable ( u can able to change the elements)\n"
      ],
      "metadata": {
        "id": "4URre9tCJd5d"
      },
      "execution_count": null,
      "outputs": []
    },
    {
      "cell_type": "code",
      "source": [
        "l = [89,\"Ankush\",12]    #pi -- 0,1,2       ni -- -3,-2,-1"
      ],
      "metadata": {
        "id": "41XJA6cjJrP_"
      },
      "execution_count": null,
      "outputs": []
    },
    {
      "cell_type": "code",
      "source": [
        "l[1]= \"Gayatri\""
      ],
      "metadata": {
        "id": "ae0EZly-NhQT"
      },
      "execution_count": null,
      "outputs": []
    },
    {
      "cell_type": "code",
      "source": [
        "print(l)"
      ],
      "metadata": {
        "colab": {
          "base_uri": "https://localhost:8080/"
        },
        "id": "cHzmo1n1LMhk",
        "outputId": "cd48fda8-0ed9-4082-f823-dac65cf6a9cb"
      },
      "execution_count": null,
      "outputs": [
        {
          "output_type": "stream",
          "name": "stdout",
          "text": [
            "[89, 'Gayatri', 12]\n"
          ]
        }
      ]
    },
    {
      "cell_type": "code",
      "source": [
        "# indexing :\n",
        "\n",
        "#\n",
        "#positive indexing :\n",
        "      #bydefault index will start from 0\n",
        "      # index from left side of iterable object\n",
        "\n",
        "# negative indexing\n",
        "     # starts with -1\n",
        "     # index from right side\n"
      ],
      "metadata": {
        "colab": {
          "base_uri": "https://localhost:8080/"
        },
        "id": "HN76zaWkKPdl",
        "outputId": "c84a9e19-af5f-4993-fae2-a8cffcc3bf53"
      },
      "execution_count": null,
      "outputs": [
        {
          "output_type": "execute_result",
          "data": {
            "text/plain": [
              "12"
            ]
          },
          "metadata": {},
          "execution_count": 36
        }
      ]
    },
    {
      "cell_type": "code",
      "source": [
        "#Tuple:\n",
        "#have ()\n",
        "#it can contain diff datatype elements\n",
        "# supports indexing\n",
        "# it is an ordered collection\n",
        "# immutable ( u can't able to change the elements)"
      ],
      "metadata": {
        "id": "vtSMffhsNo77"
      },
      "execution_count": null,
      "outputs": []
    },
    {
      "cell_type": "code",
      "source": [
        "t = (89,\"Ankush\",12)\n",
        "\n",
        "t[0]\n",
        "t[-1]\n",
        "t[-2]"
      ],
      "metadata": {
        "colab": {
          "base_uri": "https://localhost:8080/",
          "height": 35
        },
        "id": "kDfuk22aLnNk",
        "outputId": "3a18813a-5479-4028-d471-99049361f320"
      },
      "execution_count": null,
      "outputs": [
        {
          "output_type": "execute_result",
          "data": {
            "text/plain": [
              "'Ankush'"
            ],
            "application/vnd.google.colaboratory.intrinsic+json": {
              "type": "string"
            }
          },
          "metadata": {},
          "execution_count": 60
        }
      ]
    },
    {
      "cell_type": "code",
      "source": [
        "t[1]= \"Gayatri\""
      ],
      "metadata": {
        "colab": {
          "base_uri": "https://localhost:8080/",
          "height": 141
        },
        "id": "KamOL8jzNrfq",
        "outputId": "6f60419d-de26-4ca3-b5d8-eb6d909d24bb"
      },
      "execution_count": null,
      "outputs": [
        {
          "output_type": "error",
          "ename": "TypeError",
          "evalue": "'tuple' object does not support item assignment",
          "traceback": [
            "\u001b[0;31m---------------------------------------------------------------------------\u001b[0m",
            "\u001b[0;31mTypeError\u001b[0m                                 Traceback (most recent call last)",
            "\u001b[0;32m<ipython-input-61-bcaca7398a23>\u001b[0m in \u001b[0;36m<cell line: 0>\u001b[0;34m()\u001b[0m\n\u001b[0;32m----> 1\u001b[0;31m \u001b[0mt\u001b[0m\u001b[0;34m[\u001b[0m\u001b[0;36m1\u001b[0m\u001b[0;34m]\u001b[0m\u001b[0;34m=\u001b[0m \u001b[0;34m\"Gayatri\"\u001b[0m\u001b[0;34m\u001b[0m\u001b[0;34m\u001b[0m\u001b[0m\n\u001b[0m",
            "\u001b[0;31mTypeError\u001b[0m: 'tuple' object does not support item assignment"
          ]
        }
      ]
    },
    {
      "cell_type": "code",
      "source": [
        "# remove duplicates from list s\n",
        "s = [12,34,89, 58, 89,12]\n",
        "s = list(set(s))\n",
        "\n",
        "print(s)\n"
      ],
      "metadata": {
        "colab": {
          "base_uri": "https://localhost:8080/"
        },
        "id": "fidqcW9pLz88",
        "outputId": "95a8fb76-d947-4822-d2c6-e85c5904fa37"
      },
      "execution_count": null,
      "outputs": [
        {
          "output_type": "stream",
          "name": "stdout",
          "text": [
            "[89, 34, 12, 58]\n"
          ]
        }
      ]
    },
    {
      "cell_type": "code",
      "source": [
        "# Tuple:\n",
        "# ()\n",
        "#it can contain diff datatype elements\n"
      ],
      "metadata": {
        "id": "774TiWaoJ8-c"
      },
      "execution_count": null,
      "outputs": []
    },
    {
      "cell_type": "code",
      "source": [
        "l = [12,58,56]\n",
        "print(type(l))\n",
        "\n",
        "c = (12,58,56)\n",
        "print(type(c))\n",
        "\n",
        "s = {12,58,56}\n",
        "print(type(s))\n",
        "\n",
        "d = {\"name\": \"Sachin\"}\n",
        "print(type(d))\n",
        "\n"
      ],
      "metadata": {
        "colab": {
          "base_uri": "https://localhost:8080/"
        },
        "id": "DbS2-Wy5HJgv",
        "outputId": "2cad643b-1234-493d-d9fb-7709e307cff9"
      },
      "execution_count": null,
      "outputs": [
        {
          "output_type": "stream",
          "name": "stdout",
          "text": [
            "<class 'list'>\n",
            "<class 'tuple'>\n",
            "<class 'set'>\n",
            "<class 'dict'>\n"
          ]
        }
      ]
    },
    {
      "cell_type": "code",
      "source": [
        "d = {\"name\": \"Sachin\",\"role\": \"mentor\"}\n",
        "\n",
        "print(d[\"role\"])"
      ],
      "metadata": {
        "colab": {
          "base_uri": "https://localhost:8080/"
        },
        "id": "ouq7H09yHlcO",
        "outputId": "d477a2c1-1632-40ee-9d62-9bdfec55e0a4"
      },
      "execution_count": null,
      "outputs": [
        {
          "output_type": "stream",
          "name": "stdout",
          "text": [
            "mentor\n"
          ]
        }
      ]
    },
    {
      "cell_type": "code",
      "source": [
        "print(type(a))"
      ],
      "metadata": {
        "colab": {
          "base_uri": "https://localhost:8080/"
        },
        "id": "nva_dadyEOdo",
        "outputId": "4e271456-f4d0-4843-af68-3b3d17bf2c32"
      },
      "execution_count": null,
      "outputs": [
        {
          "output_type": "stream",
          "name": "stdout",
          "text": [
            "<class 'str'>\n"
          ]
        }
      ]
    },
    {
      "cell_type": "code",
      "source": [
        "s = {45,45,78,89,62,45}"
      ],
      "metadata": {
        "id": "5QYbiVxSOHXq"
      },
      "execution_count": null,
      "outputs": []
    },
    {
      "cell_type": "code",
      "source": [
        "print(s)"
      ],
      "metadata": {
        "colab": {
          "base_uri": "https://localhost:8080/"
        },
        "id": "sllgzUotOHSB",
        "outputId": "837e9c8a-6cde-4e15-e5eb-e463bc392037"
      },
      "execution_count": null,
      "outputs": [
        {
          "output_type": "stream",
          "name": "stdout",
          "text": [
            "{89, 45, 62, 78}\n"
          ]
        }
      ]
    },
    {
      "cell_type": "code",
      "source": [],
      "metadata": {
        "id": "82JspeQOOHIK"
      },
      "execution_count": null,
      "outputs": []
    },
    {
      "cell_type": "markdown",
      "source": [
        "**DAY 2:**"
      ],
      "metadata": {
        "id": "FdM_-r0fM8pk"
      }
    },
    {
      "cell_type": "code",
      "source": [
        "#slicing:\n",
        "# slicing / slecting specific part of the list\n",
        "# listname[ startindex(included): end_index(excluded) : stepsize]  : by default [0 : len(list):1]\n",
        "# slicing is just to select perticular part of list/string\n",
        "# it wont modify the existing list unlike reverse()\n",
        "l  = [45,89,45,63,56]"
      ],
      "metadata": {
        "id": "-0nFWgaLMkOy"
      },
      "execution_count": null,
      "outputs": []
    },
    {
      "cell_type": "code",
      "source": [
        "l[2]"
      ],
      "metadata": {
        "colab": {
          "base_uri": "https://localhost:8080/"
        },
        "id": "7QO3N7X_PzsX",
        "outputId": "e8553ae5-5a5a-4a54-fe23-3c014f85bc86"
      },
      "execution_count": null,
      "outputs": [
        {
          "output_type": "execute_result",
          "data": {
            "text/plain": [
              "45"
            ]
          },
          "metadata": {},
          "execution_count": 4
        }
      ]
    },
    {
      "cell_type": "code",
      "source": [
        "l[-3]"
      ],
      "metadata": {
        "colab": {
          "base_uri": "https://localhost:8080/"
        },
        "id": "1zHfPSpfPzkR",
        "outputId": "c26d4eab-3680-4bd0-9a17-bbc8f7e9317f"
      },
      "execution_count": null,
      "outputs": [
        {
          "output_type": "execute_result",
          "data": {
            "text/plain": [
              "45"
            ]
          },
          "metadata": {},
          "execution_count": 5
        }
      ]
    },
    {
      "cell_type": "code",
      "source": [
        "l[0:3]"
      ],
      "metadata": {
        "colab": {
          "base_uri": "https://localhost:8080/"
        },
        "id": "n9fVNKV4P-9W",
        "outputId": "efcb60bc-08eb-46eb-b028-990afa2dcc25"
      },
      "execution_count": null,
      "outputs": [
        {
          "output_type": "execute_result",
          "data": {
            "text/plain": [
              "[45, 89, 45]"
            ]
          },
          "metadata": {},
          "execution_count": 6
        }
      ]
    },
    {
      "cell_type": "code",
      "source": [
        "l[0:1]"
      ],
      "metadata": {
        "colab": {
          "base_uri": "https://localhost:8080/"
        },
        "id": "aZgq42NzQiWQ",
        "outputId": "d102b5ac-191f-4c14-c74e-48ace9c45239"
      },
      "execution_count": null,
      "outputs": [
        {
          "output_type": "execute_result",
          "data": {
            "text/plain": [
              "[45]"
            ]
          },
          "metadata": {},
          "execution_count": 7
        }
      ]
    },
    {
      "cell_type": "code",
      "source": [
        "# stepsize:\n",
        "l[0:5:2]"
      ],
      "metadata": {
        "colab": {
          "base_uri": "https://localhost:8080/"
        },
        "id": "rhomOe1RQ0Lm",
        "outputId": "5ae56754-b912-4be5-b294-5e5b36bfdc9f"
      },
      "execution_count": null,
      "outputs": [
        {
          "output_type": "execute_result",
          "data": {
            "text/plain": [
              "[45, 45, 56]"
            ]
          },
          "metadata": {},
          "execution_count": 8
        }
      ]
    },
    {
      "cell_type": "code",
      "source": [
        "l[0:5:3]"
      ],
      "metadata": {
        "colab": {
          "base_uri": "https://localhost:8080/"
        },
        "id": "NQq9c-p-Q9FW",
        "outputId": "7923d219-5519-40be-9616-291841219ed0"
      },
      "execution_count": null,
      "outputs": [
        {
          "output_type": "execute_result",
          "data": {
            "text/plain": [
              "[45, 63]"
            ]
          },
          "metadata": {},
          "execution_count": 10
        }
      ]
    },
    {
      "cell_type": "code",
      "source": [
        "#everything from start till last 30th element:\n",
        "\n",
        "l = [i for i in range(100)]"
      ],
      "metadata": {
        "id": "7mr-NyCVRgqF"
      },
      "execution_count": null,
      "outputs": []
    },
    {
      "cell_type": "code",
      "source": [
        "print(l)"
      ],
      "metadata": {
        "colab": {
          "base_uri": "https://localhost:8080/"
        },
        "id": "8_8qSe_vRsx-",
        "outputId": "d432eccc-c62a-4b0b-c1ef-3d8cbaa51412"
      },
      "execution_count": null,
      "outputs": [
        {
          "output_type": "stream",
          "name": "stdout",
          "text": [
            "[0, 1, 2, 3, 4, 5, 6, 7, 8, 9, 10, 11, 12, 13, 14, 15, 16, 17, 18, 19, 20, 21, 22, 23, 24, 25, 26, 27, 28, 29, 30, 31, 32, 33, 34, 35, 36, 37, 38, 39, 40, 41, 42, 43, 44, 45, 46, 47, 48, 49, 50, 51, 52, 53, 54, 55, 56, 57, 58, 59, 60, 61, 62, 63, 64, 65, 66, 67, 68, 69, 70, 71, 72, 73, 74, 75, 76, 77, 78, 79, 80, 81, 82, 83, 84, 85, 86, 87, 88, 89, 90, 91, 92, 93, 94, 95, 96, 97, 98, 99]\n"
          ]
        }
      ]
    },
    {
      "cell_type": "code",
      "source": [
        "l[0:-30:4]"
      ],
      "metadata": {
        "colab": {
          "base_uri": "https://localhost:8080/"
        },
        "id": "lrdqgtc1R7v9",
        "outputId": "03646e1f-55ec-4d9a-f4d3-e3811340db99"
      },
      "execution_count": null,
      "outputs": [
        {
          "output_type": "execute_result",
          "data": {
            "text/plain": [
              "[0, 4, 8, 12, 16, 20, 24, 28, 32, 36, 40, 44, 48, 52, 56, 60, 64, 68]"
            ]
          },
          "metadata": {},
          "execution_count": 17
        }
      ]
    },
    {
      "cell_type": "code",
      "source": [
        "# len() function:\n",
        "# to calculate length of the list\n",
        "\n",
        "len(l)"
      ],
      "metadata": {
        "colab": {
          "base_uri": "https://localhost:8080/"
        },
        "id": "Wb_SIhIgRJLX",
        "outputId": "854e9e7e-aea8-48ad-8481-55cca4cf3533"
      },
      "execution_count": null,
      "outputs": [
        {
          "output_type": "execute_result",
          "data": {
            "text/plain": [
              "5"
            ]
          },
          "metadata": {},
          "execution_count": 11
        }
      ]
    },
    {
      "cell_type": "code",
      "source": [],
      "metadata": {
        "id": "O-5MQZAxRJHe"
      },
      "execution_count": null,
      "outputs": []
    },
    {
      "cell_type": "code",
      "source": [
        "# nested lists :\n",
        "\n",
        "nested_list = [0, 4, 8, 12, 16, 20, 24, 28, [\"python\",\"class\",[\"Kiran\", \"Thorat\"]]]"
      ],
      "metadata": {
        "id": "zGP_lA78RGye"
      },
      "execution_count": null,
      "outputs": []
    },
    {
      "cell_type": "code",
      "source": [
        "len(nested_list)"
      ],
      "metadata": {
        "colab": {
          "base_uri": "https://localhost:8080/"
        },
        "id": "30fnxWyuTGRh",
        "outputId": "e53607be-3374-44d7-c01b-cc01cb469003"
      },
      "execution_count": null,
      "outputs": [
        {
          "output_type": "execute_result",
          "data": {
            "text/plain": [
              "9"
            ]
          },
          "metadata": {},
          "execution_count": 19
        }
      ]
    },
    {
      "cell_type": "code",
      "source": [
        "nested_list[-1]"
      ],
      "metadata": {
        "colab": {
          "base_uri": "https://localhost:8080/"
        },
        "id": "gRNH26JiTIiu",
        "outputId": "a5ee6c29-5371-4f0f-80a7-5237698d0213"
      },
      "execution_count": null,
      "outputs": [
        {
          "output_type": "execute_result",
          "data": {
            "text/plain": [
              "['python', 'class', ['Kiran', 'Thorat']]"
            ]
          },
          "metadata": {},
          "execution_count": 20
        }
      ]
    },
    {
      "cell_type": "code",
      "source": [
        "nested_list[-1][0]"
      ],
      "metadata": {
        "colab": {
          "base_uri": "https://localhost:8080/",
          "height": 35
        },
        "id": "PD4JgabMTPzd",
        "outputId": "00169459-ce03-4dd7-ee8e-5687e925aedb"
      },
      "execution_count": null,
      "outputs": [
        {
          "output_type": "execute_result",
          "data": {
            "text/plain": [
              "'python'"
            ],
            "application/vnd.google.colaboratory.intrinsic+json": {
              "type": "string"
            }
          },
          "metadata": {},
          "execution_count": 21
        }
      ]
    },
    {
      "cell_type": "code",
      "source": [
        "nested_list[-1][-1]"
      ],
      "metadata": {
        "colab": {
          "base_uri": "https://localhost:8080/"
        },
        "id": "RVt-aEE8TSos",
        "outputId": "ad8cd205-3639-49b6-b145-e79aca322821"
      },
      "execution_count": null,
      "outputs": [
        {
          "output_type": "execute_result",
          "data": {
            "text/plain": [
              "['Kiran', 'Thorat']"
            ]
          },
          "metadata": {},
          "execution_count": 22
        }
      ]
    },
    {
      "cell_type": "code",
      "source": [
        "nested_list[-1][-1][0]"
      ],
      "metadata": {
        "colab": {
          "base_uri": "https://localhost:8080/",
          "height": 35
        },
        "id": "QNLpICMqTgL8",
        "outputId": "0cc8698e-1a3a-41da-9a6c-4add904715d1"
      },
      "execution_count": null,
      "outputs": [
        {
          "output_type": "execute_result",
          "data": {
            "text/plain": [
              "'Kiran'"
            ],
            "application/vnd.google.colaboratory.intrinsic+json": {
              "type": "string"
            }
          },
          "metadata": {},
          "execution_count": 23
        }
      ]
    },
    {
      "cell_type": "code",
      "source": [
        "n = [ 1,5,9,{14,56,89}]"
      ],
      "metadata": {
        "id": "Az2VF-XeT8a1"
      },
      "execution_count": null,
      "outputs": []
    },
    {
      "cell_type": "code",
      "source": [
        "#fetch the 56 value\n",
        "\n",
        "n[-1][1]"
      ],
      "metadata": {
        "colab": {
          "base_uri": "https://localhost:8080/",
          "height": 176
        },
        "id": "VVB2XvhIUGfD",
        "outputId": "15c719ac-8370-4cf3-ee02-bb18d0caf265"
      },
      "execution_count": null,
      "outputs": [
        {
          "output_type": "error",
          "ename": "TypeError",
          "evalue": "'set' object is not subscriptable",
          "traceback": [
            "\u001b[0;31m---------------------------------------------------------------------------\u001b[0m",
            "\u001b[0;31mTypeError\u001b[0m                                 Traceback (most recent call last)",
            "\u001b[0;32m<ipython-input-29-5e2d3aa64e0d>\u001b[0m in \u001b[0;36m<cell line: 0>\u001b[0;34m()\u001b[0m\n\u001b[1;32m      1\u001b[0m \u001b[0;31m#fetch the 56 value\u001b[0m\u001b[0;34m\u001b[0m\u001b[0;34m\u001b[0m\u001b[0m\n\u001b[1;32m      2\u001b[0m \u001b[0;34m\u001b[0m\u001b[0m\n\u001b[0;32m----> 3\u001b[0;31m \u001b[0mn\u001b[0m\u001b[0;34m[\u001b[0m\u001b[0;34m-\u001b[0m\u001b[0;36m1\u001b[0m\u001b[0;34m]\u001b[0m\u001b[0;34m[\u001b[0m\u001b[0;36m1\u001b[0m\u001b[0;34m]\u001b[0m\u001b[0;34m\u001b[0m\u001b[0;34m\u001b[0m\u001b[0m\n\u001b[0m",
            "\u001b[0;31mTypeError\u001b[0m: 'set' object is not subscriptable"
          ]
        }
      ]
    },
    {
      "cell_type": "code",
      "source": [
        "list(n[-1])[0]"
      ],
      "metadata": {
        "colab": {
          "base_uri": "https://localhost:8080/"
        },
        "id": "Ya03XsLWUfjs",
        "outputId": "06272025-c424-4329-ed7f-16f072e9c2b2"
      },
      "execution_count": null,
      "outputs": [
        {
          "output_type": "execute_result",
          "data": {
            "text/plain": [
              "56"
            ]
          },
          "metadata": {},
          "execution_count": 33
        }
      ]
    },
    {
      "cell_type": "code",
      "source": [
        "s = {58,56,89,25,12}"
      ],
      "metadata": {
        "id": "cqRKsBv7U1-s"
      },
      "execution_count": null,
      "outputs": []
    },
    {
      "cell_type": "code",
      "source": [
        "m = list(s)\n"
      ],
      "metadata": {
        "colab": {
          "base_uri": "https://localhost:8080/"
        },
        "id": "31OL5CHpU6Xr",
        "outputId": "ac6336b7-41c5-42f9-eb8c-52334a16dfc8"
      },
      "execution_count": null,
      "outputs": [
        {
          "output_type": "execute_result",
          "data": {
            "text/plain": [
              "[56, 89, 58, 12, 25]"
            ]
          },
          "metadata": {},
          "execution_count": 36
        }
      ]
    },
    {
      "cell_type": "code",
      "source": [
        "# item assignment:\n",
        "\n",
        "nested_list = [0, 4, 8, 12, 16, 20, 24, 28, [\"python\",\"class\",[\"Kiran\", \"Thorat\"]]]\n"
      ],
      "metadata": {
        "id": "W6g36o_qU7ED"
      },
      "execution_count": null,
      "outputs": []
    },
    {
      "cell_type": "code",
      "source": [
        "nested_list[1] = \"Sachin\""
      ],
      "metadata": {
        "id": "LqRtsLCXV000"
      },
      "execution_count": null,
      "outputs": []
    },
    {
      "cell_type": "code",
      "source": [
        "nested_list"
      ],
      "metadata": {
        "colab": {
          "base_uri": "https://localhost:8080/"
        },
        "id": "7AmLoeDpV4tC",
        "outputId": "2ab0f64b-3d77-46bb-8a24-191b5cefbb87"
      },
      "execution_count": null,
      "outputs": [
        {
          "output_type": "execute_result",
          "data": {
            "text/plain": [
              "[0, 'Sachin', 8, 12, 16, 20, 24, 28, ['python', 'class', ['Kiran', 'Thorat']]]"
            ]
          },
          "metadata": {},
          "execution_count": 44
        }
      ]
    },
    {
      "cell_type": "code",
      "source": [
        "\n",
        "nested_tuple = (0, 4, 8, 12, 16, 20, 24, 28, [\"python\",\"class\",[\"Kiran\", \"Thorat\"]])"
      ],
      "metadata": {
        "id": "O04njgPxWD1L"
      },
      "execution_count": null,
      "outputs": []
    },
    {
      "cell_type": "code",
      "source": [
        "nested_tuple\n"
      ],
      "metadata": {
        "colab": {
          "base_uri": "https://localhost:8080/"
        },
        "id": "nQXAM8IJWd7i",
        "outputId": "243e338d-b145-4a49-af92-903da727d814"
      },
      "execution_count": null,
      "outputs": [
        {
          "output_type": "execute_result",
          "data": {
            "text/plain": [
              "(0, 4, 8, 12, 16, 20, 24, 28, ['python', 'Python class', ['Kiran', 'Thorat']])"
            ]
          },
          "metadata": {},
          "execution_count": 49
        }
      ]
    },
    {
      "cell_type": "code",
      "source": [
        "nested_tuple[1] = \"Sachin\""
      ],
      "metadata": {
        "colab": {
          "base_uri": "https://localhost:8080/",
          "height": 141
        },
        "id": "nvAbw1NzWIvz",
        "outputId": "5635ef20-096a-4fa5-80f9-146dd01032ba"
      },
      "execution_count": null,
      "outputs": [
        {
          "output_type": "error",
          "ename": "TypeError",
          "evalue": "'tuple' object does not support item assignment",
          "traceback": [
            "\u001b[0;31m---------------------------------------------------------------------------\u001b[0m",
            "\u001b[0;31mTypeError\u001b[0m                                 Traceback (most recent call last)",
            "\u001b[0;32m<ipython-input-47-857e33e9687f>\u001b[0m in \u001b[0;36m<cell line: 0>\u001b[0;34m()\u001b[0m\n\u001b[0;32m----> 1\u001b[0;31m \u001b[0mnested_tuple\u001b[0m\u001b[0;34m[\u001b[0m\u001b[0;36m1\u001b[0m\u001b[0;34m]\u001b[0m \u001b[0;34m=\u001b[0m \u001b[0;34m\"Sachin\"\u001b[0m\u001b[0;34m\u001b[0m\u001b[0;34m\u001b[0m\u001b[0m\n\u001b[0m",
            "\u001b[0;31mTypeError\u001b[0m: 'tuple' object does not support item assignment"
          ]
        }
      ]
    },
    {
      "cell_type": "code",
      "source": [
        "nested_tuple[-1][1] = \"Python class\"\n",
        "\n",
        "# as we already know that we are not able to modify the tuple by replacing element of tuple ex nested_tuple[1]=  \"SACHIN\"\n",
        "# but in above code technically I am editing/working inside the element of tuple ,\n",
        "# so technically I am not modifying the tuple"
      ],
      "metadata": {
        "id": "UmLfTU2nW6wQ"
      },
      "execution_count": null,
      "outputs": []
    },
    {
      "cell_type": "code",
      "source": [
        "l = [i for i in range(56) if i%2 == 0]"
      ],
      "metadata": {
        "id": "h7dzL1s6Xc56"
      },
      "execution_count": null,
      "outputs": []
    },
    {
      "cell_type": "code",
      "source": [
        "print(l)"
      ],
      "metadata": {
        "colab": {
          "base_uri": "https://localhost:8080/"
        },
        "id": "wJQNhAivXj9i",
        "outputId": "8518d7ac-1c10-4412-995f-6f2a21643d3d"
      },
      "execution_count": null,
      "outputs": [
        {
          "output_type": "stream",
          "name": "stdout",
          "text": [
            "[0, 2, 4, 6, 8, 10, 12, 14, 16, 18, 20, 22, 24, 26, 28, 30, 32, 34, 36, 38, 40, 42, 44, 46, 48, 50, 52, 54]\n"
          ]
        }
      ]
    },
    {
      "cell_type": "code",
      "source": [
        "# replace ABCD with ur name\n",
        "hw_list = [0, 2, 4, 6, 8, 10, 12, 14, 16, 18, 20, 22, 24, 26, 28, 30, 32, 34, 36, 38, 40, 42, 44, 46, 48, 50, 52, 54,\"SACHIN TIWARI\",{\"class\": \"Python\", \"student\": [\"ABCD\",\"Gayatri\"]}]"
      ],
      "metadata": {
        "id": "f64ZHznkXkWp"
      },
      "execution_count": null,
      "outputs": []
    },
    {
      "cell_type": "code",
      "source": [
        "d = {\"class\": \"Python\", \"student\": \"gfdhfg\"}\n",
        "\n",
        "d[\"class\"] = \"New_python\""
      ],
      "metadata": {
        "id": "qnsTwguUYImp"
      },
      "execution_count": null,
      "outputs": []
    },
    {
      "cell_type": "code",
      "source": [
        "d"
      ],
      "metadata": {
        "colab": {
          "base_uri": "https://localhost:8080/"
        },
        "id": "za8Tl_LnYTYa",
        "outputId": "fc795619-8a0d-48e4-f8a2-bd836fae95d0"
      },
      "execution_count": null,
      "outputs": [
        {
          "output_type": "execute_result",
          "data": {
            "text/plain": [
              "{'class': 'New_python', 'student': 'gfdhfg'}"
            ]
          },
          "metadata": {},
          "execution_count": 58
        }
      ]
    },
    {
      "cell_type": "code",
      "source": [],
      "metadata": {
        "id": "x-sIXrw9YT2T"
      },
      "execution_count": null,
      "outputs": []
    },
    {
      "cell_type": "markdown",
      "source": [
        "**DAY 3:**"
      ],
      "metadata": {
        "id": "1jPh0W7eXYHP"
      }
    },
    {
      "cell_type": "code",
      "source": [
        "#slicing :"
      ],
      "metadata": {
        "id": "IzSPe532Y2pN"
      },
      "execution_count": null,
      "outputs": []
    },
    {
      "cell_type": "code",
      "source": [
        "# replace ABCD with ur name\n",
        "hw_list = [0, 2, 4, 6, 8, 10, 12, 14, 16, 18, 20, 22, 24, 26, 28, 30, 32, 34, 36, 38, 40, 42, 44, 46, 48, 50, 52, 54,\"SACHIN TIWARI\",{\"class\": \"Python\", \"student\": [\"ABCD\",\"Gayatri\"]}]"
      ],
      "metadata": {
        "id": "Rf_PuoRDY2jM"
      },
      "execution_count": null,
      "outputs": []
    },
    {
      "cell_type": "code",
      "source": [
        "hw_list[:3]   # if we are not specifing the start point it will take index 0 by default"
      ],
      "metadata": {
        "colab": {
          "base_uri": "https://localhost:8080/"
        },
        "id": "JgCJGJeaY2Zm",
        "outputId": "3588cad3-18a7-4898-d397-25ed1adb30b8"
      },
      "execution_count": null,
      "outputs": [
        {
          "output_type": "execute_result",
          "data": {
            "text/plain": [
              "[0, 2, 4]"
            ]
          },
          "metadata": {},
          "execution_count": 2
        }
      ]
    },
    {
      "cell_type": "code",
      "source": [
        "print(hw_list[:])   # if we are not specifing the start point and endpoint  it will take index 0 and len(list) resp by default, by default step size is  1"
      ],
      "metadata": {
        "colab": {
          "base_uri": "https://localhost:8080/"
        },
        "id": "Sy992w0rZey1",
        "outputId": "17b61a32-150f-458a-e863-4c50a5ce8a9c"
      },
      "execution_count": null,
      "outputs": [
        {
          "output_type": "stream",
          "name": "stdout",
          "text": [
            "[0, 2, 4, 6, 8, 10, 12, 14, 16, 18, 20, 22, 24, 26, 28, 30, 32, 34, 36, 38, 40, 42, 44, 46, 48, 50, 52, 54, 'SACHIN TIWARI', {'class': 'Python', 'student': ['ABCD', 'Gayatri']}]\n"
          ]
        }
      ]
    },
    {
      "cell_type": "code",
      "source": [
        "hw_list[-1:-6:-1]"
      ],
      "metadata": {
        "colab": {
          "base_uri": "https://localhost:8080/"
        },
        "id": "PIp3Ck7ZZewH",
        "outputId": "be792b10-3b56-454a-90c6-c66dcb5ef792"
      },
      "execution_count": null,
      "outputs": [
        {
          "output_type": "execute_result",
          "data": {
            "text/plain": [
              "[{'class': 'Python', 'student': ['ABCD', 'Gayatri']},\n",
              " 'SACHIN TIWARI',\n",
              " 54,\n",
              " 52,\n",
              " 50]"
            ]
          },
          "metadata": {},
          "execution_count": 6
        }
      ]
    },
    {
      "cell_type": "code",
      "source": [
        "l = [1,5,9,8]"
      ],
      "metadata": {
        "id": "4quwow-YarQj"
      },
      "execution_count": null,
      "outputs": []
    },
    {
      "cell_type": "markdown",
      "source": [
        "**# reverse the list**"
      ],
      "metadata": {
        "id": "ku5x67GWbt2F"
      }
    },
    {
      "cell_type": "code",
      "source": [
        "l[-1:-5:-1]"
      ],
      "metadata": {
        "colab": {
          "base_uri": "https://localhost:8080/"
        },
        "id": "V5wx6Z3harOM",
        "outputId": "f81686a7-4aa2-4fc6-904c-a0fa8bc0f87c"
      },
      "execution_count": null,
      "outputs": [
        {
          "output_type": "execute_result",
          "data": {
            "text/plain": [
              "[8, 9, 5, 1]"
            ]
          },
          "metadata": {},
          "execution_count": 11
        }
      ]
    },
    {
      "cell_type": "code",
      "source": [
        "l[::-1]"
      ],
      "metadata": {
        "colab": {
          "base_uri": "https://localhost:8080/"
        },
        "id": "1MdpzlsTXcvu",
        "outputId": "34b598fd-7d44-4df2-9ada-a90a778b3df6"
      },
      "execution_count": null,
      "outputs": [
        {
          "output_type": "execute_result",
          "data": {
            "text/plain": [
              "[8, 9, 5, 1]"
            ]
          },
          "metadata": {},
          "execution_count": 12
        }
      ]
    },
    {
      "cell_type": "code",
      "source": [
        "l[-1:-(len(l)+1):-1]"
      ],
      "metadata": {
        "colab": {
          "base_uri": "https://localhost:8080/"
        },
        "id": "haOsUL3MbNDT",
        "outputId": "0b1c15cc-940a-4d1e-c3ee-1f24a67ed6ac"
      },
      "execution_count": null,
      "outputs": [
        {
          "output_type": "execute_result",
          "data": {
            "text/plain": [
              "[8, 9, 5, 1]"
            ]
          },
          "metadata": {},
          "execution_count": 15
        }
      ]
    },
    {
      "cell_type": "code",
      "source": [
        "l.reverse()"
      ],
      "metadata": {
        "id": "dcCWl3lkbM6z"
      },
      "execution_count": null,
      "outputs": []
    },
    {
      "cell_type": "code",
      "source": [
        "print(l)"
      ],
      "metadata": {
        "colab": {
          "base_uri": "https://localhost:8080/"
        },
        "id": "BKPjoHWQb0AS",
        "outputId": "3f42a1c1-acbe-4295-8c33-9b2c7afaa12f"
      },
      "execution_count": null,
      "outputs": [
        {
          "output_type": "stream",
          "name": "stdout",
          "text": [
            "[8, 9, 5, 1]\n"
          ]
        }
      ]
    },
    {
      "cell_type": "code",
      "source": [
        "#inserting element into list :\n",
        "\n",
        "# u can add any datatype using below methods :\n",
        "\n",
        "new_list = [1,5,8,9]\n",
        "\n",
        "#append :\n",
        "#to add object (any datatype object) in the end of the list\n",
        "# not mandatorily iterable object\n",
        "\n",
        "new_list.append(\"New_element\")\n",
        "\n",
        "new_list.append(3)\n",
        "\n",
        "# item_assignment:\n",
        "new_list[1] = 1000\n",
        "\n",
        "#insert :\n",
        "#to add any object (any datatype object) at a perticular position\n",
        "# not mandatorily iterable object\n",
        "\n",
        "\n",
        "new_list.insert(1, \"new_element\")"
      ],
      "metadata": {
        "id": "ivbPKP3bXbdH"
      },
      "execution_count": null,
      "outputs": []
    },
    {
      "cell_type": "code",
      "source": [
        "#append():\n",
        "l = [1,5,9,8]\n",
        "\n",
        "l.append(25)\n"
      ],
      "metadata": {
        "id": "yVqYiYjOclEF"
      },
      "execution_count": null,
      "outputs": []
    },
    {
      "cell_type": "code",
      "source": [
        "l.append(\"it will add this at eol\")"
      ],
      "metadata": {
        "id": "E7ZO4gJmcyGb"
      },
      "execution_count": null,
      "outputs": []
    },
    {
      "cell_type": "code",
      "source": [
        "l"
      ],
      "metadata": {
        "colab": {
          "base_uri": "https://localhost:8080/"
        },
        "id": "cs4UJPVUcpte",
        "outputId": "09155cc4-cacb-46fc-c9ce-182c0fd5bccf"
      },
      "execution_count": null,
      "outputs": [
        {
          "output_type": "execute_result",
          "data": {
            "text/plain": [
              "[1, 5, 9, 8, 25, 'it will add this at eol']"
            ]
          },
          "metadata": {},
          "execution_count": 21
        }
      ]
    },
    {
      "cell_type": "code",
      "source": [
        "# insert():\n",
        "l.insert(1,\"Data_engg_with_us\")"
      ],
      "metadata": {
        "id": "EhFK4HEMcq-h"
      },
      "execution_count": null,
      "outputs": []
    },
    {
      "cell_type": "code",
      "source": [
        "l"
      ],
      "metadata": {
        "colab": {
          "base_uri": "https://localhost:8080/"
        },
        "id": "js549Pj1dRHL",
        "outputId": "c25cfddf-059c-477a-e719-f2841cf10c8b"
      },
      "execution_count": null,
      "outputs": [
        {
          "output_type": "execute_result",
          "data": {
            "text/plain": [
              "[1,\n",
              " 'Data_engg_with_us',\n",
              " 'Data_engg_with_us',\n",
              " 5,\n",
              " 9,\n",
              " 8,\n",
              " 25,\n",
              " 'it will add this at eol']"
            ]
          },
          "metadata": {},
          "execution_count": 25
        }
      ]
    },
    {
      "cell_type": "code",
      "source": [
        "# item assignment:\n",
        "l[2]= \"2025\"\n"
      ],
      "metadata": {
        "id": "n_fMGLGcdRcg"
      },
      "execution_count": null,
      "outputs": []
    },
    {
      "cell_type": "code",
      "source": [
        "l"
      ],
      "metadata": {
        "colab": {
          "base_uri": "https://localhost:8080/"
        },
        "id": "b8VBjxgAdoFa",
        "outputId": "cfdc73e1-3b38-4fa9-a150-872794794442"
      },
      "execution_count": null,
      "outputs": [
        {
          "output_type": "execute_result",
          "data": {
            "text/plain": [
              "[1, 'Data_engg_with_us', '2025', 5, 9, 8, 25, 'it will add this at eol']"
            ]
          },
          "metadata": {},
          "execution_count": 27
        }
      ]
    },
    {
      "cell_type": "code",
      "source": [
        "l.append(set([i for i in range(10)]))"
      ],
      "metadata": {
        "id": "7FBudcXmdobM"
      },
      "execution_count": null,
      "outputs": []
    },
    {
      "cell_type": "code",
      "source": [
        "l"
      ],
      "metadata": {
        "colab": {
          "base_uri": "https://localhost:8080/"
        },
        "id": "0ANbZTbnd87S",
        "outputId": "090a495d-e144-48e5-c90d-a0464f3d1e91"
      },
      "execution_count": null,
      "outputs": [
        {
          "output_type": "execute_result",
          "data": {
            "text/plain": [
              "[1,\n",
              " 'Data_engg_with_us',\n",
              " '2025',\n",
              " 5,\n",
              " 9,\n",
              " 8,\n",
              " 25,\n",
              " 'it will add this at eol',\n",
              " [0, 1, 2, 3, 4, 5, 6, 7, 8, 9],\n",
              " {0, 1, 2, 3, 4, 5, 6, 7, 8, 9}]"
            ]
          },
          "metadata": {},
          "execution_count": 31
        }
      ]
    },
    {
      "cell_type": "code",
      "source": [
        "l.append({'l':\"gh\"})"
      ],
      "metadata": {
        "id": "KAr1Wxxed9P1"
      },
      "execution_count": null,
      "outputs": []
    },
    {
      "cell_type": "code",
      "source": [
        "l"
      ],
      "metadata": {
        "colab": {
          "base_uri": "https://localhost:8080/"
        },
        "id": "di4GPurNeJYK",
        "outputId": "9583d12a-42e9-449e-a5c0-d5d508d11d3f"
      },
      "execution_count": null,
      "outputs": [
        {
          "output_type": "execute_result",
          "data": {
            "text/plain": [
              "[1,\n",
              " 'Data_engg_with_us',\n",
              " '2025',\n",
              " 5,\n",
              " 9,\n",
              " 8,\n",
              " 25,\n",
              " 'it will add this at eol',\n",
              " [0, 1, 2, 3, 4, 5, 6, 7, 8, 9],\n",
              " {0, 1, 2, 3, 4, 5, 6, 7, 8, 9},\n",
              " {'l': 'gh'}]"
            ]
          },
          "metadata": {},
          "execution_count": 33
        }
      ]
    },
    {
      "cell_type": "code",
      "source": [
        "l1 = [\"a\",\"b\",\"c\",\"d\"]\n",
        "l2 = [1,2,3,4]\n",
        "\n",
        "# [\"a\",\"b\",\"c\",\"d\",1,2,3,4]"
      ],
      "metadata": {
        "id": "4d8iO-eieJ4U"
      },
      "execution_count": null,
      "outputs": []
    },
    {
      "cell_type": "code",
      "source": [
        "l1.append(l2)"
      ],
      "metadata": {
        "id": "RRjmWngQecLJ"
      },
      "execution_count": null,
      "outputs": []
    },
    {
      "cell_type": "code",
      "source": [
        "l1"
      ],
      "metadata": {
        "colab": {
          "base_uri": "https://localhost:8080/"
        },
        "id": "9IEH8QoVefER",
        "outputId": "903ada23-02bc-4b8f-832c-935ae51d3ad0"
      },
      "execution_count": null,
      "outputs": [
        {
          "output_type": "execute_result",
          "data": {
            "text/plain": [
              "['a', 'b', 'c', 'd', [1, 2, 3, 4]]"
            ]
          },
          "metadata": {},
          "execution_count": 37
        }
      ]
    },
    {
      "cell_type": "code",
      "source": [
        "# extend():\n",
        "\n",
        "# adds element from l2 into l1\n",
        "# following seq add\n",
        "# it will always expected to pass iterable object in place l2\n",
        "\n",
        "l1.extend(l2)\n"
      ],
      "metadata": {
        "id": "tHnLKyjdefjy"
      },
      "execution_count": null,
      "outputs": []
    },
    {
      "cell_type": "code",
      "source": [
        "l1"
      ],
      "metadata": {
        "colab": {
          "base_uri": "https://localhost:8080/"
        },
        "id": "ZQ41_znLeya5",
        "outputId": "2550ff66-9b58-48ed-ed3c-497868b236d6"
      },
      "execution_count": null,
      "outputs": [
        {
          "output_type": "execute_result",
          "data": {
            "text/plain": [
              "['a', 'b', 'c', 'd', 1, 2, 3, 4]"
            ]
          },
          "metadata": {},
          "execution_count": 40
        }
      ]
    },
    {
      "cell_type": "code",
      "source": [
        "l2.extend(l1)"
      ],
      "metadata": {
        "id": "9TJbfENyey_f"
      },
      "execution_count": null,
      "outputs": []
    },
    {
      "cell_type": "code",
      "source": [
        "l2"
      ],
      "metadata": {
        "colab": {
          "base_uri": "https://localhost:8080/"
        },
        "id": "50XRHiVvfKW5",
        "outputId": "56fd6ce5-a216-4c70-a1e4-bc77d9ae63f3"
      },
      "execution_count": null,
      "outputs": [
        {
          "output_type": "execute_result",
          "data": {
            "text/plain": [
              "[1, 2, 3, 4, 'a', 'b', 'c', 'd']"
            ]
          },
          "metadata": {},
          "execution_count": 43
        }
      ]
    },
    {
      "cell_type": "code",
      "source": [
        "l1.extend(0)    # we can only pass iterable object in place of l2"
      ],
      "metadata": {
        "colab": {
          "base_uri": "https://localhost:8080/",
          "height": 141
        },
        "id": "goNRT58CfMX1",
        "outputId": "70455c0d-36b9-4b0f-8c5a-6cb67a5ab81e"
      },
      "execution_count": null,
      "outputs": [
        {
          "output_type": "error",
          "ename": "TypeError",
          "evalue": "'int' object is not iterable",
          "traceback": [
            "\u001b[0;31m---------------------------------------------------------------------------\u001b[0m",
            "\u001b[0;31mTypeError\u001b[0m                                 Traceback (most recent call last)",
            "\u001b[0;32m<ipython-input-44-244bef28e83f>\u001b[0m in \u001b[0;36m<cell line: 0>\u001b[0;34m()\u001b[0m\n\u001b[0;32m----> 1\u001b[0;31m \u001b[0ml1\u001b[0m\u001b[0;34m.\u001b[0m\u001b[0mextend\u001b[0m\u001b[0;34m(\u001b[0m\u001b[0;36m0\u001b[0m\u001b[0;34m)\u001b[0m\u001b[0;34m\u001b[0m\u001b[0;34m\u001b[0m\u001b[0m\n\u001b[0m",
            "\u001b[0;31mTypeError\u001b[0m: 'int' object is not iterable"
          ]
        }
      ]
    },
    {
      "cell_type": "code",
      "source": [
        "# removing elemnts from list :\n",
        "l = [\"ada\", 1,25,12.3,1]"
      ],
      "metadata": {
        "id": "HWGYCGMPbBJa"
      },
      "execution_count": null,
      "outputs": []
    },
    {
      "cell_type": "code",
      "source": [
        "# remove:\n",
        "# when you want to remove perticular element\n",
        "# if element is duplicated it will remove first occurance\n",
        "# if the elemnt which u wanna remove is not there it will through an error\n",
        "l.remove(1)"
      ],
      "metadata": {
        "id": "5gih7ybPbBDv"
      },
      "execution_count": null,
      "outputs": []
    },
    {
      "cell_type": "code",
      "source": [
        "l"
      ],
      "metadata": {
        "colab": {
          "base_uri": "https://localhost:8080/"
        },
        "id": "0PYfAbrMbA8Y",
        "outputId": "ca92a4ec-9c57-4f5a-f5a0-da5565c3dc48"
      },
      "execution_count": null,
      "outputs": [
        {
          "output_type": "execute_result",
          "data": {
            "text/plain": [
              "['ada', 25, 12.3, 1]"
            ]
          },
          "metadata": {},
          "execution_count": 8
        }
      ]
    },
    {
      "cell_type": "code",
      "source": [
        "l.remove(\"DATA\")"
      ],
      "metadata": {
        "colab": {
          "base_uri": "https://localhost:8080/",
          "height": 141
        },
        "id": "8eHp5KwDbs-B",
        "outputId": "15fd8780-c5c7-4967-8815-22755b6d0dca"
      },
      "execution_count": null,
      "outputs": [
        {
          "output_type": "error",
          "ename": "ValueError",
          "evalue": "list.remove(x): x not in list",
          "traceback": [
            "\u001b[0;31m---------------------------------------------------------------------------\u001b[0m",
            "\u001b[0;31mValueError\u001b[0m                                Traceback (most recent call last)",
            "\u001b[0;32m<ipython-input-9-641ca0989921>\u001b[0m in \u001b[0;36m<cell line: 0>\u001b[0;34m()\u001b[0m\n\u001b[0;32m----> 1\u001b[0;31m \u001b[0ml\u001b[0m\u001b[0;34m.\u001b[0m\u001b[0mremove\u001b[0m\u001b[0;34m(\u001b[0m\u001b[0;34m\"DATA\"\u001b[0m\u001b[0;34m)\u001b[0m\u001b[0;34m\u001b[0m\u001b[0;34m\u001b[0m\u001b[0m\n\u001b[0m",
            "\u001b[0;31mValueError\u001b[0m: list.remove(x): x not in list"
          ]
        }
      ]
    },
    {
      "cell_type": "code",
      "source": [
        "#delete\n",
        "\n",
        "# when you want to delete element sitting at particular index\n",
        "\n",
        "del l[0]"
      ],
      "metadata": {
        "id": "tLbpXlr0b_-j"
      },
      "execution_count": null,
      "outputs": []
    },
    {
      "cell_type": "code",
      "source": [
        "l"
      ],
      "metadata": {
        "colab": {
          "base_uri": "https://localhost:8080/"
        },
        "id": "pRHhpBrFb_dI",
        "outputId": "d82678f8-19e8-477f-d906-de20b90b7f7b"
      },
      "execution_count": null,
      "outputs": [
        {
          "output_type": "execute_result",
          "data": {
            "text/plain": [
              "[25, 12.3, 1]"
            ]
          },
          "metadata": {},
          "execution_count": 11
        }
      ]
    },
    {
      "cell_type": "code",
      "source": [
        "# pop\n",
        "\n",
        "# it will remove the last element\n",
        "\n",
        "l = [\"ada\", 1,25,12.3,1]"
      ],
      "metadata": {
        "id": "RKh7QItYcdps"
      },
      "execution_count": null,
      "outputs": []
    },
    {
      "cell_type": "code",
      "source": [
        "l.pop()"
      ],
      "metadata": {
        "colab": {
          "base_uri": "https://localhost:8080/"
        },
        "id": "auiQzfxDcowJ",
        "outputId": "79ae535e-258f-41a6-a74d-abf5bfb41f6e"
      },
      "execution_count": null,
      "outputs": [
        {
          "output_type": "execute_result",
          "data": {
            "text/plain": [
              "1"
            ]
          },
          "metadata": {},
          "execution_count": 13
        }
      ]
    },
    {
      "cell_type": "code",
      "source": [
        "l"
      ],
      "metadata": {
        "colab": {
          "base_uri": "https://localhost:8080/"
        },
        "id": "9WOufDntcuJ4",
        "outputId": "6408a298-6c2d-42fc-b6ab-1e7fa8da28db"
      },
      "execution_count": null,
      "outputs": [
        {
          "output_type": "execute_result",
          "data": {
            "text/plain": [
              "['ada', 1, 25, 12.3]"
            ]
          },
          "metadata": {},
          "execution_count": 14
        }
      ]
    },
    {
      "cell_type": "code",
      "source": [
        "l.pop(2)"
      ],
      "metadata": {
        "colab": {
          "base_uri": "https://localhost:8080/"
        },
        "id": "XIRZSGqec1ZG",
        "outputId": "5a8ec5d5-a970-4172-edd0-614c35740224"
      },
      "execution_count": null,
      "outputs": [
        {
          "output_type": "execute_result",
          "data": {
            "text/plain": [
              "25"
            ]
          },
          "metadata": {},
          "execution_count": 15
        }
      ]
    },
    {
      "cell_type": "code",
      "source": [
        "l"
      ],
      "metadata": {
        "colab": {
          "base_uri": "https://localhost:8080/"
        },
        "id": "zILZa0VFc7rs",
        "outputId": "dd14dfe1-4416-4380-e6ba-d4e461b66325"
      },
      "execution_count": null,
      "outputs": [
        {
          "output_type": "execute_result",
          "data": {
            "text/plain": [
              "['ada', 1, 12.3]"
            ]
          },
          "metadata": {},
          "execution_count": 16
        }
      ]
    },
    {
      "cell_type": "code",
      "source": [
        "l.reverse()"
      ],
      "metadata": {
        "id": "sLMDfhbgdUzP"
      },
      "execution_count": null,
      "outputs": []
    },
    {
      "cell_type": "code",
      "source": [
        "l"
      ],
      "metadata": {
        "colab": {
          "base_uri": "https://localhost:8080/"
        },
        "id": "EsJX_SNUdc21",
        "outputId": "7152810a-2628-4583-bba5-e446bcb6faf4"
      },
      "execution_count": null,
      "outputs": [
        {
          "output_type": "execute_result",
          "data": {
            "text/plain": [
              "[12.3, 1, 'ada']"
            ]
          },
          "metadata": {},
          "execution_count": 18
        }
      ]
    },
    {
      "cell_type": "code",
      "source": [
        "l[::-1]"
      ],
      "metadata": {
        "colab": {
          "base_uri": "https://localhost:8080/"
        },
        "id": "StCN3eCudgT9",
        "outputId": "c8c32b6d-37b6-40f9-9894-fccdc2335ad4"
      },
      "execution_count": null,
      "outputs": [
        {
          "output_type": "execute_result",
          "data": {
            "text/plain": [
              "['ada', 1, 12.3]"
            ]
          },
          "metadata": {},
          "execution_count": 19
        }
      ]
    },
    {
      "cell_type": "code",
      "source": [
        "l"
      ],
      "metadata": {
        "colab": {
          "base_uri": "https://localhost:8080/"
        },
        "id": "sfnHIn92djpP",
        "outputId": "489bcfd2-e68f-40c7-dd8b-c1b080074062"
      },
      "execution_count": null,
      "outputs": [
        {
          "output_type": "execute_result",
          "data": {
            "text/plain": [
              "['ada', 1, 25, 12.3, 1]"
            ]
          },
          "metadata": {},
          "execution_count": 25
        }
      ]
    },
    {
      "cell_type": "code",
      "source": [
        "# sort :\n",
        "# inbuilt fun to sort the list\n",
        "# work only whenever your all elements have same datatype(numeric datatypes or string)"
      ],
      "metadata": {
        "id": "SnaB_yjRe9YM"
      },
      "execution_count": null,
      "outputs": []
    },
    {
      "cell_type": "code",
      "source": [
        "l = ['ada', 1, 25, 12.3, 1]\n",
        "l.sort()"
      ],
      "metadata": {
        "colab": {
          "base_uri": "https://localhost:8080/",
          "height": 158
        },
        "id": "H9KpavJgfUm0",
        "outputId": "289c8502-282f-4ef4-9cd4-94cbce3fd42c"
      },
      "execution_count": null,
      "outputs": [
        {
          "output_type": "error",
          "ename": "TypeError",
          "evalue": "'<' not supported between instances of 'int' and 'str'",
          "traceback": [
            "\u001b[0;31m---------------------------------------------------------------------------\u001b[0m",
            "\u001b[0;31mTypeError\u001b[0m                                 Traceback (most recent call last)",
            "\u001b[0;32m<ipython-input-32-fcd66d6b603e>\u001b[0m in \u001b[0;36m<cell line: 0>\u001b[0;34m()\u001b[0m\n\u001b[1;32m      1\u001b[0m \u001b[0ml\u001b[0m \u001b[0;34m=\u001b[0m \u001b[0;34m[\u001b[0m\u001b[0;34m'ada'\u001b[0m\u001b[0;34m,\u001b[0m \u001b[0;36m1\u001b[0m\u001b[0;34m,\u001b[0m \u001b[0;36m25\u001b[0m\u001b[0;34m,\u001b[0m \u001b[0;36m12.3\u001b[0m\u001b[0;34m,\u001b[0m \u001b[0;36m1\u001b[0m\u001b[0;34m]\u001b[0m\u001b[0;34m\u001b[0m\u001b[0;34m\u001b[0m\u001b[0m\n\u001b[0;32m----> 2\u001b[0;31m \u001b[0ml\u001b[0m\u001b[0;34m.\u001b[0m\u001b[0msort\u001b[0m\u001b[0;34m(\u001b[0m\u001b[0;34m)\u001b[0m\u001b[0;34m\u001b[0m\u001b[0;34m\u001b[0m\u001b[0m\n\u001b[0m",
            "\u001b[0;31mTypeError\u001b[0m: '<' not supported between instances of 'int' and 'str'"
          ]
        }
      ]
    },
    {
      "cell_type": "code",
      "source": [
        "l1 = [1, 25, 12.3, 1]\n",
        "\n",
        "l1.sort()"
      ],
      "metadata": {
        "id": "Wqpv1m1WeJKq"
      },
      "execution_count": null,
      "outputs": []
    },
    {
      "cell_type": "code",
      "source": [
        "l1"
      ],
      "metadata": {
        "colab": {
          "base_uri": "https://localhost:8080/"
        },
        "id": "LiK3F-PEecVk",
        "outputId": "57256e95-1bbb-40e3-a7fb-b16e086c1775"
      },
      "execution_count": null,
      "outputs": [
        {
          "output_type": "execute_result",
          "data": {
            "text/plain": [
              "[1, 1, 12.3, 25]"
            ]
          },
          "metadata": {},
          "execution_count": 29
        }
      ]
    },
    {
      "cell_type": "code",
      "source": [
        "l = [\"asd\",\"dft\",\"asdfg\",\"dftg\",\"k\",\"l\"]"
      ],
      "metadata": {
        "id": "KEeiPgcaeszz"
      },
      "execution_count": null,
      "outputs": []
    },
    {
      "cell_type": "code",
      "source": [
        "l.sort()\n",
        "print(l)"
      ],
      "metadata": {
        "colab": {
          "base_uri": "https://localhost:8080/"
        },
        "id": "OI2pVsyge1Lo",
        "outputId": "87fcfe03-ff76-48e7-bf5c-c4467914be5b"
      },
      "execution_count": null,
      "outputs": [
        {
          "output_type": "stream",
          "name": "stdout",
          "text": [
            "['asd', 'asdfg', 'dft', 'dftg', 'k', 'l']\n"
          ]
        }
      ]
    },
    {
      "cell_type": "code",
      "source": [
        "l2 = [\"dfd\",\"dfd\",\"dfd\",\"%\",\"@\",\"4\",\"6\"]"
      ],
      "metadata": {
        "id": "wdC6GjHVfcxi"
      },
      "execution_count": null,
      "outputs": []
    },
    {
      "cell_type": "code",
      "source": [
        "l2.sort()"
      ],
      "metadata": {
        "id": "4IvyxqX-fd2F"
      },
      "execution_count": null,
      "outputs": []
    },
    {
      "cell_type": "code",
      "source": [
        "l2"
      ],
      "metadata": {
        "colab": {
          "base_uri": "https://localhost:8080/"
        },
        "id": "22a8y_erfo3R",
        "outputId": "7eb990c0-bc37-44e9-d568-67d84e0b858a"
      },
      "execution_count": null,
      "outputs": [
        {
          "output_type": "execute_result",
          "data": {
            "text/plain": [
              "['%', '4', '6', '@', 'dfd', 'dfd', 'dfd']"
            ]
          },
          "metadata": {},
          "execution_count": 38
        }
      ]
    },
    {
      "cell_type": "code",
      "source": [
        "# sorted function :\n",
        "# it is more like the map/filter\n",
        "# allows you to create custom sort function\n",
        "# u can use lambda function to define sorting condn"
      ],
      "metadata": {
        "id": "IcarZTmod3nm"
      },
      "execution_count": null,
      "outputs": []
    },
    {
      "cell_type": "code",
      "source": [
        "l = [\"sd\",\"fgh\",\"s\",\"gfkf\"]"
      ],
      "metadata": {
        "id": "dJmI5hG5gOeJ"
      },
      "execution_count": null,
      "outputs": []
    },
    {
      "cell_type": "code",
      "source": [
        "new = sorted(l, key = lambda x : len(x))"
      ],
      "metadata": {
        "id": "W9nY2_RDgQoR"
      },
      "execution_count": null,
      "outputs": []
    },
    {
      "cell_type": "code",
      "source": [
        "new"
      ],
      "metadata": {
        "colab": {
          "base_uri": "https://localhost:8080/"
        },
        "id": "uDUN7hwwgl1D",
        "outputId": "c8ab2f05-f389-4c55-eff3-28e3424e9a71"
      },
      "execution_count": null,
      "outputs": [
        {
          "output_type": "execute_result",
          "data": {
            "text/plain": [
              "['s', 'sd', 'fgh', 'gfkf']"
            ]
          },
          "metadata": {},
          "execution_count": 41
        }
      ]
    },
    {
      "cell_type": "code",
      "source": [
        "l.clear()"
      ],
      "metadata": {
        "id": "NKNf4Ijagp8G"
      },
      "execution_count": null,
      "outputs": []
    },
    {
      "cell_type": "code",
      "source": [
        "l"
      ],
      "metadata": {
        "colab": {
          "base_uri": "https://localhost:8080/"
        },
        "id": "-kzAoGAZd7_s",
        "outputId": "2af82304-04d8-4e26-f868-1433a9b377a6"
      },
      "execution_count": null,
      "outputs": [
        {
          "output_type": "execute_result",
          "data": {
            "text/plain": [
              "[]"
            ]
          },
          "metadata": {},
          "execution_count": 22
        }
      ]
    },
    {
      "cell_type": "code",
      "source": [
        "s1 = {12,58,96}"
      ],
      "metadata": {
        "id": "mlYlk9GxgCZR"
      },
      "execution_count": null,
      "outputs": []
    },
    {
      "cell_type": "code",
      "source": [
        "s1"
      ],
      "metadata": {
        "colab": {
          "base_uri": "https://localhost:8080/"
        },
        "id": "3oOJ3fBXgTuw",
        "outputId": "44c1facf-47f0-48b5-8349-8a97bd0367fa"
      },
      "execution_count": null,
      "outputs": [
        {
          "output_type": "execute_result",
          "data": {
            "text/plain": [
              "{12, 58, 96}"
            ]
          },
          "metadata": {},
          "execution_count": 46
        }
      ]
    },
    {
      "cell_type": "code",
      "source": [
        "l1.extend(s1)"
      ],
      "metadata": {
        "id": "pixCK1fLgUL_"
      },
      "execution_count": null,
      "outputs": []
    },
    {
      "cell_type": "code",
      "source": [
        "l1"
      ],
      "metadata": {
        "colab": {
          "base_uri": "https://localhost:8080/"
        },
        "id": "Vk-iELbMgYTZ",
        "outputId": "cfe93705-4eb7-4476-dadb-023f4e5edf40"
      },
      "execution_count": null,
      "outputs": [
        {
          "output_type": "execute_result",
          "data": {
            "text/plain": [
              "['a', 'b', 'c', 'd', 96, 58, 12]"
            ]
          },
          "metadata": {},
          "execution_count": 48
        }
      ]
    },
    {
      "cell_type": "code",
      "source": [
        "d1 = {\"asd\": 1254, \"fgh\": 589}"
      ],
      "metadata": {
        "id": "uuCAiuwLgYtD"
      },
      "execution_count": null,
      "outputs": []
    },
    {
      "cell_type": "code",
      "source": [
        "l1.extend(d1)    # it will only add keys"
      ],
      "metadata": {
        "id": "Pz5zMvvHgkB4"
      },
      "execution_count": null,
      "outputs": []
    },
    {
      "cell_type": "code",
      "source": [
        "l1"
      ],
      "metadata": {
        "colab": {
          "base_uri": "https://localhost:8080/"
        },
        "id": "ZWZJ_uK8glnr",
        "outputId": "b62f2c75-4c4b-4450-d5ec-25932fafa04c"
      },
      "execution_count": null,
      "outputs": [
        {
          "output_type": "execute_result",
          "data": {
            "text/plain": [
              "['a', 'b', 'c', 'd', 96, 58, 12, 'asd', 'fgh']"
            ]
          },
          "metadata": {},
          "execution_count": 51
        }
      ]
    },
    {
      "cell_type": "code",
      "source": [
        "for i in d1:\n",
        "  print(i)"
      ],
      "metadata": {
        "colab": {
          "base_uri": "https://localhost:8080/"
        },
        "id": "s3UwXuNSgmpE",
        "outputId": "3f7d30e5-8818-4123-dc09-7a4ed04957d3"
      },
      "execution_count": null,
      "outputs": [
        {
          "output_type": "stream",
          "name": "stdout",
          "text": [
            "asd\n",
            "fgh\n"
          ]
        }
      ]
    },
    {
      "cell_type": "code",
      "source": [
        "for i in d1:\n",
        "  l1.append(i)"
      ],
      "metadata": {
        "id": "nkLcKH__g2E4"
      },
      "execution_count": null,
      "outputs": []
    },
    {
      "cell_type": "code",
      "source": [
        "l1"
      ],
      "metadata": {
        "colab": {
          "base_uri": "https://localhost:8080/"
        },
        "id": "dfGhyGqEg9SI",
        "outputId": "4a941227-df22-4a47-a7a0-a861eaa18e8b"
      },
      "execution_count": null,
      "outputs": [
        {
          "output_type": "execute_result",
          "data": {
            "text/plain": [
              "['a', 'b', 'c', 'd', 96, 58, 12, 'asd', 'fgh', 'asd', 'fgh']"
            ]
          },
          "metadata": {},
          "execution_count": 54
        }
      ]
    },
    {
      "cell_type": "code",
      "source": [
        "l1.extend(\"Jitu\")"
      ],
      "metadata": {
        "id": "tIDcVKcfg9vI"
      },
      "execution_count": null,
      "outputs": []
    },
    {
      "cell_type": "code",
      "source": [
        "l1.append(\"Jitu\")"
      ],
      "metadata": {
        "id": "5-8Xp6gvhXD4"
      },
      "execution_count": null,
      "outputs": []
    },
    {
      "cell_type": "code",
      "source": [
        "l1"
      ],
      "metadata": {
        "colab": {
          "base_uri": "https://localhost:8080/"
        },
        "id": "jy9cJCHUhPhg",
        "outputId": "930a9efb-2342-4889-bf91-211d564f0e0e"
      },
      "execution_count": null,
      "outputs": [
        {
          "output_type": "execute_result",
          "data": {
            "text/plain": [
              "['a',\n",
              " 'b',\n",
              " 'c',\n",
              " 'd',\n",
              " 96,\n",
              " 58,\n",
              " 12,\n",
              " 'asd',\n",
              " 'fgh',\n",
              " 'asd',\n",
              " 'fgh',\n",
              " 'J',\n",
              " 'i',\n",
              " 't',\n",
              " 'u',\n",
              " 'Jitu']"
            ]
          },
          "metadata": {},
          "execution_count": 58
        }
      ]
    },
    {
      "cell_type": "code",
      "source": [
        "#  string :\n",
        "# imutable\n",
        "\n",
        "# slicing in case of\n",
        "\n",
        "s = \"dfgdsjgsf kjfhegfe rfkerh fierhfi rhhr  \"\n",
        "\n",
        "s1 = \"                   \"\n",
        "\n",
        "s2 = \"{ dsfsgfu }, {'ghgfd' : 54566}\"\n",
        "\n"
      ],
      "metadata": {
        "id": "9cf2vrvyhQdB"
      },
      "execution_count": null,
      "outputs": []
    },
    {
      "cell_type": "code",
      "source": [
        "len(s1)"
      ],
      "metadata": {
        "colab": {
          "base_uri": "https://localhost:8080/"
        },
        "id": "mjS-fB22h_rX",
        "outputId": "9000a24e-4bbc-4dbd-efb3-6f151514e710"
      },
      "execution_count": null,
      "outputs": [
        {
          "output_type": "execute_result",
          "data": {
            "text/plain": [
              "19"
            ]
          },
          "metadata": {},
          "execution_count": 62
        }
      ]
    },
    {
      "cell_type": "code",
      "source": [
        "type(s2)"
      ],
      "metadata": {
        "colab": {
          "base_uri": "https://localhost:8080/"
        },
        "id": "kC-0OHeriVvn",
        "outputId": "b8990613-1ec2-42f0-98fe-871fec288d8f"
      },
      "execution_count": null,
      "outputs": [
        {
          "output_type": "execute_result",
          "data": {
            "text/plain": [
              "str"
            ]
          },
          "metadata": {},
          "execution_count": 64
        }
      ]
    },
    {
      "cell_type": "code",
      "source": [
        "s[1]= \"fg\""
      ],
      "metadata": {
        "colab": {
          "base_uri": "https://localhost:8080/",
          "height": 141
        },
        "id": "uO2SJm0phq4p",
        "outputId": "a967d0ee-5ad9-498e-b0f7-1263265cde02"
      },
      "execution_count": null,
      "outputs": [
        {
          "output_type": "error",
          "ename": "TypeError",
          "evalue": "'str' object does not support item assignment",
          "traceback": [
            "\u001b[0;31m---------------------------------------------------------------------------\u001b[0m",
            "\u001b[0;31mTypeError\u001b[0m                                 Traceback (most recent call last)",
            "\u001b[0;32m<ipython-input-60-51ab9402e83e>\u001b[0m in \u001b[0;36m<cell line: 0>\u001b[0;34m()\u001b[0m\n\u001b[0;32m----> 1\u001b[0;31m \u001b[0ms\u001b[0m\u001b[0;34m[\u001b[0m\u001b[0;36m1\u001b[0m\u001b[0;34m]\u001b[0m\u001b[0;34m=\u001b[0m \u001b[0;34m\"fg\"\u001b[0m\u001b[0;34m\u001b[0m\u001b[0;34m\u001b[0m\u001b[0m\n\u001b[0m",
            "\u001b[0;31mTypeError\u001b[0m: 'str' object does not support item assignment"
          ]
        }
      ]
    },
    {
      "cell_type": "code",
      "source": [
        "s"
      ],
      "metadata": {
        "colab": {
          "base_uri": "https://localhost:8080/",
          "height": 35
        },
        "id": "P2RrFn5jivu-",
        "outputId": "f533a575-7300-4f53-a55b-2ad062ae6f8f"
      },
      "execution_count": null,
      "outputs": [
        {
          "output_type": "execute_result",
          "data": {
            "text/plain": [
              "'dfgdsjgsf kjfhegfe rfkerh fierhfi rhhr  '"
            ],
            "application/vnd.google.colaboratory.intrinsic+json": {
              "type": "string"
            }
          },
          "metadata": {},
          "execution_count": 65
        }
      ]
    },
    {
      "cell_type": "code",
      "source": [
        "s[:6]"
      ],
      "metadata": {
        "colab": {
          "base_uri": "https://localhost:8080/",
          "height": 35
        },
        "id": "3h5ZY6W6ivmI",
        "outputId": "5bdf39e9-7fc4-4ab1-b099-feb74fb65005"
      },
      "execution_count": null,
      "outputs": [
        {
          "output_type": "execute_result",
          "data": {
            "text/plain": [
              "'dfgdsj'"
            ],
            "application/vnd.google.colaboratory.intrinsic+json": {
              "type": "string"
            }
          },
          "metadata": {},
          "execution_count": 66
        }
      ]
    },
    {
      "cell_type": "code",
      "source": [
        "s[::-1]"
      ],
      "metadata": {
        "colab": {
          "base_uri": "https://localhost:8080/",
          "height": 35
        },
        "id": "4y-hgmt3i15Y",
        "outputId": "f1f4b172-5c94-47be-c464-6b7515515e47"
      },
      "execution_count": null,
      "outputs": [
        {
          "output_type": "execute_result",
          "data": {
            "text/plain": [
              "'  rhhr ifhreif hrekfr efgehfjk fsgjsdgfd'"
            ],
            "application/vnd.google.colaboratory.intrinsic+json": {
              "type": "string"
            }
          },
          "metadata": {},
          "execution_count": 67
        }
      ]
    },
    {
      "cell_type": "code",
      "source": [
        "s3 = s1 + s2"
      ],
      "metadata": {
        "id": "_cezyD4fjB0P"
      },
      "execution_count": null,
      "outputs": []
    },
    {
      "cell_type": "code",
      "source": [
        "s3"
      ],
      "metadata": {
        "colab": {
          "base_uri": "https://localhost:8080/",
          "height": 35
        },
        "id": "C3k06bzEjKww",
        "outputId": "e2c358c5-c700-40db-df92-47e339872b79"
      },
      "execution_count": null,
      "outputs": [
        {
          "output_type": "execute_result",
          "data": {
            "text/plain": [
              "\"                   { dsfsgfu }, {'ghgfd' : 54566}\""
            ],
            "application/vnd.google.colaboratory.intrinsic+json": {
              "type": "string"
            }
          },
          "metadata": {},
          "execution_count": 69
        }
      ]
    },
    {
      "cell_type": "code",
      "source": [
        "strip(s1)\n",
        "trim(s1)"
      ],
      "metadata": {
        "colab": {
          "base_uri": "https://localhost:8080/",
          "height": 159
        },
        "id": "VRGIbTy5jLPL",
        "outputId": "4f717c0c-8575-4b38-9ab0-c6b03509ebea"
      },
      "execution_count": null,
      "outputs": [
        {
          "output_type": "error",
          "ename": "NameError",
          "evalue": "name 'strip' is not defined",
          "traceback": [
            "\u001b[0;31m---------------------------------------------------------------------------\u001b[0m",
            "\u001b[0;31mNameError\u001b[0m                                 Traceback (most recent call last)",
            "\u001b[0;32m<ipython-input-72-07285b030c65>\u001b[0m in \u001b[0;36m<cell line: 0>\u001b[0;34m()\u001b[0m\n\u001b[0;32m----> 1\u001b[0;31m \u001b[0mstrip\u001b[0m\u001b[0;34m(\u001b[0m\u001b[0ms1\u001b[0m\u001b[0;34m)\u001b[0m\u001b[0;34m\u001b[0m\u001b[0;34m\u001b[0m\u001b[0m\n\u001b[0m\u001b[1;32m      2\u001b[0m \u001b[0mtrim\u001b[0m\u001b[0;34m(\u001b[0m\u001b[0ms1\u001b[0m\u001b[0;34m)\u001b[0m\u001b[0;34m\u001b[0m\u001b[0;34m\u001b[0m\u001b[0m\n",
            "\u001b[0;31mNameError\u001b[0m: name 'strip' is not defined"
          ]
        }
      ]
    },
    {
      "cell_type": "code",
      "source": [
        "name = \" Gauri \"  --- \"Gauri\""
      ],
      "metadata": {
        "id": "IPY7oTmAjq9-"
      },
      "execution_count": null,
      "outputs": []
    },
    {
      "cell_type": "code",
      "source": [
        "DAY 3 :\n"
      ],
      "metadata": {
        "id": "i-XEU8Ckq72B"
      },
      "execution_count": null,
      "outputs": []
    },
    {
      "cell_type": "code",
      "source": [
        "#shallow copy :\n",
        "\n",
        "l1 = [1,3,4,5,6,78,90]\n",
        "\n",
        "# if I change/modify anything inside the original list that changes will immidietly reflected in copied list\n",
        "\n",
        "# Syntax:\n",
        "copied_list = original_list[:]\n",
        "l2 = l1\n",
        "import copy\n",
        "copied_list = copy.copy(original_list)\n",
        "\n",
        "\n",
        "\n",
        "\n",
        "\n",
        "\n",
        "#Deep Copy :\n",
        "\n",
        "l6 = [12,85,96,12]\n",
        "\n",
        "new_list_d = copy.deepcopy(l6)\n",
        "\n",
        "# if u dont want to update ur list with resp to original list then u can use deepcopy"
      ],
      "metadata": {
        "id": "8yz_9X9wq7l6"
      },
      "execution_count": null,
      "outputs": []
    },
    {
      "cell_type": "code",
      "source": [
        "l5 = [12,56,89,12,36]\n",
        "import copy\n",
        "new_list =  copy.copy(l1)"
      ],
      "metadata": {
        "id": "-FICdnnGrT3Q"
      },
      "execution_count": null,
      "outputs": []
    },
    {
      "cell_type": "code",
      "source": [
        "l5.append(\"ghdhfdj\")"
      ],
      "metadata": {
        "id": "5uGOyoINtCiA"
      },
      "execution_count": null,
      "outputs": []
    },
    {
      "cell_type": "code",
      "source": [
        "print(new_list)"
      ],
      "metadata": {
        "colab": {
          "base_uri": "https://localhost:8080/"
        },
        "id": "cZZOK8tMtGTH",
        "outputId": "76366442-c7b9-48db-e73e-89b36814424c"
      },
      "execution_count": null,
      "outputs": [
        {
          "output_type": "stream",
          "name": "stdout",
          "text": [
            "[1, 3, 4, 5, 6, 78, 90, 20, 20]\n"
          ]
        }
      ]
    },
    {
      "cell_type": "code",
      "source": [
        "l3 = l1[:]"
      ],
      "metadata": {
        "id": "5vSQlePpr3Du"
      },
      "execution_count": null,
      "outputs": []
    },
    {
      "cell_type": "code",
      "source": [
        "print(l2)"
      ],
      "metadata": {
        "colab": {
          "base_uri": "https://localhost:8080/"
        },
        "id": "fNpET__irZMe",
        "outputId": "c216b42a-c807-42aa-d69b-796636d06799"
      },
      "execution_count": null,
      "outputs": [
        {
          "output_type": "stream",
          "name": "stdout",
          "text": [
            "[1, 3, 4, 5, 6, 78, 90]\n"
          ]
        }
      ]
    },
    {
      "cell_type": "code",
      "source": [
        "l2.append(\"new_element\")"
      ],
      "metadata": {
        "id": "C2wv-tTyrb1o"
      },
      "execution_count": null,
      "outputs": []
    },
    {
      "cell_type": "code",
      "source": [
        "print(l1)"
      ],
      "metadata": {
        "colab": {
          "base_uri": "https://localhost:8080/"
        },
        "id": "XktlPnm1rgWZ",
        "outputId": "9a1519a3-eb39-499f-cb63-cd7e24ca8068"
      },
      "execution_count": null,
      "outputs": [
        {
          "output_type": "stream",
          "name": "stdout",
          "text": [
            "[1, 3, 4, 5, 6, 78, 90]\n"
          ]
        }
      ]
    },
    {
      "cell_type": "code",
      "source": [
        "l1.append(20)"
      ],
      "metadata": {
        "id": "bHOz_5cVrpUQ"
      },
      "execution_count": null,
      "outputs": []
    },
    {
      "cell_type": "code",
      "source": [
        "print(l2)"
      ],
      "metadata": {
        "colab": {
          "base_uri": "https://localhost:8080/"
        },
        "id": "20bURTCrrxVX",
        "outputId": "85f27a79-d390-47cf-da2f-4a98a3ffbd02"
      },
      "execution_count": null,
      "outputs": [
        {
          "output_type": "stream",
          "name": "stdout",
          "text": [
            "[1, 3, 4, 5, 6, 78, 90]\n"
          ]
        }
      ]
    },
    {
      "cell_type": "code",
      "source": [
        "print(l3)"
      ],
      "metadata": {
        "colab": {
          "base_uri": "https://localhost:8080/"
        },
        "id": "oRcPie88r-i_",
        "outputId": "24cf6eb1-4bdd-4a87-dbc9-cfc12ebca221"
      },
      "execution_count": null,
      "outputs": [
        {
          "output_type": "stream",
          "name": "stdout",
          "text": [
            "[1, 3, 4, 5, 6, 78, 90, 20]\n"
          ]
        }
      ]
    },
    {
      "cell_type": "code",
      "source": [
        "# item assignment is also the one of the way to do shallow copy of list\n",
        "l4 = [1,2,3,4,5]\n",
        "\n",
        "l5 = l4\n",
        "\n",
        "l4.append(\"New_element\")\n",
        "\n",
        "l5.append(156789675)\n",
        "\n",
        "print(l4,l5)"
      ],
      "metadata": {
        "colab": {
          "base_uri": "https://localhost:8080/"
        },
        "id": "QzF0AHN8KRw5",
        "outputId": "b0a9e46b-f513-4126-9ade-31a08ac7717c"
      },
      "execution_count": null,
      "outputs": [
        {
          "output_type": "stream",
          "name": "stdout",
          "text": [
            "[1, 2, 3, 4, 5, 'New_element', 156789675] [1, 2, 3, 4, 5, 'New_element', 156789675]\n"
          ]
        }
      ]
    },
    {
      "cell_type": "code",
      "source": [
        "# built in functions in case of list:\n",
        "\n",
        "l = [12,45,89,42]\n",
        "\n",
        "print(max(l))\n",
        "print(min(l))\n",
        "print(sum(l))\n",
        "print(len(l))\n"
      ],
      "metadata": {
        "colab": {
          "base_uri": "https://localhost:8080/"
        },
        "id": "NaU2MzlDKRjo",
        "outputId": "92a0e035-d304-4597-8e71-8b718fb6f08c"
      },
      "execution_count": null,
      "outputs": [
        {
          "output_type": "stream",
          "name": "stdout",
          "text": [
            "89\n",
            "12\n",
            "188\n",
            "4\n"
          ]
        }
      ]
    },
    {
      "cell_type": "code",
      "source": [
        "# sort function:\n",
        "\n",
        "l.sort()"
      ],
      "metadata": {
        "id": "wiambKmiRWek"
      },
      "execution_count": null,
      "outputs": []
    },
    {
      "cell_type": "code",
      "source": [
        "l"
      ],
      "metadata": {
        "colab": {
          "base_uri": "https://localhost:8080/"
        },
        "id": "yksg0VgbRbg5",
        "outputId": "68c6d7bb-bb05-47a9-e5a2-00859516255b"
      },
      "execution_count": null,
      "outputs": [
        {
          "output_type": "execute_result",
          "data": {
            "text/plain": [
              "[12, 42, 45, 89]"
            ]
          },
          "metadata": {},
          "execution_count": 30
        }
      ]
    },
    {
      "cell_type": "code",
      "source": [
        "# split():\n",
        "\n",
        "# use to split the data across a element\n",
        "# u can only use this in case of string\n",
        "# u can only split about the element which is present inside ur string\n",
        "# output datatype of this function is list\n",
        "# element about which string splited is not included\n",
        "\n",
        "#s.split(\"char about which u wanna split\")\n",
        "\n",
        "S = \"we are Data Engineers\"\n",
        "\n",
        "#output = [\"we\", \"are\", \"Data\", \"Engineers\"]"
      ],
      "metadata": {
        "id": "laS-PPaFuJzi"
      },
      "execution_count": null,
      "outputs": []
    },
    {
      "cell_type": "code",
      "source": [
        "s = \"we are Data Engineers\"\n",
        "\n",
        "l = s.split(\"%\")"
      ],
      "metadata": {
        "id": "FvByD0Wuu8jP"
      },
      "execution_count": null,
      "outputs": []
    },
    {
      "cell_type": "code",
      "source": [
        "print(l)"
      ],
      "metadata": {
        "colab": {
          "base_uri": "https://localhost:8080/"
        },
        "id": "vkCGsxV5vFTn",
        "outputId": "f209c17c-0eda-4936-e1b9-2deae29f731b"
      },
      "execution_count": null,
      "outputs": [
        {
          "output_type": "stream",
          "name": "stdout",
          "text": [
            "['we', 'are', 'Data', 'Engineers']\n"
          ]
        }
      ]
    },
    {
      "cell_type": "code",
      "source": [
        "s1 = \"we are Data Engineers\"\n",
        "\n",
        "l1 = s1.split(\"%\")"
      ],
      "metadata": {
        "id": "82v1xJNyvhmP"
      },
      "execution_count": null,
      "outputs": []
    },
    {
      "cell_type": "code",
      "source": [
        "l1"
      ],
      "metadata": {
        "colab": {
          "base_uri": "https://localhost:8080/"
        },
        "id": "bna24EFOvmPK",
        "outputId": "11445e6e-820d-400b-822d-43c33559f5b0"
      },
      "execution_count": null,
      "outputs": [
        {
          "output_type": "execute_result",
          "data": {
            "text/plain": [
              "['we are Data Engineers']"
            ]
          },
          "metadata": {},
          "execution_count": 23
        }
      ]
    },
    {
      "cell_type": "code",
      "source": [
        "students = \"Ankush, Gayatri, Jitu, Kiran\""
      ],
      "metadata": {
        "id": "pVjY4YgtvnDy"
      },
      "execution_count": null,
      "outputs": []
    },
    {
      "cell_type": "code",
      "source": [
        "l_student = students.split(\",\")"
      ],
      "metadata": {
        "id": "dCPbsdG8v_Op"
      },
      "execution_count": null,
      "outputs": []
    },
    {
      "cell_type": "code",
      "source": [
        "l_student"
      ],
      "metadata": {
        "colab": {
          "base_uri": "https://localhost:8080/"
        },
        "id": "37RZ2daSwEu2",
        "outputId": "e233ff3d-f12f-42e4-cf85-cd5fe6b81236"
      },
      "execution_count": null,
      "outputs": [
        {
          "output_type": "execute_result",
          "data": {
            "text/plain": [
              "['Ankush', ' Gayatri', ' Jitu', ' Kiran']"
            ]
          },
          "metadata": {},
          "execution_count": 26
        }
      ]
    },
    {
      "cell_type": "code",
      "source": [
        "print(type(l_student))"
      ],
      "metadata": {
        "colab": {
          "base_uri": "https://localhost:8080/"
        },
        "id": "m9rrPz4uybOo",
        "outputId": "d44a46d0-8e64-4758-c53a-8fc3ffaf0658"
      },
      "execution_count": null,
      "outputs": [
        {
          "output_type": "stream",
          "name": "stdout",
          "text": [
            "<class 'list'>\n"
          ]
        }
      ]
    },
    {
      "cell_type": "code",
      "source": [],
      "metadata": {
        "id": "FJzaCgPQwGvL"
      },
      "execution_count": null,
      "outputs": []
    },
    {
      "cell_type": "code",
      "source": [
        "l1_student = students.split(\", \")"
      ],
      "metadata": {
        "id": "ILwQooQQwJsR"
      },
      "execution_count": null,
      "outputs": []
    },
    {
      "cell_type": "code",
      "source": [
        "l1_student"
      ],
      "metadata": {
        "colab": {
          "base_uri": "https://localhost:8080/"
        },
        "id": "nn3-9PFcwOgK",
        "outputId": "4767579f-777e-4b4e-b5a7-fa0781cbc023"
      },
      "execution_count": null,
      "outputs": [
        {
          "output_type": "execute_result",
          "data": {
            "text/plain": [
              "['Ankush', 'Gayatri', 'Jitu', 'Kiran']"
            ]
          },
          "metadata": {},
          "execution_count": 28
        }
      ]
    },
    {
      "cell_type": "code",
      "source": [
        "\n",
        "ss = \"agxsdwtduveruet fgf yfdflkagfdgd hfjhfh fgfdguewryeteuioefbvguacnabvrtycnhx\"\n",
        "l2 = ss.split(\"y\")"
      ],
      "metadata": {
        "id": "BaJAJjtkwRIR"
      },
      "execution_count": null,
      "outputs": []
    },
    {
      "cell_type": "code",
      "source": [
        "print(l2)"
      ],
      "metadata": {
        "colab": {
          "base_uri": "https://localhost:8080/"
        },
        "id": "h98XKBIBwzRY",
        "outputId": "2b174953-8a3f-414e-8256-65674866cf3b"
      },
      "execution_count": null,
      "outputs": [
        {
          "output_type": "stream",
          "name": "stdout",
          "text": [
            "['agxsdwtduveruet fgf ', 'fdflkagfdgd hfjhfh fgfdguewr', 'eteuioefbvguacnabvrt', 'cnhx']\n"
          ]
        }
      ]
    },
    {
      "cell_type": "code",
      "source": [
        "# join()\n",
        "\n",
        "j = \"y\".join(l2)\n",
        "print(j)\n"
      ],
      "metadata": {
        "colab": {
          "base_uri": "https://localhost:8080/"
        },
        "id": "0DOsnPBdxTGh",
        "outputId": "a24eddd3-5c43-437a-c5f6-279a9c09af19"
      },
      "execution_count": null,
      "outputs": [
        {
          "output_type": "stream",
          "name": "stdout",
          "text": [
            "agxsdwtduveruet fgf yfdflkagfdgd hfjhfh fgfdguewryeteuioefbvguacnabvrtycnhx\n"
          ]
        }
      ]
    },
    {
      "cell_type": "code",
      "source": [
        "['Ankush', 'Gayatri', 'Jitu', 'Kiran']"
      ],
      "metadata": {
        "id": "dCC0hXFnxnmi"
      },
      "execution_count": null,
      "outputs": []
    },
    {
      "cell_type": "code",
      "source": [
        "s = \"Ankush Gayatri Jitu Kiran\"\n",
        "\n",
        "l1 = s.split(\" \")"
      ],
      "metadata": {
        "id": "sY_Tllwsxq0I"
      },
      "execution_count": null,
      "outputs": []
    },
    {
      "cell_type": "code",
      "source": [
        "l1"
      ],
      "metadata": {
        "colab": {
          "base_uri": "https://localhost:8080/"
        },
        "id": "XFdw0B67xy-Y",
        "outputId": "ab99d564-b9e8-43c9-81ae-a8549a0e10a4"
      },
      "execution_count": null,
      "outputs": [
        {
          "output_type": "execute_result",
          "data": {
            "text/plain": [
              "['Ankush', 'Gayatri', 'Jitu', 'Kiran']"
            ]
          },
          "metadata": {},
          "execution_count": 33
        }
      ]
    },
    {
      "cell_type": "code",
      "source": [
        "new_s = \" \".join(l1)\n",
        "print(new_s)"
      ],
      "metadata": {
        "colab": {
          "base_uri": "https://localhost:8080/"
        },
        "id": "loQ-1NYdxzzb",
        "outputId": "ed93a666-47f7-41b5-8e06-14650f58e637"
      },
      "execution_count": null,
      "outputs": [
        {
          "output_type": "stream",
          "name": "stdout",
          "text": [
            "Ankush Gayatri Jitu Kiran\n"
          ]
        }
      ]
    },
    {
      "cell_type": "code",
      "source": [
        "print(type(new_s))   #return type of join function is str"
      ],
      "metadata": {
        "colab": {
          "base_uri": "https://localhost:8080/"
        },
        "id": "cMDtxMEOyC4R",
        "outputId": "90d61892-dc5c-4787-f710-75a0462a82f5"
      },
      "execution_count": null,
      "outputs": [
        {
          "output_type": "stream",
          "name": "stdout",
          "text": [
            "<class 'str'>\n"
          ]
        }
      ]
    },
    {
      "cell_type": "code",
      "source": [
        "n1 = \"\".join(l1)\n",
        "n1"
      ],
      "metadata": {
        "colab": {
          "base_uri": "https://localhost:8080/",
          "height": 35
        },
        "id": "Ru-OfcYsykvq",
        "outputId": "b5569f87-3815-4f91-bf65-2df451899b7b"
      },
      "execution_count": null,
      "outputs": [
        {
          "output_type": "execute_result",
          "data": {
            "text/plain": [
              "'AnkushGayatriJituKiran'"
            ],
            "application/vnd.google.colaboratory.intrinsic+json": {
              "type": "string"
            }
          },
          "metadata": {},
          "execution_count": 37
        }
      ]
    },
    {
      "cell_type": "code",
      "source": [
        "m = n1.split(\"\")      # in case of split separator is mandotory\n",
        "m"
      ],
      "metadata": {
        "colab": {
          "base_uri": "https://localhost:8080/",
          "height": 159
        },
        "id": "YRIbRGIayuZY",
        "outputId": "fec14579-cbdc-4cbb-a3c6-138f5d615f06"
      },
      "execution_count": null,
      "outputs": [
        {
          "output_type": "error",
          "ename": "ValueError",
          "evalue": "empty separator",
          "traceback": [
            "\u001b[0;31m---------------------------------------------------------------------------\u001b[0m",
            "\u001b[0;31mValueError\u001b[0m                                Traceback (most recent call last)",
            "\u001b[0;32m<ipython-input-38-529c4265282f>\u001b[0m in \u001b[0;36m<cell line: 0>\u001b[0;34m()\u001b[0m\n\u001b[0;32m----> 1\u001b[0;31m \u001b[0mm\u001b[0m \u001b[0;34m=\u001b[0m \u001b[0mn1\u001b[0m\u001b[0;34m.\u001b[0m\u001b[0msplit\u001b[0m\u001b[0;34m(\u001b[0m\u001b[0;34m\"\"\u001b[0m\u001b[0;34m)\u001b[0m\u001b[0;34m\u001b[0m\u001b[0;34m\u001b[0m\u001b[0m\n\u001b[0m\u001b[1;32m      2\u001b[0m \u001b[0mm\u001b[0m\u001b[0;34m\u001b[0m\u001b[0;34m\u001b[0m\u001b[0m\n",
            "\u001b[0;31mValueError\u001b[0m: empty separator"
          ]
        }
      ]
    },
    {
      "cell_type": "code",
      "source": [
        "name = \"Shubham\"\n",
        "\n",
        "#list_of_elements = [\"s\",\"h\",\"u\",\"b\",\"h\",\"a\",\"m\"]\n",
        "\n",
        "list_m = list(name)"
      ],
      "metadata": {
        "id": "Sxqn7ahbyyxm"
      },
      "execution_count": null,
      "outputs": []
    },
    {
      "cell_type": "code",
      "source": [
        "list_m"
      ],
      "metadata": {
        "colab": {
          "base_uri": "https://localhost:8080/"
        },
        "id": "WfQhClvczYVY",
        "outputId": "373369e3-1403-4725-87bf-1f2a87439ba4"
      },
      "execution_count": null,
      "outputs": [
        {
          "output_type": "execute_result",
          "data": {
            "text/plain": [
              "['S', 'h', 'u', 'b', 'h', 'a', 'm']"
            ]
          },
          "metadata": {},
          "execution_count": 40
        }
      ]
    },
    {
      "cell_type": "code",
      "source": [
        "s = \"dsdshgd1125861567854$%^\"\n",
        "\n",
        "# s.isnumeric()   -----"
      ],
      "metadata": {
        "id": "4Hk6USjyzo8Y"
      },
      "execution_count": null,
      "outputs": []
    },
    {
      "cell_type": "code",
      "source": [
        "s = \" dhgsd , fhd  85j iuhd  9ydd k hhd shd lkj ljdh fsded h odiewduew  \"\n",
        "\n",
        "\n",
        "\n",
        "s = \" sachin and jitu and Ankush and shubham and ajay and vaibhav\"\n",
        "\n",
        "output = [\"Sachin\",\"Jitu\",\"Ankush\",\"Shubham\",\"Ajay\",\"Vaibhav\"]\n",
        "\n",
        "\n",
        "l = [\"Gauri\", \"Gayatri\",\"Kiran\",\"Monika\",\"Priyanka\"]\n",
        "\n",
        "m = \" Gauri and Gayatri ..................\""
      ],
      "metadata": {
        "id": "Sx2o53Fh1aOh"
      },
      "execution_count": null,
      "outputs": []
    },
    {
      "cell_type": "code",
      "source": [
        "# DAY 5 :"
      ],
      "metadata": {
        "id": "2gmQHp4_JJGl"
      },
      "execution_count": null,
      "outputs": []
    },
    {
      "cell_type": "code",
      "source": [
        "#lower()\n",
        "#to convert string into lower case\n",
        "\n",
        "# string_name.lower()\n",
        "string1.lower()\n",
        "#\"good Good GOOD Good GoOD\"   --> \"good \"\n",
        "\n",
        "#upper()\n",
        "string1.upper()\n",
        "\n",
        "\n",
        "#s.capitalize()\n",
        "\n",
        "# to convert it into capitalize (i.e. first letter is in upper rest in lower)\n",
        "\n",
        "\n"
      ],
      "metadata": {
        "id": "1Tf2zKbQJJCa"
      },
      "execution_count": null,
      "outputs": []
    },
    {
      "cell_type": "code",
      "source": [
        "s = \"ASCGHKDH\"\n",
        "\n",
        "m = s.lower()\n",
        "\n",
        "n = m.upper()\n",
        "\n",
        "print(m,n)"
      ],
      "metadata": {
        "colab": {
          "base_uri": "https://localhost:8080/"
        },
        "id": "Q466coPqLKPq",
        "outputId": "5973baf2-4cc2-4645-f6a2-dc54e4c09542"
      },
      "execution_count": null,
      "outputs": [
        {
          "output_type": "stream",
          "name": "stdout",
          "text": [
            "ascghkdh ASCGHKDH\n"
          ]
        }
      ]
    },
    {
      "cell_type": "code",
      "source": [
        "s = \"good Good GOOD Good GoOD\"\n",
        "\n",
        "l =s.split(\" \")"
      ],
      "metadata": {
        "id": "ygxkwK-vLuZx"
      },
      "execution_count": null,
      "outputs": []
    },
    {
      "cell_type": "code",
      "source": [
        "l"
      ],
      "metadata": {
        "colab": {
          "base_uri": "https://localhost:8080/"
        },
        "id": "RZiHEOrRLKDv",
        "outputId": "ab13f17d-5754-43a8-8f7f-800a8e4a16b0"
      },
      "execution_count": null,
      "outputs": [
        {
          "output_type": "execute_result",
          "data": {
            "text/plain": [
              "['good', 'Good', 'GOOD', 'Good', 'GoOD']"
            ]
          },
          "metadata": {},
          "execution_count": 6
        }
      ]
    },
    {
      "cell_type": "code",
      "source": [
        "# count function is used to count the occurance of specific elemnt inside a list\n",
        "l.count(\"good\")"
      ],
      "metadata": {
        "colab": {
          "base_uri": "https://localhost:8080/"
        },
        "id": "zi_kRoCBL-ij",
        "outputId": "b33b71c7-2bc7-41eb-d076-8c66b540a849"
      },
      "execution_count": null,
      "outputs": [
        {
          "output_type": "execute_result",
          "data": {
            "text/plain": [
              "1"
            ]
          },
          "metadata": {},
          "execution_count": 7
        }
      ]
    },
    {
      "cell_type": "code",
      "source": [
        "s = \"good Good GOOD Good GoOD\"\n",
        "\n",
        "l =s.lower().split(\" \")"
      ],
      "metadata": {
        "id": "LUuwYjsMMPV8"
      },
      "execution_count": null,
      "outputs": []
    },
    {
      "cell_type": "code",
      "source": [
        "l"
      ],
      "metadata": {
        "colab": {
          "base_uri": "https://localhost:8080/"
        },
        "id": "CanhWNGMMPPU",
        "outputId": "bee048f0-4fda-4d91-a1d3-54d20cf7badf"
      },
      "execution_count": null,
      "outputs": [
        {
          "output_type": "execute_result",
          "data": {
            "text/plain": [
              "['good', 'good', 'good', 'good', 'good']"
            ]
          },
          "metadata": {},
          "execution_count": 9
        }
      ]
    },
    {
      "cell_type": "code",
      "source": [
        "l.count(\"good\")"
      ],
      "metadata": {
        "colab": {
          "base_uri": "https://localhost:8080/"
        },
        "id": "3H_lJ0xhMaq6",
        "outputId": "d0a2c309-6690-4bfe-9047-06b15ba6c394"
      },
      "execution_count": null,
      "outputs": [
        {
          "output_type": "execute_result",
          "data": {
            "text/plain": [
              "5"
            ]
          },
          "metadata": {},
          "execution_count": 10
        }
      ]
    },
    {
      "cell_type": "code",
      "source": [
        "bill = \"vadapo 40  chai 20 samosa 30\"\n",
        "\n",
        "\n",
        "# conditional statements :\n",
        "\n",
        "#s.startswith(\"w\")     -- like operator\n",
        "\n",
        "# s.endswith(\"s\")\n",
        "\n",
        "\n",
        "# n.isnumeric() ---- if string has numbers\n",
        "# s.isalpha()   --- if string has chars\n",
        "\n",
        "# s.isalnum()\n",
        "# n.isalnum()\n",
        "# m.isalnum()\n",
        "\n",
        "# n.isdecimal()\n",
        "# n.isdigit()\n",
        "# s.ischar()\n",
        "#isupper():\n",
        "#islower()\n",
        "\n"
      ],
      "metadata": {
        "id": "VN5SErU2JI-P"
      },
      "execution_count": null,
      "outputs": []
    },
    {
      "cell_type": "code",
      "source": [
        "s = \"Data Engineers\"\n",
        "s.startswith(\"D\")\n",
        "s.endswith(\"s\")"
      ],
      "metadata": {
        "colab": {
          "base_uri": "https://localhost:8080/"
        },
        "id": "mgAwo4tgJI5X",
        "outputId": "56e61b2a-e304-4f6d-b730-fb0ca6a26ef9"
      },
      "execution_count": null,
      "outputs": [
        {
          "output_type": "execute_result",
          "data": {
            "text/plain": [
              "True"
            ]
          },
          "metadata": {},
          "execution_count": 14
        }
      ]
    },
    {
      "cell_type": "code",
      "source": [
        "s = \"546544535\"\n",
        "\n",
        "s.isnumeric()\n",
        "\n",
        "s1 = \"vhvufdhvvi\"\n",
        "s1.isalpha()\n",
        "\n",
        "s2 = \"fsdjfh5452\"\n",
        "s2.isalnum()\n"
      ],
      "metadata": {
        "colab": {
          "base_uri": "https://localhost:8080/"
        },
        "id": "qWyVMmRfNtqS",
        "outputId": "1796087c-f7bf-49ad-f3df-d9a2be6fa08f"
      },
      "execution_count": null,
      "outputs": [
        {
          "output_type": "execute_result",
          "data": {
            "text/plain": [
              "True"
            ]
          },
          "metadata": {},
          "execution_count": 19
        }
      ]
    },
    {
      "cell_type": "code",
      "source": [
        "s.isalnum()     # either alphabates or numbers"
      ],
      "metadata": {
        "colab": {
          "base_uri": "https://localhost:8080/"
        },
        "id": "oQwSgeoROIa7",
        "outputId": "521a6828-9875-4720-e229-fd881d491b2b"
      },
      "execution_count": null,
      "outputs": [
        {
          "output_type": "execute_result",
          "data": {
            "text/plain": [
              "True"
            ]
          },
          "metadata": {},
          "execution_count": 20
        }
      ]
    },
    {
      "cell_type": "code",
      "source": [
        "len(s)"
      ],
      "metadata": {
        "colab": {
          "base_uri": "https://localhost:8080/"
        },
        "id": "Ox3U3NdmOKry",
        "outputId": "a40ef89b-f9cf-46f1-d4b7-7e6f79d17062"
      },
      "execution_count": null,
      "outputs": [
        {
          "output_type": "execute_result",
          "data": {
            "text/plain": [
              "9"
            ]
          },
          "metadata": {},
          "execution_count": 21
        }
      ]
    },
    {
      "cell_type": "code",
      "source": [
        "# replace :\n",
        "\n",
        "# use to replace specific part/element inside a string\n",
        "# string is imutable co\n",
        "# replace function wont able to modify existing string but it will create new string.\n",
        "s = \"we are Engineers\"\n",
        "\n",
        "m = s.replace(\"are Engineers\", \"are become Data Engineers\")"
      ],
      "metadata": {
        "colab": {
          "base_uri": "https://localhost:8080/",
          "height": 35
        },
        "id": "mbiTXr8uO_u8",
        "outputId": "ce3726a1-f6ed-4548-f018-af47e3b901cc"
      },
      "execution_count": null,
      "outputs": [
        {
          "output_type": "execute_result",
          "data": {
            "text/plain": [
              "'we are become Data Engineers'"
            ],
            "application/vnd.google.colaboratory.intrinsic+json": {
              "type": "string"
            }
          },
          "metadata": {},
          "execution_count": 23
        }
      ]
    },
    {
      "cell_type": "code",
      "source": [
        "s"
      ],
      "metadata": {
        "colab": {
          "base_uri": "https://localhost:8080/",
          "height": 35
        },
        "id": "Jim6uOi7PnkO",
        "outputId": "e6afa517-3cc5-443d-d91d-6e3db8bddf46"
      },
      "execution_count": null,
      "outputs": [
        {
          "output_type": "execute_result",
          "data": {
            "text/plain": [
              "'we are Engineers'"
            ],
            "application/vnd.google.colaboratory.intrinsic+json": {
              "type": "string"
            }
          },
          "metadata": {},
          "execution_count": 24
        }
      ]
    },
    {
      "cell_type": "code",
      "source": [
        "# EY interview question\n",
        "\n",
        "#calculate total bill amount:\n",
        "\n",
        "bill = \"vadapo 40  chai 20 samosa 30\"\n",
        "\n",
        "l_bill = bill.split(\" \")\n"
      ],
      "metadata": {
        "id": "fMtZSqtyPn9N"
      },
      "execution_count": null,
      "outputs": []
    },
    {
      "cell_type": "code",
      "source": [
        "l_bill"
      ],
      "metadata": {
        "colab": {
          "base_uri": "https://localhost:8080/"
        },
        "id": "OAQd8_kCQmoe",
        "outputId": "c3bda795-4b9b-461b-da13-843da4e714a0"
      },
      "execution_count": null,
      "outputs": [
        {
          "output_type": "execute_result",
          "data": {
            "text/plain": [
              "['vadapo', '40', '', 'chai', '20', 'samosa', '30']"
            ]
          },
          "metadata": {},
          "execution_count": 19
        }
      ]
    },
    {
      "cell_type": "code",
      "source": [
        "bill_amount = 0       # accumulator variable\n",
        "for i in l_bill:\n",
        "  if i.isnumeric():\n",
        "    bill_amount = bill_amount + int(i)\n",
        "    print(\"after interation\")\n",
        "    print(bill_amount)"
      ],
      "metadata": {
        "colab": {
          "base_uri": "https://localhost:8080/"
        },
        "id": "twEmJMBuKl3r",
        "outputId": "c6b02ff7-fa23-4875-acba-8e654985271d"
      },
      "execution_count": null,
      "outputs": [
        {
          "output_type": "stream",
          "name": "stdout",
          "text": [
            "after interation\n",
            "40\n",
            "after interation\n",
            "60\n",
            "after interation\n",
            "90\n"
          ]
        }
      ]
    },
    {
      "cell_type": "code",
      "source": [
        "# EY interview question\n",
        "\n",
        "#calculate total bill amount:\n",
        "\n",
        "bill = \"vadapo 40  chai 20 samosa 30\"\n",
        "\n",
        "l_bill = bill.split(\" \")\n",
        "\n",
        "bill_amount = 0       # accumulator variable\n",
        "for i in l_bill:\n",
        "  if i.isnumeric():\n",
        "    bill_amount = bill_amount + int(i)\n",
        "\n",
        "print(bill_amount)\n",
        "\n"
      ],
      "metadata": {
        "colab": {
          "base_uri": "https://localhost:8080/"
        },
        "id": "-8iPLbzPLyT5",
        "outputId": "0b465131-f28f-404d-b256-5dec5c9ac7c4"
      },
      "execution_count": null,
      "outputs": [
        {
          "output_type": "stream",
          "name": "stdout",
          "text": [
            "90\n"
          ]
        }
      ]
    },
    {
      "cell_type": "code",
      "source": [
        "# way 2 :\n",
        "\n",
        "bill = \"vadapo 40  chai 20 samosa 30\"\n",
        "\n",
        "l_bill = bill.split(\" \")\n",
        "\n",
        "l2 = []     # list to strore numeric values\n",
        "for i in l_bill:\n",
        "  if i.isnumeric():\n",
        "    l2.append(int(i))\n",
        "\n",
        "print(l2)\n",
        "\n",
        "total_bill_amount = sum(l2)\n",
        "print(\"total_bill_amount :\",total_bill_amount)\n",
        "\n",
        "\n",
        "\n",
        "\n"
      ],
      "metadata": {
        "colab": {
          "base_uri": "https://localhost:8080/"
        },
        "id": "u4loEW4_MM5A",
        "outputId": "dc8341b4-8823-4de0-8490-4e845a5cac77"
      },
      "execution_count": null,
      "outputs": [
        {
          "output_type": "stream",
          "name": "stdout",
          "text": [
            "[40, 20, 30]\n",
            "total_bill_amount : 90\n"
          ]
        }
      ]
    },
    {
      "cell_type": "code",
      "source": [
        "#DAY - 06 :\n",
        "\n",
        "# TOPICS :\n",
        "\n",
        "# For Loop\n",
        "# if else statements"
      ],
      "metadata": {
        "id": "XTjF7O3PQogw"
      },
      "execution_count": null,
      "outputs": []
    },
    {
      "cell_type": "code",
      "source": [
        "#for :\n",
        "\n",
        "#1 for i in range(start,end,stepsize):\n",
        " # end is a compulsory parameter , start and stepsize are optional (start = 0 , stepsize = 1)\n",
        "\n",
        "#2 to fetch elements from string\n",
        " for i in string1:\n",
        "\n",
        "#3 to fetch from list\n",
        "for element in l1:"
      ],
      "metadata": {
        "id": "v1ybt95aQ6FH"
      },
      "execution_count": null,
      "outputs": []
    },
    {
      "cell_type": "code",
      "source": [
        "for i in range():    # end point is compulsory parameter\n",
        "  print(i)\n",
        "\n",
        "for i range(6):    # end point 6 , bydefault startpoint = 0 , stepsize it will take 1\n",
        "\n",
        "for i in range(1,6)    # end point 6 ,  startpoint = 1 , stepsize it will take 1\n",
        "\n",
        "for i in range(1,6,2)    # end point 6 ,  startpoint = 1 , stepsize = 2"
      ],
      "metadata": {
        "colab": {
          "base_uri": "https://localhost:8080/",
          "height": 165
        },
        "id": "WK6_gmb8IwyM",
        "outputId": "51ae8380-8b8a-48dc-af5f-2b5c37be8da4"
      },
      "execution_count": null,
      "outputs": [
        {
          "output_type": "error",
          "ename": "TypeError",
          "evalue": "range expected at least 1 argument, got 0",
          "traceback": [
            "\u001b[0;31m---------------------------------------------------------------------------\u001b[0m",
            "\u001b[0;31mTypeError\u001b[0m                                 Traceback (most recent call last)",
            "\u001b[0;32m<ipython-input-14-c9821487a3c9>\u001b[0m in \u001b[0;36m<cell line: 0>\u001b[0;34m()\u001b[0m\n\u001b[0;32m----> 1\u001b[0;31m \u001b[0;32mfor\u001b[0m \u001b[0mi\u001b[0m \u001b[0;32min\u001b[0m \u001b[0mrange\u001b[0m\u001b[0;34m(\u001b[0m\u001b[0;34m)\u001b[0m\u001b[0;34m:\u001b[0m\u001b[0;34m\u001b[0m\u001b[0;34m\u001b[0m\u001b[0m\n\u001b[0m\u001b[1;32m      2\u001b[0m   \u001b[0mprint\u001b[0m\u001b[0;34m(\u001b[0m\u001b[0mi\u001b[0m\u001b[0;34m)\u001b[0m\u001b[0;34m\u001b[0m\u001b[0;34m\u001b[0m\u001b[0m\n",
            "\u001b[0;31mTypeError\u001b[0m: range expected at least 1 argument, got 0"
          ]
        }
      ]
    },
    {
      "cell_type": "code",
      "source": [
        "# iterate over iterable object\n",
        "\n",
        "s = [12,56,89,25,36,42]\n",
        "\n",
        "for i in s:\n",
        "  print(i)\n",
        "\n"
      ],
      "metadata": {
        "colab": {
          "base_uri": "https://localhost:8080/"
        },
        "id": "7pXR56u7Fd5T",
        "outputId": "acb71330-68ed-470a-e029-4045cc831840"
      },
      "execution_count": null,
      "outputs": [
        {
          "output_type": "stream",
          "name": "stdout",
          "text": [
            "12\n",
            "56\n",
            "89\n",
            "25\n",
            "36\n",
            "42\n"
          ]
        }
      ]
    },
    {
      "cell_type": "code",
      "source": [
        "S = \"JHGDSFJSF \"\n",
        "\n",
        "for i in S:\n",
        "  print(i)"
      ],
      "metadata": {
        "colab": {
          "base_uri": "https://localhost:8080/"
        },
        "id": "X2KP5Ww9GC-6",
        "outputId": "91a20890-f44a-427d-8656-c9c53e90c005"
      },
      "execution_count": null,
      "outputs": [
        {
          "output_type": "stream",
          "name": "stdout",
          "text": [
            "J\n",
            "H\n",
            "G\n",
            "D\n",
            "S\n",
            "F\n",
            "J\n",
            "S\n",
            "F\n",
            " \n"
          ]
        }
      ]
    },
    {
      "cell_type": "code",
      "source": [
        "d = {\"fg\": \"dgfds\"}\n",
        "\n",
        "for j in d:\n",
        "  print(j)"
      ],
      "metadata": {
        "colab": {
          "base_uri": "https://localhost:8080/"
        },
        "id": "D-KPxtRvGN1x",
        "outputId": "94b3ad89-1a7a-456b-d472-26b237052eb1"
      },
      "execution_count": null,
      "outputs": [
        {
          "output_type": "stream",
          "name": "stdout",
          "text": [
            "fg\n"
          ]
        }
      ]
    },
    {
      "cell_type": "code",
      "source": [
        "s = [12,56,89,25,36,42]\n",
        "for i in range(6):\n",
        "  print(s[i])"
      ],
      "metadata": {
        "colab": {
          "base_uri": "https://localhost:8080/"
        },
        "id": "mgtiPjIyGmj7",
        "outputId": "26d582dd-5a3e-40f8-bc3a-d7716f1f7476"
      },
      "execution_count": null,
      "outputs": [
        {
          "output_type": "stream",
          "name": "stdout",
          "text": [
            "12\n",
            "56\n",
            "89\n",
            "25\n",
            "36\n",
            "42\n"
          ]
        }
      ]
    },
    {
      "cell_type": "code",
      "source": [
        "# find even index elements\n",
        "s = [12,56,89,25,36,42]\n",
        "for i in range(1,6,2):\n",
        "  print(s[i])\n"
      ],
      "metadata": {
        "colab": {
          "base_uri": "https://localhost:8080/"
        },
        "id": "djgw0KMZGnPB",
        "outputId": "6dadc755-40c3-4c21-c698-9669d272e629"
      },
      "execution_count": null,
      "outputs": [
        {
          "output_type": "stream",
          "name": "stdout",
          "text": [
            "56\n",
            "25\n",
            "42\n"
          ]
        }
      ]
    },
    {
      "cell_type": "code",
      "source": [
        "for i in range(1,6):\n",
        "  print(i)"
      ],
      "metadata": {
        "colab": {
          "base_uri": "https://localhost:8080/"
        },
        "id": "ZNoMKI79Hphm",
        "outputId": "f079a0de-5d68-4c27-ef6f-c4413908ec67"
      },
      "execution_count": null,
      "outputs": [
        {
          "output_type": "stream",
          "name": "stdout",
          "text": [
            "1\n",
            "2\n",
            "3\n",
            "4\n",
            "5\n"
          ]
        }
      ]
    },
    {
      "cell_type": "code",
      "source": [
        "l = [(1,3),(\"f\",\"k\"),(25,89)]\n",
        "\n",
        "for i in l:\n",
        "  print(i[0],i[1])"
      ],
      "metadata": {
        "colab": {
          "base_uri": "https://localhost:8080/"
        },
        "id": "25eEiCdbH3Bp",
        "outputId": "7e06539f-01ea-414b-9452-9dbe7e96294c"
      },
      "execution_count": null,
      "outputs": [
        {
          "output_type": "stream",
          "name": "stdout",
          "text": [
            "1 3\n",
            "f k\n",
            "25 89\n"
          ]
        }
      ]
    },
    {
      "cell_type": "code",
      "source": [
        "for i,j in l:\n",
        "  print(i,j)"
      ],
      "metadata": {
        "colab": {
          "base_uri": "https://localhost:8080/"
        },
        "id": "dKTk26AJIXtj",
        "outputId": "d205315f-46f4-4b00-c2ba-17e0c5916de9"
      },
      "execution_count": null,
      "outputs": [
        {
          "output_type": "stream",
          "name": "stdout",
          "text": [
            "1 3\n",
            "f k\n",
            "25 89\n"
          ]
        }
      ]
    },
    {
      "cell_type": "code",
      "source": [
        "l = [(1,3),(\"f\",\"k\"),(25,89)]\n",
        "\n",
        "for i in l:\n",
        "print(i[0],i[1])\n",
        "\n",
        "\n",
        "# indetation error"
      ],
      "metadata": {
        "colab": {
          "base_uri": "https://localhost:8080/",
          "height": 110
        },
        "id": "_CPnomHXJ28y",
        "outputId": "99b24eca-2cd5-47a6-cb01-15cbc32f239b"
      },
      "execution_count": null,
      "outputs": [
        {
          "output_type": "error",
          "ename": "IndentationError",
          "evalue": "expected an indented block after 'for' statement on line 3 (<ipython-input-16-7e1809c85483>, line 4)",
          "traceback": [
            "\u001b[0;36m  File \u001b[0;32m\"<ipython-input-16-7e1809c85483>\"\u001b[0;36m, line \u001b[0;32m4\u001b[0m\n\u001b[0;31m    print(i[0],i[1])\u001b[0m\n\u001b[0m    ^\u001b[0m\n\u001b[0;31mIndentationError\u001b[0m\u001b[0;31m:\u001b[0m expected an indented block after 'for' statement on line 3\n"
          ]
        }
      ]
    },
    {
      "cell_type": "code",
      "source": [
        "# Conditional statements:\n",
        "\n",
        "if condition:\n",
        "\n",
        "elif condition2:\n",
        "\n",
        "elif condn 3:\n",
        "\n",
        "else:\n"
      ],
      "metadata": {
        "id": "BH0a90GDJmVR"
      },
      "execution_count": null,
      "outputs": []
    },
    {
      "cell_type": "code",
      "source": [
        "# practice question :\n",
        "\n",
        "bill = \"vadapo 40  chai 20 samosa 30\"\n",
        "\n",
        "#Q1 : find out the count of numeric words\n",
        "\n",
        "#Q2 : want to find ocuurance of word students inside a string\n",
        "\n",
        "s = \" STUDENTS studEnts students stuDents studenTs dgdf dfgdg dfg fhg dad ryuhgffgs tjfdds wtdzg jdsg \"\n",
        "\n",
        "# Q3: find occurance of each word inside a string\n",
        "\n",
        "\n",
        "Q4 : input = [ i for i in range(101)]\n",
        "\n",
        "#A) odd elemnts odd_list =\n",
        "b) even elements  even_list =\n",
        "\n",
        "\n",
        "\n",
        "\n"
      ],
      "metadata": {
        "id": "uQ5EC29WM4rf"
      },
      "execution_count": null,
      "outputs": []
    },
    {
      "cell_type": "code",
      "source": [
        "s = [ i for i in range(111)]"
      ],
      "metadata": {
        "id": "aJrwqn3tM4ex"
      },
      "execution_count": null,
      "outputs": []
    },
    {
      "cell_type": "code",
      "source": [
        "s"
      ],
      "metadata": {
        "colab": {
          "base_uri": "https://localhost:8080/"
        },
        "id": "JdNWGQtFOGop",
        "outputId": "6ae5d132-f120-43ae-dc23-8e9e1d85cd7d"
      },
      "execution_count": null,
      "outputs": [
        {
          "output_type": "execute_result",
          "data": {
            "text/plain": [
              "[0,\n",
              " 1,\n",
              " 2,\n",
              " 3,\n",
              " 4,\n",
              " 5,\n",
              " 6,\n",
              " 7,\n",
              " 8,\n",
              " 9,\n",
              " 10,\n",
              " 11,\n",
              " 12,\n",
              " 13,\n",
              " 14,\n",
              " 15,\n",
              " 16,\n",
              " 17,\n",
              " 18,\n",
              " 19,\n",
              " 20,\n",
              " 21,\n",
              " 22,\n",
              " 23,\n",
              " 24,\n",
              " 25,\n",
              " 26,\n",
              " 27,\n",
              " 28,\n",
              " 29,\n",
              " 30,\n",
              " 31,\n",
              " 32,\n",
              " 33,\n",
              " 34,\n",
              " 35,\n",
              " 36,\n",
              " 37,\n",
              " 38,\n",
              " 39,\n",
              " 40,\n",
              " 41,\n",
              " 42,\n",
              " 43,\n",
              " 44,\n",
              " 45,\n",
              " 46,\n",
              " 47,\n",
              " 48,\n",
              " 49,\n",
              " 50,\n",
              " 51,\n",
              " 52,\n",
              " 53,\n",
              " 54,\n",
              " 55,\n",
              " 56,\n",
              " 57,\n",
              " 58,\n",
              " 59,\n",
              " 60,\n",
              " 61,\n",
              " 62,\n",
              " 63,\n",
              " 64,\n",
              " 65,\n",
              " 66,\n",
              " 67,\n",
              " 68,\n",
              " 69,\n",
              " 70,\n",
              " 71,\n",
              " 72,\n",
              " 73,\n",
              " 74,\n",
              " 75,\n",
              " 76,\n",
              " 77,\n",
              " 78,\n",
              " 79,\n",
              " 80,\n",
              " 81,\n",
              " 82,\n",
              " 83,\n",
              " 84,\n",
              " 85,\n",
              " 86,\n",
              " 87,\n",
              " 88,\n",
              " 89,\n",
              " 90,\n",
              " 91,\n",
              " 92,\n",
              " 93,\n",
              " 94,\n",
              " 95,\n",
              " 96,\n",
              " 97,\n",
              " 98,\n",
              " 99,\n",
              " 100,\n",
              " 101,\n",
              " 102,\n",
              " 103,\n",
              " 104,\n",
              " 105,\n",
              " 106,\n",
              " 107,\n",
              " 108,\n",
              " 109,\n",
              " 110]"
            ]
          },
          "metadata": {},
          "execution_count": 29
        }
      ]
    },
    {
      "cell_type": "code",
      "source": [
        "s = \" STUDENTS studEnts students stuDents studenTs dgdf dfgdg dfg fhg dad ryuhgffgs tjfdds wtdzg jdsg \"\n",
        "\n",
        "s1 = s.lower()\n",
        "# Q3: find occurance of each word inside a string\n",
        "\n",
        "l = s1.split(\" \")\n",
        "\n",
        "#{student : 5 , dgdf : }\n",
        "d = {}\n",
        "for i in l:                           # \" \" , student\n",
        "  d[i]= l.count(i)\n",
        "\n"
      ],
      "metadata": {
        "id": "rWFQa5iAOHVl"
      },
      "execution_count": null,
      "outputs": []
    },
    {
      "cell_type": "code",
      "source": [
        "print(d)"
      ],
      "metadata": {
        "colab": {
          "base_uri": "https://localhost:8080/"
        },
        "id": "R3nHX3qybUJE",
        "outputId": "5332cc43-545f-456f-a09e-cc823f1002be"
      },
      "execution_count": null,
      "outputs": [
        {
          "output_type": "stream",
          "name": "stdout",
          "text": [
            "{'': 2, 'students': 5, 'dgdf': 1, 'dfgdg': 1, 'dfg': 1, 'fhg': 1, 'dad': 1, 'ryuhgffgs': 1, 'tjfdds': 1, 'wtdzg': 1, 'jdsg': 1}\n"
          ]
        }
      ]
    },
    {
      "cell_type": "code",
      "source": [
        "# solve above without using count inbuilt function"
      ],
      "metadata": {
        "id": "LtlkX0L7bUtb"
      },
      "execution_count": null,
      "outputs": []
    },
    {
      "cell_type": "code",
      "source": [
        "{i: s.lower().split().count(i) for i in s.lower().split()}"
      ],
      "metadata": {
        "colab": {
          "base_uri": "https://localhost:8080/"
        },
        "id": "1b0jePOPb1VM",
        "outputId": "45f03836-c191-4b32-c510-1c693999f067"
      },
      "execution_count": null,
      "outputs": [
        {
          "output_type": "execute_result",
          "data": {
            "text/plain": [
              "{'students': 5,\n",
              " 'dgdf': 1,\n",
              " 'dfgdg': 1,\n",
              " 'dfg': 1,\n",
              " 'fhg': 1,\n",
              " 'dad': 1,\n",
              " 'ryuhgffgs': 1,\n",
              " 'tjfdds': 1,\n",
              " 'wtdzg': 1,\n",
              " 'jdsg': 1}"
            ]
          },
          "metadata": {},
          "execution_count": 8
        }
      ]
    },
    {
      "cell_type": "code",
      "source": [
        "# if else\n",
        "\n",
        "l = [ \"a\",\"b\",\"c\",\"1\",\"3\",\"5\",\"2\",\"8\"]\n",
        "if the element is char add to char list\n",
        "if elemnt is numeric --- odd -- oddlist  even -- evenlist"
      ],
      "metadata": {
        "id": "uyhRxWNvcH7O"
      },
      "execution_count": null,
      "outputs": []
    },
    {
      "cell_type": "code",
      "source": [
        "l = [ \"a\",\"b\",\"c\",\"1\",\"3\",\"5\",\"2\",\"8\"]\n",
        "\n",
        "char_list = []\n",
        "even_list = []\n",
        "odd_list = []\n",
        "for i in l:                             # \"a\",\"b\",\"c\"      1\n",
        "  if i.isalpha():                       # True,True , true , false\n",
        "    char_list.append(i)\n",
        "  else:\n",
        "    if int(i)%2 == 0 :                             #false\n",
        "      even_list.append(int(i))\n",
        "    else:\n",
        "      odd_list.append(int(i))\n",
        "\n",
        "\n",
        "\n"
      ],
      "metadata": {
        "id": "zB63oQgLc1Ix"
      },
      "execution_count": null,
      "outputs": []
    },
    {
      "cell_type": "code",
      "source": [
        "print(char_list )\n",
        "print(even_list)\n",
        "print(odd_list)"
      ],
      "metadata": {
        "colab": {
          "base_uri": "https://localhost:8080/"
        },
        "id": "hdGH8ZztdysN",
        "outputId": "a981ac50-961f-4e1e-e097-6b9699b874d1"
      },
      "execution_count": null,
      "outputs": [
        {
          "output_type": "stream",
          "name": "stdout",
          "text": [
            "['a', 'b', 'c']\n",
            "[2, 8]\n",
            "[1, 3, 5]\n"
          ]
        }
      ]
    },
    {
      "cell_type": "code",
      "source": [
        "l = [ \"a\",\"b\",\"c\",\"1\",\"3\",\"5\",\"2\",\"8\",\"%\",\"&\",\"$\"]\n",
        "\n",
        "# add piece of code to append special characters to symbols_list"
      ],
      "metadata": {
        "id": "A-DaOffRfNNb"
      },
      "execution_count": null,
      "outputs": []
    },
    {
      "cell_type": "code",
      "source": [
        "l = [ \"Samrudh\", \"Samadhan\", \"Shubham\", \"Bhaskar\", \"Bobby\", \"Ankush \", \"jitu \"]\n",
        "\n",
        "s_list = []\n",
        "b_list = []\n",
        "a_list = []\n",
        "j_list = []\n",
        "for element in l:\n",
        "  if element.startswith(\"S\"):\n",
        "    s_list.append(element)\n",
        "  elif element.startswith(\"B\"):\n",
        "    b_list.append(element)\n",
        "  elif element.startswith(\"A\"):\n",
        "    a_list.append(element)\n",
        "  else:\n",
        "    j_list.append(element)\n",
        "\n"
      ],
      "metadata": {
        "id": "iIzvHI-Iff5w"
      },
      "execution_count": null,
      "outputs": []
    },
    {
      "cell_type": "code",
      "source": [
        "print(s_list )\n",
        "print(b_list)\n",
        "print(a_list)\n",
        "print(j_list)"
      ],
      "metadata": {
        "colab": {
          "base_uri": "https://localhost:8080/"
        },
        "id": "AWUh6U3EhE8p",
        "outputId": "e4dd9fda-9a53-4d14-91e3-af3951e340a0"
      },
      "execution_count": null,
      "outputs": [
        {
          "output_type": "stream",
          "name": "stdout",
          "text": [
            "['Samrudh', 'Samadhan', 'Shubham']\n",
            "['Bhaskar', 'Bobby']\n",
            "['Ankush ']\n",
            "['jitu ']\n"
          ]
        }
      ]
    },
    {
      "cell_type": "code",
      "source": [
        "# break and continue and pass\n",
        "\n",
        "# break :\n",
        "# it will directly exit the loop and stop the further iterations\n",
        "# it will break the loop\n",
        "\n",
        "# continue:\n",
        "# it will skip the code part written below the continue block\n",
        "# i.e. it is simply says continue to next iteration\n",
        "\n",
        "#pass:\n",
        "\n",
        "\n"
      ],
      "metadata": {
        "id": "xAK9ikt_hYI3"
      },
      "execution_count": null,
      "outputs": []
    },
    {
      "cell_type": "code",
      "source": [
        "for i in range(10):    # 0,\n",
        "  if i == 3:\n",
        "    break\n",
        "  print(i)"
      ],
      "metadata": {
        "colab": {
          "base_uri": "https://localhost:8080/"
        },
        "id": "6TTZmN_0iWHS",
        "outputId": "05e5f3d2-8ad7-4083-c203-44173709b60f"
      },
      "execution_count": null,
      "outputs": [
        {
          "output_type": "stream",
          "name": "stdout",
          "text": [
            "0\n",
            "1\n",
            "2\n"
          ]
        }
      ]
    },
    {
      "cell_type": "code",
      "source": [
        "for i in range(10):\n",
        "  if i == 4:\n",
        "    continue\n",
        "  print(\"heyyyy  \", i)\n",
        "  print(\"okky \",i)\n"
      ],
      "metadata": {
        "colab": {
          "base_uri": "https://localhost:8080/"
        },
        "id": "dgyjBSq4jDW9",
        "outputId": "a5e50598-e9c6-4ba7-8acc-3edbe9f88dbf"
      },
      "execution_count": null,
      "outputs": [
        {
          "output_type": "stream",
          "name": "stdout",
          "text": [
            "heyyyy   0\n",
            "okky  0\n",
            "heyyyy   1\n",
            "okky  1\n",
            "heyyyy   2\n",
            "okky  2\n",
            "heyyyy   3\n",
            "okky  3\n",
            "heyyyy   5\n",
            "okky  5\n",
            "heyyyy   6\n",
            "okky  6\n",
            "heyyyy   7\n",
            "okky  7\n",
            "heyyyy   8\n",
            "okky  8\n",
            "heyyyy   9\n",
            "okky  9\n"
          ]
        }
      ]
    },
    {
      "cell_type": "code",
      "source": [
        "for i in range(10):    # 0,\n",
        "  if i == 3:\n",
        "    pass\n",
        "  print(i)"
      ],
      "metadata": {
        "colab": {
          "base_uri": "https://localhost:8080/"
        },
        "id": "JVUkb4gmihIu",
        "outputId": "dacb1d63-53c7-4f78-d80b-08bb972c4d19"
      },
      "execution_count": null,
      "outputs": [
        {
          "output_type": "stream",
          "name": "stdout",
          "text": [
            "0\n",
            "1\n",
            "2\n",
            "3\n",
            "4\n",
            "5\n",
            "6\n",
            "7\n",
            "8\n",
            "9\n"
          ]
        }
      ]
    },
    {
      "cell_type": "code",
      "source": [
        "# while condition :\n",
        "# initilisation is must in case of while unlike for\n",
        "# need to write increment logic\n",
        "# it is condirtional iterator\n",
        "\n"
      ],
      "metadata": {
        "id": "rfm6CKtqijHd"
      },
      "execution_count": null,
      "outputs": []
    },
    {
      "cell_type": "code",
      "source": [
        "i = 0\n",
        "while i < 10 :\n",
        "  print(i)\n",
        "  i += 1                      # i = i + 1\n",
        "\n",
        "\n",
        "\n",
        "# for i in range(10):\n",
        "     #print(i)"
      ],
      "metadata": {
        "colab": {
          "base_uri": "https://localhost:8080/"
        },
        "id": "V0e_PYK-jPDa",
        "outputId": "6628e10d-37c2-4d34-c6a3-05e5bffd9eeb"
      },
      "execution_count": null,
      "outputs": [
        {
          "output_type": "stream",
          "name": "stdout",
          "text": [
            "0\n",
            "1\n",
            "2\n",
            "3\n",
            "4\n",
            "5\n",
            "6\n",
            "7\n",
            "8\n",
            "9\n"
          ]
        }
      ]
    },
    {
      "cell_type": "code",
      "source": [
        "# never ending loop\n",
        "\n",
        "i = 0\n",
        "while i >= 0:\n",
        "  print(i)\n",
        "  i += 1"
      ],
      "metadata": {
        "id": "xBk7lftWk-mG"
      },
      "execution_count": null,
      "outputs": []
    },
    {
      "cell_type": "code",
      "source": [
        "l = [ 0 ,........, 100]\n",
        "\n",
        "if 0 to 18 ---- STUDENT\n",
        " 18 TO 22 ---- BACHELOR\n",
        " 22 TO 60 -- WP\n",
        " > 60  ----- RETIRED\n",
        "\n",
        "\n",
        "\n",
        "\n",
        " IF AGE < 18 :           100 times\n",
        "    print(STUDENT)\n",
        "elif 23 < age> 18 :       100 - 18  --- 82 times\n",
        "    print (bachelor)\n",
        "\n",
        "elif                       100 - 18 - 15 ------ 68\n",
        "\n",
        "\n",
        "\n",
        "IF AGE < 18 :           100 times\n",
        "    print(STUDENT)\n",
        "\n",
        "if 23 < age> 18 :       100 times\n",
        "    print (bachelor)\n",
        "\n"
      ],
      "metadata": {
        "id": "2ppYQnPNlKt0"
      },
      "execution_count": null,
      "outputs": []
    },
    {
      "cell_type": "code",
      "source": [
        "l = [\"asd\", \"dfg\",\"dfgg\",\"asdf\"]\n",
        "\n",
        "for word in l:\n",
        "  if len(word)> 3:\n",
        "    print(\"in if block  \", word)\n",
        "  elif word.startswith(\"a\"):\n",
        "    print(\"in elief block \", word)\n",
        "  else:\n",
        "    print(\"in else block\",word)"
      ],
      "metadata": {
        "colab": {
          "base_uri": "https://localhost:8080/"
        },
        "id": "CV7qIhv7nH9h",
        "outputId": "aac973e0-cde2-4e05-b43d-af66b1a8a16f"
      },
      "execution_count": null,
      "outputs": [
        {
          "output_type": "stream",
          "name": "stdout",
          "text": [
            "in elief block  asd\n",
            "in else block dfg\n",
            "in if block   dfgg\n",
            "in if block   asdf\n"
          ]
        }
      ]
    },
    {
      "cell_type": "code",
      "source": [
        "l = [\"asd\", \"dfg\",\"dfgg\",\"asdf\"]\n",
        "\n",
        "for word in l:\n",
        "  if len(word)> 3:            # no of iterations 4\n",
        "    print(\"in if block  \", word)\n",
        "  if word.startswith(\"a\"):    # no of iterations 4\n",
        "    print(\"in elief block \", word)\n"
      ],
      "metadata": {
        "colab": {
          "base_uri": "https://localhost:8080/"
        },
        "id": "3AiZi-qnpCGG",
        "outputId": "7af96621-b343-40ca-dbb3-bc4cf0529e41"
      },
      "execution_count": null,
      "outputs": [
        {
          "output_type": "stream",
          "name": "stdout",
          "text": [
            "in elief block  asd\n",
            "in if block   dfgg\n",
            "in if block   asdf\n",
            "in elief block  asdf\n"
          ]
        }
      ]
    },
    {
      "cell_type": "code",
      "source": [
        "for loop , while loop , if else"
      ],
      "metadata": {
        "id": "z-OzdkcYpl18"
      },
      "execution_count": null,
      "outputs": []
    },
    {
      "cell_type": "code",
      "source": [
        "s = \"asdf djfdgf fjgsdf  ghfhu hvfdh uuh yiui ooh kh t h j k\"\n",
        "\n",
        "# que add the data according to there length\n",
        "\n",
        "l = s.split(\" \")\n",
        "print(l)\n",
        "\n",
        "l1 = []\n",
        "l2 = []\n",
        "l3 = []\n",
        "l4 = []\n",
        "for word in l:\n",
        "  if len(word) == 1:\n",
        "    l1.append(word)\n",
        "  elif len(word) == 2:\n",
        "    l2.append(word)\n",
        "  elif len(word) == 3:\n",
        "    l3.append(word)\n",
        "  else:\n",
        "    l4.append(word)"
      ],
      "metadata": {
        "colab": {
          "base_uri": "https://localhost:8080/"
        },
        "id": "lwQ2G0Etprcs",
        "outputId": "999265ff-c7ee-4403-f55a-5b8e98f334a9"
      },
      "execution_count": null,
      "outputs": [
        {
          "output_type": "stream",
          "name": "stdout",
          "text": [
            "['asdf', 'djfdgf', 'fjgsdf', '', 'ghfhu', 'hvfdh', 'uuh', 'yiui', 'ooh', 'kh', 't', 'h', 'j', 'k']\n"
          ]
        }
      ]
    },
    {
      "cell_type": "code",
      "source": [
        "print(l1)\n",
        "print(l2)\n",
        "print(l3)\n",
        "print(l4)"
      ],
      "metadata": {
        "colab": {
          "base_uri": "https://localhost:8080/"
        },
        "id": "wR2JlqCSq_aV",
        "outputId": "67d9f55e-b0f7-44ec-d52a-5d5a2c33d751"
      },
      "execution_count": null,
      "outputs": [
        {
          "output_type": "stream",
          "name": "stdout",
          "text": [
            "['t', 'h', 'j', 'k']\n",
            "['kh']\n",
            "['uuh', 'ooh']\n",
            "['asdf', 'djfdgf', 'fjgsdf', '', 'ghfhu', 'hvfdh', 'yiui']\n"
          ]
        }
      ]
    },
    {
      "cell_type": "code",
      "source": [
        "l= []\n",
        "for i in range(20):\n",
        "  if i%2 == 0 :\n",
        "    l.append(i)"
      ],
      "metadata": {
        "id": "wlJHU-i8_sTT"
      },
      "execution_count": null,
      "outputs": []
    },
    {
      "cell_type": "code",
      "source": [
        "print(l)"
      ],
      "metadata": {
        "colab": {
          "base_uri": "https://localhost:8080/"
        },
        "id": "QNfX6iHR_sFV",
        "outputId": "1abd9e06-c504-4658-8664-99c2d6d0c8c6"
      },
      "execution_count": null,
      "outputs": [
        {
          "output_type": "stream",
          "name": "stdout",
          "text": [
            "[0, 1, 2, 3, 4, 5, 6, 7, 8, 9, 10, 11, 12, 13, 14, 15, 16, 17, 18, 19]\n"
          ]
        }
      ]
    },
    {
      "cell_type": "code",
      "source": [
        "# list compre.\n",
        "\n",
        "# it is used to reduce no of lines in code\n",
        "# it makes code more readable\n",
        "# output of this is must a list\n",
        "\n",
        "m = [ i for i in range(20) if i%2 == 0]"
      ],
      "metadata": {
        "id": "_QdOzkW1_r1T"
      },
      "execution_count": null,
      "outputs": []
    },
    {
      "cell_type": "code",
      "source": [
        "type(m)"
      ],
      "metadata": {
        "colab": {
          "base_uri": "https://localhost:8080/"
        },
        "id": "s2VmSjHpAxnS",
        "outputId": "5604a4a9-d744-4f0b-dfa6-7a7b37ce6414"
      },
      "execution_count": null,
      "outputs": [
        {
          "output_type": "execute_result",
          "data": {
            "text/plain": [
              "list"
            ]
          },
          "metadata": {},
          "execution_count": 7
        }
      ]
    },
    {
      "cell_type": "code",
      "source": [
        "# set compre.\n",
        "\n",
        "m = { i for i in range(20) if i%2 == 0}"
      ],
      "metadata": {
        "id": "RAznLJhRBw2b"
      },
      "execution_count": null,
      "outputs": []
    },
    {
      "cell_type": "code",
      "source": [
        "# Dict compre\n",
        "\n",
        "#sample = {\"key\": \"value\"}\n",
        "\n",
        "s = \"asd ghd dfdhf hdh yuify asd ghd\"\n",
        "# count occurance of each word inside a string\n",
        "\n",
        "m = s.split(\" \")\n",
        "\n",
        "print(m)\n",
        "\n",
        "d = {}\n",
        "for word in m:\n",
        "  d[word] = m.count(word)\n",
        "\n",
        "# solve above ques without using inbuilt count function:\n",
        "\n",
        "\n",
        "\n",
        "# Dict compreh\n",
        "\n",
        "d1 = {i:m.count(i) for i in m}\n",
        "\n",
        "\n",
        "\n",
        "\n",
        "\n"
      ],
      "metadata": {
        "colab": {
          "base_uri": "https://localhost:8080/"
        },
        "id": "aA0j1S-zCMwm",
        "outputId": "3d039168-2f56-4d7f-edd1-d1544c7863a8"
      },
      "execution_count": null,
      "outputs": [
        {
          "output_type": "stream",
          "name": "stdout",
          "text": [
            "['asd', 'ghd', 'dfdhf', 'hdh', 'yuify', 'asd', 'ghd']\n"
          ]
        }
      ]
    },
    {
      "cell_type": "code",
      "source": [
        "print(d)"
      ],
      "metadata": {
        "colab": {
          "base_uri": "https://localhost:8080/"
        },
        "id": "nhL76tfzDBP-",
        "outputId": "367878e1-bebe-4c3a-9c6e-e9cc7ada7c60"
      },
      "execution_count": null,
      "outputs": [
        {
          "output_type": "stream",
          "name": "stdout",
          "text": [
            "{'asd': 2, 'ghd': 2, 'dfdhf': 1, 'hdh': 1, 'yuify': 1}\n"
          ]
        }
      ]
    },
    {
      "cell_type": "code",
      "source": [
        "s = \"asd ghd dfdhf hdh yuify asd ghd\"\n",
        "# count occurance of each word inside a string\n",
        "\n",
        "m = s.split(\" \")\n",
        "\n",
        "# Dict compreh\n",
        "\n",
        "d1 = {i:m.count(i) for i in m}"
      ],
      "metadata": {
        "id": "c8Ds4orZDsYw"
      },
      "execution_count": null,
      "outputs": []
    },
    {
      "cell_type": "code",
      "source": [
        "d1"
      ],
      "metadata": {
        "colab": {
          "base_uri": "https://localhost:8080/"
        },
        "id": "x1cL3k9rDxyV",
        "outputId": "5129d1ea-b0d5-40f4-ba11-13bf3380cfef"
      },
      "execution_count": null,
      "outputs": [
        {
          "output_type": "execute_result",
          "data": {
            "text/plain": [
              "{'asd': 2, 'ghd': 2, 'dfdhf': 1, 'hdh': 1, 'yuify': 1}"
            ]
          },
          "metadata": {},
          "execution_count": 13
        }
      ]
    },
    {
      "cell_type": "code",
      "source": [
        "# without using inbuilt fuctions\n",
        "s = \"asd ghd dfdhf hdh yuify asd ghd\"\n",
        "l = s.split(\" \")  # ['asd', 'ghd', 'dfdhf', 'hdh', 'yuify', 'asd', 'ghd']\n",
        "\n",
        "d2 = {}\n",
        "for i in l:     #asd\n",
        "  if i not in d2:      # true\n",
        "    d2[i] = 1            #{\"asd\": 1 }\n",
        "  else:\n",
        "    d2[i] += 1\n"
      ],
      "metadata": {
        "id": "nYc8-4jrIv8M"
      },
      "execution_count": null,
      "outputs": []
    },
    {
      "cell_type": "code",
      "source": [
        "d2"
      ],
      "metadata": {
        "colab": {
          "base_uri": "https://localhost:8080/"
        },
        "id": "cAEJenJuIvz2",
        "outputId": "2238b29e-dabb-4c54-f497-ebf61a8bd865"
      },
      "execution_count": null,
      "outputs": [
        {
          "output_type": "execute_result",
          "data": {
            "text/plain": [
              "{'asd': 2, 'ghd': 2, 'dfdhf': 1, 'hdh': 1, 'yuify': 1}"
            ]
          },
          "metadata": {},
          "execution_count": 2
        }
      ]
    },
    {
      "cell_type": "code",
      "source": [
        "# add the elements having same length into same list\n",
        "l = [125,554,89,45,23,85,69,15,48,1,0,0,0,5,12245,78995,12145,12236]\n",
        "\n",
        "# remove duplicates from list other than using set\n",
        "m = [1,1,1,2,2,2,3]"
      ],
      "metadata": {
        "id": "2F7itybmDyY6"
      },
      "execution_count": null,
      "outputs": []
    },
    {
      "cell_type": "code",
      "source": [
        "m = [1,1,1,2,2,2,3]\n",
        "l2 = []\n",
        "\n",
        "for i in m:\n",
        "  if i not in l2:\n",
        "    l2.append(i)"
      ],
      "metadata": {
        "id": "3kC-iLGEKR8A"
      },
      "execution_count": null,
      "outputs": []
    },
    {
      "cell_type": "code",
      "source": [
        "l2"
      ],
      "metadata": {
        "colab": {
          "base_uri": "https://localhost:8080/"
        },
        "id": "zAOFUkvXKfG9",
        "outputId": "11bf0fed-bfc3-4271-ebe2-26d02d7de9ea"
      },
      "execution_count": null,
      "outputs": [
        {
          "output_type": "execute_result",
          "data": {
            "text/plain": [
              "[1, 2, 3]"
            ]
          },
          "metadata": {},
          "execution_count": 5
        }
      ]
    },
    {
      "cell_type": "code",
      "source": [],
      "metadata": {
        "id": "zVepaeo2KR0w"
      },
      "execution_count": null,
      "outputs": []
    },
    {
      "cell_type": "code",
      "source": [
        "# functions :\n",
        "def check_lengths(s):\n",
        "  return len(s)\n",
        "\n",
        "# defination:\n",
        "# def fun name (variables):\n",
        "    # body\n",
        "    # return dshfd\n",
        "\n",
        "# calling the function:\n",
        "#fun_name(variables)\n",
        "\n",
        "\n",
        "# no of parameters used while defining the function\n",
        "# same no of parameters that function expecting while calling"
      ],
      "metadata": {
        "id": "hCpjm7LqFPI5"
      },
      "execution_count": null,
      "outputs": []
    },
    {
      "cell_type": "code",
      "source": [
        "s1 = \"jhgdsjgdsjdsg \"\n",
        "print(check_lengths(s1))"
      ],
      "metadata": {
        "colab": {
          "base_uri": "https://localhost:8080/"
        },
        "id": "6UibdpKDF7JN",
        "outputId": "d3cb7a14-2396-44a1-963a-218fdbea04e3"
      },
      "execution_count": null,
      "outputs": [
        {
          "output_type": "stream",
          "name": "stdout",
          "text": [
            "14\n"
          ]
        }
      ]
    },
    {
      "cell_type": "code",
      "source": [
        "# write a function to return sum of two numbers\n",
        "\n",
        "def add(a,b):\n",
        "  return a+b"
      ],
      "metadata": {
        "id": "JaIkLwZNF661"
      },
      "execution_count": null,
      "outputs": []
    },
    {
      "cell_type": "code",
      "source": [
        "add(1,2)"
      ],
      "metadata": {
        "colab": {
          "base_uri": "https://localhost:8080/"
        },
        "id": "xFZdMNy0GyOF",
        "outputId": "57b63c78-eeff-431d-abee-497f8e5fd902"
      },
      "execution_count": null,
      "outputs": [
        {
          "output_type": "execute_result",
          "data": {
            "text/plain": [
              "3"
            ]
          },
          "metadata": {},
          "execution_count": 17
        }
      ]
    },
    {
      "cell_type": "code",
      "source": [
        "# function.py --- all the functions , mainfile = \"\" , etl == extract transform load"
      ],
      "metadata": {
        "id": "tYp6R3z4HQzK"
      },
      "execution_count": null,
      "outputs": []
    },
    {
      "cell_type": "code",
      "source": [
        "# module 1 :\n",
        "# 10 ques\n",
        "# procedure\n",
        "# functions\n",
        "# list compren\n",
        "# dict compr"
      ],
      "metadata": {
        "id": "3dbgEAA-Hu6X"
      },
      "execution_count": null,
      "outputs": []
    },
    {
      "cell_type": "code",
      "source": [
        "# encrypt the pii value\n",
        "adhar_number = 123456789123\n",
        "e_adhar_no = \"*********123\""
      ],
      "metadata": {
        "id": "G6_78DYsK96F"
      },
      "execution_count": null,
      "outputs": []
    },
    {
      "cell_type": "code",
      "source": [
        "\n",
        "\n",
        "def encrypt_number(adhar_no):\n",
        "  if len(str(adhar_no)) == 12:\n",
        "    return \"*\"*9 + str(adhar_no)[-3:]\n",
        "  else:\n",
        "    return \"invalid input aadhar numbr must have 12 digits  \""
      ],
      "metadata": {
        "id": "i2LFGKxaK9ir"
      },
      "execution_count": null,
      "outputs": []
    },
    {
      "cell_type": "code",
      "source": [
        "encrypt_number(adhar_number)"
      ],
      "metadata": {
        "colab": {
          "base_uri": "https://localhost:8080/",
          "height": 36
        },
        "id": "c-0OWxybMVLr",
        "outputId": "a632cae4-3c43-4da3-96aa-1d7848804331"
      },
      "execution_count": null,
      "outputs": [
        {
          "output_type": "execute_result",
          "data": {
            "text/plain": [
              "'*********123'"
            ],
            "application/vnd.google.colaboratory.intrinsic+json": {
              "type": "string"
            }
          },
          "metadata": {},
          "execution_count": 9
        }
      ]
    },
    {
      "cell_type": "code",
      "source": [
        "no = 12345568458286525868\n",
        "encrypt_number(no)"
      ],
      "metadata": {
        "colab": {
          "base_uri": "https://localhost:8080/",
          "height": 36
        },
        "id": "_tKD6qkZMcNt",
        "outputId": "2db894f3-2a81-4903-a3b1-06cb174870c2"
      },
      "execution_count": null,
      "outputs": [
        {
          "output_type": "execute_result",
          "data": {
            "text/plain": [
              "'invalid input aadhar numbr must have 12 digits  '"
            ],
            "application/vnd.google.colaboratory.intrinsic+json": {
              "type": "string"
            }
          },
          "metadata": {},
          "execution_count": 13
        }
      ]
    },
    {
      "cell_type": "code",
      "source": [
        "# calculator\n",
        "\n",
        "# add\n",
        "# sub\n",
        "\n",
        "def add(a,b):\n",
        "  return a+b\n",
        "\n",
        "def sub(a,b):\n",
        "  return a-b\n",
        "\n",
        "def calculator(a,b):\n",
        "  sum = add(a,b)\n",
        "  s = sub(a,b)\n",
        "\n",
        "  return sum,s"
      ],
      "metadata": {
        "id": "1f2o4elmNASa"
      },
      "execution_count": null,
      "outputs": []
    },
    {
      "cell_type": "code",
      "source": [
        "calculator(13,2,1)"
      ],
      "metadata": {
        "colab": {
          "base_uri": "https://localhost:8080/",
          "height": 141
        },
        "id": "c_nnJVSJODSs",
        "outputId": "f421a6aa-ff61-441c-87d8-a8970b697368"
      },
      "execution_count": null,
      "outputs": [
        {
          "output_type": "error",
          "ename": "TypeError",
          "evalue": "calculator() takes 2 positional arguments but 3 were given",
          "traceback": [
            "\u001b[0;31m---------------------------------------------------------------------------\u001b[0m",
            "\u001b[0;31mTypeError\u001b[0m                                 Traceback (most recent call last)",
            "\u001b[0;32m<ipython-input-18-8217babf0570>\u001b[0m in \u001b[0;36m<cell line: 0>\u001b[0;34m()\u001b[0m\n\u001b[0;32m----> 1\u001b[0;31m \u001b[0mcalculator\u001b[0m\u001b[0;34m(\u001b[0m\u001b[0;36m13\u001b[0m\u001b[0;34m,\u001b[0m\u001b[0;36m2\u001b[0m\u001b[0;34m,\u001b[0m\u001b[0;36m1\u001b[0m\u001b[0;34m)\u001b[0m\u001b[0;34m\u001b[0m\u001b[0;34m\u001b[0m\u001b[0m\n\u001b[0m",
            "\u001b[0;31mTypeError\u001b[0m: calculator() takes 2 positional arguments but 3 were given"
          ]
        }
      ]
    },
    {
      "cell_type": "code",
      "source": [
        "calculator(13)"
      ],
      "metadata": {
        "colab": {
          "base_uri": "https://localhost:8080/",
          "height": 141
        },
        "id": "35L_DtkDOaWu",
        "outputId": "ab7b72cf-3fda-4be9-c2cb-ecd3cddbf048"
      },
      "execution_count": null,
      "outputs": [
        {
          "output_type": "error",
          "ename": "TypeError",
          "evalue": "calculator() missing 1 required positional argument: 'b'",
          "traceback": [
            "\u001b[0;31m---------------------------------------------------------------------------\u001b[0m",
            "\u001b[0;31mTypeError\u001b[0m                                 Traceback (most recent call last)",
            "\u001b[0;32m<ipython-input-19-4f3fb6f85ab4>\u001b[0m in \u001b[0;36m<cell line: 0>\u001b[0;34m()\u001b[0m\n\u001b[0;32m----> 1\u001b[0;31m \u001b[0mcalculator\u001b[0m\u001b[0;34m(\u001b[0m\u001b[0;36m13\u001b[0m\u001b[0;34m)\u001b[0m\u001b[0;34m\u001b[0m\u001b[0;34m\u001b[0m\u001b[0m\n\u001b[0m",
            "\u001b[0;31mTypeError\u001b[0m: calculator() missing 1 required positional argument: 'b'"
          ]
        }
      ]
    },
    {
      "cell_type": "code",
      "source": [
        "calculator(13,2)"
      ],
      "metadata": {
        "colab": {
          "base_uri": "https://localhost:8080/"
        },
        "id": "OGHorAf5Ouh0",
        "outputId": "4ef98f1b-22a8-45db-9956-83221b390306"
      },
      "execution_count": null,
      "outputs": [
        {
          "output_type": "execute_result",
          "data": {
            "text/plain": [
              "(15, 11)"
            ]
          },
          "metadata": {},
          "execution_count": 20
        }
      ]
    },
    {
      "cell_type": "code",
      "source": [
        "def demo():\n",
        "\n",
        "  return \"yes \"\n",
        "\n",
        "  return \"no\""
      ],
      "metadata": {
        "id": "HVpr9PaBPWHY"
      },
      "execution_count": null,
      "outputs": []
    },
    {
      "cell_type": "code",
      "source": [
        "demo()"
      ],
      "metadata": {
        "colab": {
          "base_uri": "https://localhost:8080/",
          "height": 36
        },
        "id": "5WddQc2pPfea",
        "outputId": "3222dd12-b9e1-482e-e3fd-30aad9c00135"
      },
      "execution_count": null,
      "outputs": [
        {
          "output_type": "execute_result",
          "data": {
            "text/plain": [
              "'yes '"
            ],
            "application/vnd.google.colaboratory.intrinsic+json": {
              "type": "string"
            }
          },
          "metadata": {},
          "execution_count": 23
        }
      ]
    },
    {
      "cell_type": "code",
      "source": [
        "# lambda :\n",
        "\n",
        "# def funname():\n",
        "#   body\n",
        "#   return\n",
        "\n",
        "# def add(a,b):\n",
        "#   return a+b\n",
        "\n",
        "# lambda functions\n",
        "f = lambda a,b : a + b\n",
        "\n",
        "#Syntax:\n",
        "#f = lambda variables : expression\n",
        "\n",
        "# advantages:\n",
        "# u can write any function within a line\n",
        "# u can have any no of parameters\n",
        "\n",
        "# disadvantage:\n",
        "# you can have only expression"
      ],
      "metadata": {
        "id": "Dnl4KTZcTMHR"
      },
      "execution_count": null,
      "outputs": []
    },
    {
      "cell_type": "code",
      "source": [
        "f(3,2)"
      ],
      "metadata": {
        "colab": {
          "base_uri": "https://localhost:8080/"
        },
        "id": "ToFLrAdkT4mo",
        "outputId": "7e959ccb-052f-4c51-fc27-192406081355"
      },
      "execution_count": null,
      "outputs": [
        {
          "output_type": "execute_result",
          "data": {
            "text/plain": [
              "5"
            ]
          },
          "metadata": {},
          "execution_count": 2
        }
      ]
    },
    {
      "cell_type": "code",
      "source": [
        "f = lambda a , b ,c : a*a + b*b + c*c"
      ],
      "metadata": {
        "id": "pRbuWBkNUojk"
      },
      "execution_count": null,
      "outputs": []
    },
    {
      "cell_type": "code",
      "source": [
        "f(1,4,5)"
      ],
      "metadata": {
        "colab": {
          "base_uri": "https://localhost:8080/"
        },
        "id": "ekp1PvQEU-Hl",
        "outputId": "518ec0ff-6e96-46c6-d482-827c1ac9f3e4"
      },
      "execution_count": null,
      "outputs": [
        {
          "output_type": "execute_result",
          "data": {
            "text/plain": [
              "42"
            ]
          },
          "metadata": {},
          "execution_count": 5
        }
      ]
    },
    {
      "cell_type": "code",
      "source": [
        "# map\n",
        "# filter\n",
        "\n",
        "#more specifically for list\n",
        "\n",
        "# map\n",
        "# if you want to perform some operation / function on each element of list\n",
        "\n",
        "\n",
        "\n",
        "#Syntax:\n",
        "# m = map(function , list)\n",
        "\n",
        "\n",
        "\n",
        "#example:\n",
        "l = [1,2,3,4,5]\n",
        "\n",
        "m = map(lambda x : x*x , l)\n",
        "\n",
        "print(list(m))\n",
        "\n",
        "print(type(m))\n",
        "\n",
        "\n"
      ],
      "metadata": {
        "colab": {
          "base_uri": "https://localhost:8080/"
        },
        "id": "_nPnBEaBVSWv",
        "outputId": "fccbbcb7-5996-4f7a-b9c8-e9b1062c11f0"
      },
      "execution_count": null,
      "outputs": [
        {
          "output_type": "stream",
          "name": "stdout",
          "text": [
            "[1, 4, 9, 16, 25]\n",
            "<class 'map'>\n"
          ]
        }
      ]
    },
    {
      "cell_type": "code",
      "source": [
        "def increment(a):\n",
        "  return a+2\n",
        "\n",
        "m = map( increment, l )\n",
        "\n",
        "\n",
        "\n"
      ],
      "metadata": {
        "id": "tHd3UEAeXUEQ"
      },
      "execution_count": null,
      "outputs": []
    },
    {
      "cell_type": "code",
      "source": [
        "# def add(a,b):\n",
        "#   return a+b\n",
        "\n",
        "# l = [(1,2),(1,3)]\n",
        "\n",
        "# m = map(add ,*l)"
      ],
      "metadata": {
        "id": "btnglEn2X26r"
      },
      "execution_count": null,
      "outputs": []
    },
    {
      "cell_type": "code",
      "source": [
        "print(list(m))"
      ],
      "metadata": {
        "colab": {
          "base_uri": "https://localhost:8080/"
        },
        "id": "P3pvjPAkYMgj",
        "outputId": "ce2c1069-8360-4578-8101-2e4840833e13"
      },
      "execution_count": null,
      "outputs": [
        {
          "output_type": "stream",
          "name": "stdout",
          "text": [
            "[2, 5]\n"
          ]
        }
      ]
    },
    {
      "cell_type": "code",
      "source": [
        "print(list(m))"
      ],
      "metadata": {
        "colab": {
          "base_uri": "https://localhost:8080/"
        },
        "id": "eG3FZw3iXjrU",
        "outputId": "a3637dc8-b47f-45f2-efcf-32fb565dd08f"
      },
      "execution_count": null,
      "outputs": [
        {
          "output_type": "stream",
          "name": "stdout",
          "text": [
            "[3, 4, 5, 6, 7]\n"
          ]
        }
      ]
    },
    {
      "cell_type": "code",
      "source": [
        "l = [1,2,3,4,5]\n",
        "\n",
        "l2 = []\n",
        "for i in l:\n",
        "  l2.append(i*i)\n",
        "\n",
        "l3 = [ i*i for i in l]\n",
        "\n",
        "print(l2)\n",
        "print(l3)\n",
        "\n"
      ],
      "metadata": {
        "colab": {
          "base_uri": "https://localhost:8080/"
        },
        "id": "c0eA26MUWNdL",
        "outputId": "d575d0a9-220a-4fdc-d446-d8d9c416d8a6"
      },
      "execution_count": null,
      "outputs": [
        {
          "output_type": "stream",
          "name": "stdout",
          "text": [
            "[1, 4, 9, 16, 25]\n",
            "[1, 4, 9, 16, 25]\n"
          ]
        }
      ]
    },
    {
      "cell_type": "code",
      "source": [
        "#filter :\n",
        "\n",
        "# like map function it will apply the condition on each element of list\n",
        "# it will consider the elemnts for which condition is true\n",
        "# return type is class filter\n",
        "# f = filter(condition , L)\n",
        "\n",
        "l = [1,2,3,4,5,6]\n",
        "\n",
        "#1\n",
        "l1 = []\n",
        "for i in l:\n",
        "  if i%2 == 0:\n",
        "    l2.append(i)\n",
        "\n",
        "\n",
        "#2\n",
        "l2 = [ i for i in l if i%2 == 0]\n",
        "\n",
        "\n",
        "#3\n",
        "\n",
        "# f = filter(condition , L)\n",
        "\n",
        "f = filter(lambda x : x%2 == 0 , l)\n",
        "\n",
        "print(type(f))\n",
        "\n",
        "print(list(f))\n",
        "\n",
        "\n",
        "# def filter(condition , l):\n",
        "#   f = []\n",
        "#   for i in l:\n",
        "#      if condition:\n",
        "#       f.append(i)\n"
      ],
      "metadata": {
        "colab": {
          "base_uri": "https://localhost:8080/"
        },
        "id": "6xnOLXfUZDUU",
        "outputId": "69b0e80c-06b2-4934-e544-16a7fdc9bf23"
      },
      "execution_count": null,
      "outputs": [
        {
          "output_type": "stream",
          "name": "stdout",
          "text": [
            "<class 'filter'>\n",
            "[2, 4, 6]\n"
          ]
        }
      ]
    },
    {
      "cell_type": "code",
      "source": [
        "l = [1,2,3,4,5,6]\n",
        "\n",
        "f = filter(lambda x : x%2 == 0 , l)\n",
        "\n",
        "print(list(f))\n",
        "\n",
        "m = map(lambda x : x%2 == 0 , l)\n",
        "print(\"its_map\", list(m))"
      ],
      "metadata": {
        "colab": {
          "base_uri": "https://localhost:8080/"
        },
        "id": "2neFcx8bbQxm",
        "outputId": "263ec831-f307-464b-d14c-776e36b6c528"
      },
      "execution_count": null,
      "outputs": [
        {
          "output_type": "stream",
          "name": "stdout",
          "text": [
            "[2, 4, 6]\n",
            "its_map [False, True, False, True, False, True]\n"
          ]
        }
      ]
    },
    {
      "cell_type": "code",
      "source": [],
      "metadata": {
        "id": "J-co0J34ceAS"
      },
      "execution_count": null,
      "outputs": []
    },
    {
      "cell_type": "code",
      "source": [
        "l1 = [1,2,3]\n",
        "l2 = [4,5,6]\n",
        "\n",
        "output = [(1,4),(2,5),(3,6)]\n",
        "\n",
        "o = []\n",
        "for i in range(len(l1)):\n",
        "  # print(\"l1 element: \",l1[i], \"l2 element: \",l2[i])\n",
        "  # print((l1[i],l2[i]))\n",
        "  o.append((l1[i],l2[i]))\n",
        "\n",
        "print(o)"
      ],
      "metadata": {
        "colab": {
          "base_uri": "https://localhost:8080/"
        },
        "id": "p-JW8aQtcevi",
        "outputId": "ba2dae5a-9e85-4cac-d44d-f84b8d104a20"
      },
      "execution_count": null,
      "outputs": [
        {
          "output_type": "stream",
          "name": "stdout",
          "text": [
            "l1 element:  1 l2 element:  4\n",
            "(1, 4)\n",
            "l1 element:  2 l2 element:  5\n",
            "(2, 5)\n",
            "l1 element:  3 l2 element:  6\n",
            "(3, 6)\n",
            "[(1, 4), (2, 5), (3, 6)]\n"
          ]
        }
      ]
    },
    {
      "cell_type": "code",
      "source": [
        "# zip\n",
        "# it will combine respective index elements into a tupple\n",
        "\n",
        "\n",
        "output = zip(l1,l2)"
      ],
      "metadata": {
        "id": "C16DnMp9d6C8"
      },
      "execution_count": null,
      "outputs": []
    },
    {
      "cell_type": "code",
      "source": [
        "print(list(output))"
      ],
      "metadata": {
        "colab": {
          "base_uri": "https://localhost:8080/"
        },
        "id": "zk9ogARdeEYb",
        "outputId": "b0ac0b9c-d1c2-4673-e470-19b91ffa43cd"
      },
      "execution_count": null,
      "outputs": [
        {
          "output_type": "stream",
          "name": "stdout",
          "text": [
            "[(1, 4), (2, 5), (3, 6)]\n"
          ]
        }
      ]
    },
    {
      "cell_type": "code",
      "source": [
        "# input function\n",
        "#format string\n"
      ],
      "metadata": {
        "id": "Aa0tF9EsYt3z"
      },
      "execution_count": null,
      "outputs": []
    },
    {
      "cell_type": "code",
      "source": [
        "#input\n",
        "\n",
        "#to get input from user\n",
        "# bydefault it will store the input in str datatype\n",
        "# you can add a msg u wanna show on screen inside input function\n",
        "\n",
        "\n"
      ],
      "metadata": {
        "id": "QvKm5XPPYtzh"
      },
      "execution_count": null,
      "outputs": []
    },
    {
      "cell_type": "code",
      "source": [
        "a = input()"
      ],
      "metadata": {
        "colab": {
          "base_uri": "https://localhost:8080/"
        },
        "id": "4Kc3JHVjYtsn",
        "outputId": "ee995f8b-3def-4376-c0a7-6aa41c28a093"
      },
      "execution_count": null,
      "outputs": [
        {
          "name": "stdout",
          "output_type": "stream",
          "text": [
            "12\n"
          ]
        }
      ]
    },
    {
      "cell_type": "code",
      "source": [
        "a =\n",
        " (input(\"message u want to show on screen \"))"
      ],
      "metadata": {
        "colab": {
          "base_uri": "https://localhost:8080/"
        },
        "id": "hZIPVIxyh72V",
        "outputId": "6a212cc2-9343-4cc9-ea6b-30cda079bc28"
      },
      "execution_count": null,
      "outputs": [
        {
          "name": "stdout",
          "output_type": "stream",
          "text": [
            "message u want to show on screen 12\n"
          ]
        }
      ]
    },
    {
      "cell_type": "code",
      "source": [
        "a = int(a)"
      ],
      "metadata": {
        "id": "F_639OQ3iVAJ"
      },
      "execution_count": null,
      "outputs": []
    },
    {
      "cell_type": "code",
      "source": [
        "type(a)"
      ],
      "metadata": {
        "colab": {
          "base_uri": "https://localhost:8080/"
        },
        "id": "ZFENqbVlho8v",
        "outputId": "18b42659-e0e0-4609-f4eb-c7513fc0c2fa"
      },
      "execution_count": null,
      "outputs": [
        {
          "output_type": "execute_result",
          "data": {
            "text/plain": [
              "int"
            ]
          },
          "metadata": {},
          "execution_count": 49
        }
      ]
    },
    {
      "cell_type": "code",
      "source": [
        "#format string :\n",
        "# f string\n",
        "# to make your string dynamic\n",
        "\n",
        "name = input(\"enter your name \")\n",
        "\n",
        "print(\"User name is \", name )\n",
        "\n",
        "print(f\"user name is {name} {name}\")      # f string\n",
        "\n",
        "print(\"user name is {}\".format(name))"
      ],
      "metadata": {
        "colab": {
          "base_uri": "https://localhost:8080/"
        },
        "id": "7vBghBQQiqAW",
        "outputId": "2ae85164-3d6d-4950-b65c-28cee7b1bec9"
      },
      "execution_count": null,
      "outputs": [
        {
          "output_type": "stream",
          "name": "stdout",
          "text": [
            "enter your name Jitu\n",
            "User name is  Jitu\n",
            "user name is Jitu Jitu\n",
            "user name is Jitu\n"
          ]
        }
      ]
    },
    {
      "cell_type": "code",
      "source": [
        "d = {\"asd\": 256,\"ghh\": 25 }\n",
        "\n"
      ],
      "metadata": {
        "id": "f4Fr7smJjxk8"
      },
      "execution_count": null,
      "outputs": []
    },
    {
      "cell_type": "code",
      "source": [
        "d.keys()"
      ],
      "metadata": {
        "colab": {
          "base_uri": "https://localhost:8080/"
        },
        "id": "VWZjW6iHj-3H",
        "outputId": "8723f286-3f9c-4f65-d808-24410c06dc17"
      },
      "execution_count": null,
      "outputs": [
        {
          "output_type": "execute_result",
          "data": {
            "text/plain": [
              "dict_keys(['asd', 'ghh'])"
            ]
          },
          "metadata": {},
          "execution_count": 59
        }
      ]
    },
    {
      "cell_type": "code",
      "source": [
        "d.values()"
      ],
      "metadata": {
        "colab": {
          "base_uri": "https://localhost:8080/"
        },
        "id": "LkuiK9sPkLMU",
        "outputId": "f11975d5-1171-4484-9a34-8ff7db725ce8"
      },
      "execution_count": null,
      "outputs": [
        {
          "output_type": "execute_result",
          "data": {
            "text/plain": [
              "dict_values([256, 25])"
            ]
          },
          "metadata": {},
          "execution_count": 62
        }
      ]
    },
    {
      "cell_type": "code",
      "source": [
        "type(list(d.keys()))"
      ],
      "metadata": {
        "colab": {
          "base_uri": "https://localhost:8080/"
        },
        "id": "woYsoW1Rj_-S",
        "outputId": "24c735ef-6530-49a4-9c23-3eef3b57e33b"
      },
      "execution_count": null,
      "outputs": [
        {
          "output_type": "execute_result",
          "data": {
            "text/plain": [
              "list"
            ]
          },
          "metadata": {},
          "execution_count": 61
        }
      ]
    },
    {
      "cell_type": "code",
      "source": [
        "d[\"ghhf\"]"
      ],
      "metadata": {
        "colab": {
          "base_uri": "https://localhost:8080/",
          "height": 141
        },
        "id": "AMxuPBzpkSuO",
        "outputId": "804e3e43-03c8-461a-e2c1-1ab62f25ada3"
      },
      "execution_count": null,
      "outputs": [
        {
          "output_type": "error",
          "ename": "KeyError",
          "evalue": "'ghhf'",
          "traceback": [
            "\u001b[0;31m---------------------------------------------------------------------------\u001b[0m",
            "\u001b[0;31mKeyError\u001b[0m                                  Traceback (most recent call last)",
            "\u001b[0;32m<ipython-input-64-2a320bb3f09b>\u001b[0m in \u001b[0;36m<cell line: 0>\u001b[0;34m()\u001b[0m\n\u001b[0;32m----> 1\u001b[0;31m \u001b[0md\u001b[0m\u001b[0;34m[\u001b[0m\u001b[0;34m\"ghhf\"\u001b[0m\u001b[0;34m]\u001b[0m\u001b[0;34m\u001b[0m\u001b[0;34m\u001b[0m\u001b[0m\n\u001b[0m",
            "\u001b[0;31mKeyError\u001b[0m: 'ghhf'"
          ]
        }
      ]
    },
    {
      "cell_type": "code",
      "source": [
        "# mostly used to know that key is present inside the dict or not\n",
        "# if it present want the value if not then want 0\n",
        "d.get(\"ghhg\",0)"
      ],
      "metadata": {
        "colab": {
          "base_uri": "https://localhost:8080/"
        },
        "id": "nn_FwjYfkbEN",
        "outputId": "570cc14f-adba-4f67-dcf7-03eabcefd505"
      },
      "execution_count": null,
      "outputs": [
        {
          "output_type": "execute_result",
          "data": {
            "text/plain": [
              "0"
            ]
          },
          "metadata": {},
          "execution_count": 66
        }
      ]
    },
    {
      "cell_type": "code",
      "source": [
        "print(\"ghh\" in d.keys())\n",
        "\n",
        "print(\"ghh\" in d)"
      ],
      "metadata": {
        "colab": {
          "base_uri": "https://localhost:8080/"
        },
        "id": "6huejZ5-kwG9",
        "outputId": "fc2d74ef-d23e-4578-9a4b-4f9b6b96f221"
      },
      "execution_count": null,
      "outputs": [
        {
          "output_type": "stream",
          "name": "stdout",
          "text": [
            "True\n",
            "True\n"
          ]
        }
      ]
    },
    {
      "cell_type": "code",
      "source": [
        "print(\"ghmh\" in d.keys())\n",
        "\n",
        "print(\"ghmh\" in d)"
      ],
      "metadata": {
        "colab": {
          "base_uri": "https://localhost:8080/"
        },
        "id": "qiBj7mPFk_FT",
        "outputId": "1c480fe8-a2b8-41ea-8a07-5ac4073bb49a"
      },
      "execution_count": null,
      "outputs": [
        {
          "output_type": "stream",
          "name": "stdout",
          "text": [
            "False\n",
            "False\n"
          ]
        }
      ]
    },
    {
      "cell_type": "code",
      "source": [
        "# Day 12\n",
        "\n",
        "# text\n",
        "# config -- parameters , variable , access level info , json"
      ],
      "metadata": {
        "id": "e8LWzpSYlkXb"
      },
      "execution_count": null,
      "outputs": []
    },
    {
      "cell_type": "code",
      "source": [
        "# diff modes of reading file :\n",
        "\"r\" : read mode\n",
        "\"w\" : write mode\n",
        "\"x\" : append\n"
      ],
      "metadata": {
        "id": "JbdcLECamoBC"
      },
      "execution_count": null,
      "outputs": []
    },
    {
      "cell_type": "code",
      "source": [
        "fv = open(\"/content/new_text2.txt\",'w')"
      ],
      "metadata": {
        "id": "_2C-K354o24o"
      },
      "execution_count": null,
      "outputs": []
    },
    {
      "cell_type": "code",
      "source": [
        "fv.close()"
      ],
      "metadata": {
        "id": "5VH0nH2OpFrk"
      },
      "execution_count": null,
      "outputs": []
    },
    {
      "cell_type": "code",
      "source": [],
      "metadata": {
        "id": "zUOT-0N4pRtb"
      },
      "execution_count": null,
      "outputs": []
    },
    {
      "cell_type": "code",
      "source": [
        "f =\"/content/new_text.txt\"\n",
        "fv = open(f,'r')"
      ],
      "metadata": {
        "id": "3idptop1oV8w"
      },
      "execution_count": null,
      "outputs": []
    },
    {
      "cell_type": "code",
      "source": [
        "type(fv)\n",
        "# this is text wrapper u can say file variable"
      ],
      "metadata": {
        "colab": {
          "base_uri": "https://localhost:8080/"
        },
        "id": "dJPTkkN1pWqm",
        "outputId": "f612fdbe-5957-4f12-8c78-cb789054a146"
      },
      "execution_count": null,
      "outputs": [
        {
          "output_type": "execute_result",
          "data": {
            "text/plain": [
              "_io.TextIOWrapper"
            ]
          },
          "metadata": {},
          "execution_count": 19
        }
      ]
    },
    {
      "cell_type": "code",
      "source": [
        "print(fv)"
      ],
      "metadata": {
        "colab": {
          "base_uri": "https://localhost:8080/"
        },
        "id": "DNyVkY6OoV2S",
        "outputId": "0766c6fa-0e77-4b22-c915-f7cca244b990"
      },
      "execution_count": null,
      "outputs": [
        {
          "output_type": "stream",
          "name": "stdout",
          "text": [
            "<_io.TextIOWrapper name='/content/new_text.txt' mode='r' encoding='utf-8'>\n"
          ]
        }
      ]
    },
    {
      "cell_type": "code",
      "source": [
        "# read ()\n",
        "# all the content of file\n",
        "# data type of content is string"
      ],
      "metadata": {
        "id": "ENOf2isrplx2"
      },
      "execution_count": null,
      "outputs": []
    },
    {
      "cell_type": "code",
      "source": [
        "fv.read()"
      ],
      "metadata": {
        "colab": {
          "base_uri": "https://localhost:8080/",
          "height": 53
        },
        "id": "kow2mLvxoj6C",
        "outputId": "e45e92be-9778-425b-e1b6-71159ea6f1c2"
      },
      "execution_count": null,
      "outputs": [
        {
          "output_type": "execute_result",
          "data": {
            "text/plain": [
              "'import json\\nfile = \"/content/data.json\"\\n# Load JSON from a file\\nwith open(file, \\'r\\') as file:\\n    data = json.load(file)'"
            ],
            "application/vnd.google.colaboratory.intrinsic+json": {
              "type": "string"
            }
          },
          "metadata": {},
          "execution_count": 15
        }
      ]
    },
    {
      "cell_type": "code",
      "source": [
        "# readlines()\n",
        "# it will read ur file line by line\n",
        "# datatype is list"
      ],
      "metadata": {
        "id": "k6718p8Dr_P-"
      },
      "execution_count": null,
      "outputs": []
    },
    {
      "cell_type": "code",
      "source": [
        "fv.readlines()"
      ],
      "metadata": {
        "colab": {
          "base_uri": "https://localhost:8080/"
        },
        "id": "351O86F_p0En",
        "outputId": "b305ea41-2de2-4922-f289-91ea3bdf0803"
      },
      "execution_count": null,
      "outputs": [
        {
          "output_type": "execute_result",
          "data": {
            "text/plain": [
              "['import json\\n',\n",
              " 'file = \"/content/data.json\"\\n',\n",
              " '# Load JSON from a file\\n',\n",
              " \"with open(file, 'r') as file:\\n\",\n",
              " '    data = json.load(file)']"
            ]
          },
          "metadata": {},
          "execution_count": 22
        }
      ]
    },
    {
      "cell_type": "code",
      "source": [
        "type(fv.readlines())"
      ],
      "metadata": {
        "colab": {
          "base_uri": "https://localhost:8080/"
        },
        "id": "1pNFZrBCqWjl",
        "outputId": "2655c4c1-4e53-4bf9-9cb5-325577a58422"
      },
      "execution_count": null,
      "outputs": [
        {
          "output_type": "execute_result",
          "data": {
            "text/plain": [
              "list"
            ]
          },
          "metadata": {},
          "execution_count": 23
        }
      ]
    },
    {
      "cell_type": "code",
      "source": [
        "list_of_lines = fv.readlines()"
      ],
      "metadata": {
        "id": "VlBEEbSbqJT4"
      },
      "execution_count": null,
      "outputs": []
    },
    {
      "cell_type": "code",
      "source": [
        "list_of_lines"
      ],
      "metadata": {
        "colab": {
          "base_uri": "https://localhost:8080/"
        },
        "id": "5e_30MBoqmq-",
        "outputId": "2630d07b-b5bd-43c1-fd60-40fb5c35e863"
      },
      "execution_count": null,
      "outputs": [
        {
          "output_type": "execute_result",
          "data": {
            "text/plain": [
              "['import json\\n',\n",
              " 'file = \"/content/data.json\"\\n',\n",
              " '# Load JSON from a file\\n',\n",
              " \"with open(file, 'r') as file:\\n\",\n",
              " '    data = json.load(file)']"
            ]
          },
          "metadata": {},
          "execution_count": 31
        }
      ]
    },
    {
      "cell_type": "code",
      "source": [
        "# fetch 4 th line\n",
        "\n",
        "list_of_lines[3]"
      ],
      "metadata": {
        "colab": {
          "base_uri": "https://localhost:8080/",
          "height": 36
        },
        "id": "PCMiLlgsq2Ig",
        "outputId": "9b5eacad-ce88-43e1-8f09-4ec0e6d3721e"
      },
      "execution_count": null,
      "outputs": [
        {
          "output_type": "execute_result",
          "data": {
            "text/plain": [
              "\"with open(file, 'r') as file:\\n\""
            ],
            "application/vnd.google.colaboratory.intrinsic+json": {
              "type": "string"
            }
          },
          "metadata": {},
          "execution_count": 33
        }
      ]
    },
    {
      "cell_type": "code",
      "source": [
        "#calculate length of first word\n",
        "line4 = list_of_lines[3]\n",
        "\n",
        "m = line4.split(\" \")[0]"
      ],
      "metadata": {
        "id": "2Y4X2pT5rC0u"
      },
      "execution_count": null,
      "outputs": []
    },
    {
      "cell_type": "code",
      "source": [
        "len(m)"
      ],
      "metadata": {
        "colab": {
          "base_uri": "https://localhost:8080/"
        },
        "id": "XlxZlW5rrWGv",
        "outputId": "79ad8fa9-86b6-4679-c33b-d383ed4097f4"
      },
      "execution_count": null,
      "outputs": [
        {
          "output_type": "execute_result",
          "data": {
            "text/plain": [
              "4"
            ]
          },
          "metadata": {},
          "execution_count": 36
        }
      ]
    },
    {
      "cell_type": "code",
      "source": [
        "import json\n",
        "file = \"/content/data.json\"\n",
        "# Load JSON from a file\n",
        "with open(file, 'r') as file:\n",
        "    data = json.load(file)\n",
        "\n",
        "    # dumps"
      ],
      "metadata": {
        "id": "h6DumDtUi4Pa"
      },
      "execution_count": null,
      "outputs": []
    },
    {
      "cell_type": "code",
      "source": [
        "file = open(\"/content/data.json\", 'r')"
      ],
      "metadata": {
        "id": "IV_7vBrenbN4"
      },
      "execution_count": null,
      "outputs": []
    },
    {
      "cell_type": "code",
      "source": [
        "f = json.load(file)"
      ],
      "metadata": {
        "id": "h24McFeUnv1a"
      },
      "execution_count": null,
      "outputs": []
    },
    {
      "cell_type": "code",
      "source": [
        "print(f)"
      ],
      "metadata": {
        "colab": {
          "base_uri": "https://localhost:8080/"
        },
        "id": "RawHLrN-no0l",
        "outputId": "ae972c65-c488-43ff-8094-f403ac053964"
      },
      "execution_count": null,
      "outputs": [
        {
          "output_type": "stream",
          "name": "stdout",
          "text": [
            "{'id': 1, 'name': 'Jane Doe', 'email': 'jane.doe@example.com', 'age': 28, 'isMember': True, 'country': 'USA'}\n"
          ]
        }
      ]
    },
    {
      "cell_type": "code",
      "source": [
        "print(data)"
      ],
      "metadata": {
        "colab": {
          "base_uri": "https://localhost:8080/"
        },
        "id": "2Gm4Lco6jCqx",
        "outputId": "e02f5b64-3f16-4baa-db45-e2a63cc514c9"
      },
      "execution_count": null,
      "outputs": [
        {
          "output_type": "stream",
          "name": "stdout",
          "text": [
            "{'id': 1, 'name': 'Jane Doe', 'email': 'jane.doe@example.com', 'age': 28, 'isMember': True, 'country': 'USA'}\n"
          ]
        }
      ]
    },
    {
      "cell_type": "code",
      "source": [
        "fv = open(\"/content/demo_write.txt\",'w')"
      ],
      "metadata": {
        "id": "WAUeEsMQoTry"
      },
      "execution_count": null,
      "outputs": []
    },
    {
      "cell_type": "code",
      "source": [
        "fv.write(\"fhdgfjdfjdgfsdfsd fjf sdjgfad fjf\")"
      ],
      "metadata": {
        "colab": {
          "base_uri": "https://localhost:8080/"
        },
        "id": "MJEOrrRyoTl2",
        "outputId": "dc7df0f5-afdb-4f16-ea3d-1e4e837bfe06"
      },
      "execution_count": null,
      "outputs": [
        {
          "output_type": "execute_result",
          "data": {
            "text/plain": [
              "30"
            ]
          },
          "metadata": {},
          "execution_count": 39
        }
      ]
    },
    {
      "cell_type": "code",
      "source": [
        "fv.close()"
      ],
      "metadata": {
        "id": "L82sGraaoTgH"
      },
      "execution_count": null,
      "outputs": []
    },
    {
      "cell_type": "code",
      "source": [
        "fv = open(\"/content/demo_write.txt\",'r')"
      ],
      "metadata": {
        "id": "lvrG2awBoTZ5"
      },
      "execution_count": null,
      "outputs": []
    },
    {
      "cell_type": "code",
      "source": [
        "fv.read()[:11]"
      ],
      "metadata": {
        "colab": {
          "base_uri": "https://localhost:8080/",
          "height": 36
        },
        "id": "CrL4xSRltCP-",
        "outputId": "8fb2f70a-c2ab-4a96-d336-8a00baf65ea2"
      },
      "execution_count": null,
      "outputs": [
        {
          "output_type": "execute_result",
          "data": {
            "text/plain": [
              "'fhdgfjdfjdg'"
            ],
            "application/vnd.google.colaboratory.intrinsic+json": {
              "type": "string"
            }
          },
          "metadata": {},
          "execution_count": 45
        }
      ]
    },
    {
      "cell_type": "code",
      "source": [],
      "metadata": {
        "id": "UG8gP6ohtWJO"
      },
      "execution_count": null,
      "outputs": []
    },
    {
      "cell_type": "code",
      "source": [
        "data[\"email\"]"
      ],
      "metadata": {
        "colab": {
          "base_uri": "https://localhost:8080/",
          "height": 36
        },
        "id": "7OS59GvGnHLz",
        "outputId": "5768110a-6e88-465f-9a49-27a1fcad7c83"
      },
      "execution_count": null,
      "outputs": [
        {
          "output_type": "execute_result",
          "data": {
            "text/plain": [
              "'jane.doe@example.com'"
            ],
            "application/vnd.google.colaboratory.intrinsic+json": {
              "type": "string"
            }
          },
          "metadata": {},
          "execution_count": 6
        }
      ]
    },
    {
      "cell_type": "code",
      "source": [
        "import json\n",
        "\n",
        "# Load JSON from a file\n",
        "with open('data.json', 'r') as file:\n",
        "    data = json.load(file)\n",
        "\n",
        "# Fetch variables\n",
        "id = data['id']\n",
        "name = data['name']\n",
        "email = data['email']\n",
        "age = data['age']\n",
        "is_member = data['isMember']\n",
        "country = data['country']\n",
        "\n",
        "# Print them\n",
        "print(f\"ID: {id}\")\n",
        "print(f\"Name: {name}\")\n",
        "print(f\"Email: {email}\")\n",
        "print(f\"Age: {age}\")\n",
        "print(f\"Member: {is_member}\")\n",
        "print(f\"Country: {country}\")\n"
      ],
      "metadata": {
        "id": "fPVb9zEyi3I8"
      },
      "execution_count": null,
      "outputs": []
    },
    {
      "cell_type": "code",
      "source": [
        "assignment 1 :\n",
        "\n",
        "create one file name datafile\n",
        "enter some data around 20 lines\n",
        "\n",
        "open the file for read operation\n",
        "\n",
        "one more file json : count of each word inside ur datafile"
      ],
      "metadata": {
        "id": "mdTA5nyst-iW"
      },
      "execution_count": null,
      "outputs": []
    },
    {
      "cell_type": "code",
      "source": [
        "try\n",
        "\n",
        "except"
      ],
      "metadata": {
        "id": "zjfr9HcVJEQ9",
        "colab": {
          "base_uri": "https://localhost:8080/",
          "height": 106
        },
        "outputId": "f621f7f1-ff82-432f-fa13-166af402f92c"
      },
      "execution_count": null,
      "outputs": [
        {
          "output_type": "error",
          "ename": "SyntaxError",
          "evalue": "expected ':' (<ipython-input-1-e2483a97fde0>, line 1)",
          "traceback": [
            "\u001b[0;36m  File \u001b[0;32m\"<ipython-input-1-e2483a97fde0>\"\u001b[0;36m, line \u001b[0;32m1\u001b[0m\n\u001b[0;31m    try\u001b[0m\n\u001b[0m        ^\u001b[0m\n\u001b[0;31mSyntaxError\u001b[0m\u001b[0;31m:\u001b[0m expected ':'\n"
          ]
        }
      ]
    },
    {
      "cell_type": "code",
      "source": [
        "# TypeError :\n",
        "a = 6\n",
        "b = \"sdf\"\n",
        "\n",
        "c = a + b"
      ],
      "metadata": {
        "id": "qgXfIcbBJECD",
        "colab": {
          "base_uri": "https://localhost:8080/",
          "height": 176
        },
        "outputId": "f0701fdf-64cd-4aed-ff95-76fcae726fd3"
      },
      "execution_count": null,
      "outputs": [
        {
          "output_type": "error",
          "ename": "TypeError",
          "evalue": "unsupported operand type(s) for +: 'int' and 'str'",
          "traceback": [
            "\u001b[0;31m---------------------------------------------------------------------------\u001b[0m",
            "\u001b[0;31mTypeError\u001b[0m                                 Traceback (most recent call last)",
            "\u001b[0;32m<ipython-input-2-9a0d566443a1>\u001b[0m in \u001b[0;36m<cell line: 0>\u001b[0;34m()\u001b[0m\n\u001b[1;32m      3\u001b[0m \u001b[0mb\u001b[0m \u001b[0;34m=\u001b[0m \u001b[0;34m\"sdf\"\u001b[0m\u001b[0;34m\u001b[0m\u001b[0;34m\u001b[0m\u001b[0m\n\u001b[1;32m      4\u001b[0m \u001b[0;34m\u001b[0m\u001b[0m\n\u001b[0;32m----> 5\u001b[0;31m \u001b[0mc\u001b[0m \u001b[0;34m=\u001b[0m \u001b[0ma\u001b[0m \u001b[0;34m+\u001b[0m \u001b[0mb\u001b[0m\u001b[0;34m\u001b[0m\u001b[0;34m\u001b[0m\u001b[0m\n\u001b[0m",
            "\u001b[0;31mTypeError\u001b[0m: unsupported operand type(s) for +: 'int' and 'str'"
          ]
        }
      ]
    },
    {
      "cell_type": "code",
      "source": [
        "# ValueError\n",
        "\n",
        "a = int(input(\"enter a number : \"))\n",
        "print(a)\n"
      ],
      "metadata": {
        "id": "ze1cW85DJDxB",
        "colab": {
          "base_uri": "https://localhost:8080/",
          "height": 211
        },
        "outputId": "3ff83ecd-2429-4dfa-8726-0142a20b1a07"
      },
      "execution_count": null,
      "outputs": [
        {
          "name": "stdout",
          "output_type": "stream",
          "text": [
            "enter a number : fgfjg\n"
          ]
        },
        {
          "output_type": "error",
          "ename": "ValueError",
          "evalue": "invalid literal for int() with base 10: 'fgfjg'",
          "traceback": [
            "\u001b[0;31m---------------------------------------------------------------------------\u001b[0m",
            "\u001b[0;31mValueError\u001b[0m                                Traceback (most recent call last)",
            "\u001b[0;32m<ipython-input-5-f379822c1578>\u001b[0m in \u001b[0;36m<cell line: 0>\u001b[0;34m()\u001b[0m\n\u001b[1;32m      1\u001b[0m \u001b[0;31m# ValueError\u001b[0m\u001b[0;34m\u001b[0m\u001b[0;34m\u001b[0m\u001b[0m\n\u001b[1;32m      2\u001b[0m \u001b[0;34m\u001b[0m\u001b[0m\n\u001b[0;32m----> 3\u001b[0;31m \u001b[0ma\u001b[0m \u001b[0;34m=\u001b[0m \u001b[0mint\u001b[0m\u001b[0;34m(\u001b[0m\u001b[0minput\u001b[0m\u001b[0;34m(\u001b[0m\u001b[0;34m\"enter a number : \"\u001b[0m\u001b[0;34m)\u001b[0m\u001b[0;34m)\u001b[0m\u001b[0;34m\u001b[0m\u001b[0;34m\u001b[0m\u001b[0m\n\u001b[0m\u001b[1;32m      4\u001b[0m \u001b[0mprint\u001b[0m\u001b[0;34m(\u001b[0m\u001b[0ma\u001b[0m\u001b[0;34m)\u001b[0m\u001b[0;34m\u001b[0m\u001b[0;34m\u001b[0m\u001b[0m\n",
            "\u001b[0;31mValueError\u001b[0m: invalid literal for int() with base 10: 'fgfjg'"
          ]
        }
      ]
    },
    {
      "cell_type": "code",
      "source": [
        "# IndexError\n",
        "m = [1,5,9,8,6]\n",
        "\n",
        "print(m[6])"
      ],
      "metadata": {
        "id": "TzxF_0NkJN9A",
        "colab": {
          "base_uri": "https://localhost:8080/",
          "height": 176
        },
        "outputId": "b0cec38a-8e0d-4d11-df41-6f3e573aa54b"
      },
      "execution_count": null,
      "outputs": [
        {
          "output_type": "error",
          "ename": "IndexError",
          "evalue": "list index out of range",
          "traceback": [
            "\u001b[0;31m---------------------------------------------------------------------------\u001b[0m",
            "\u001b[0;31mIndexError\u001b[0m                                Traceback (most recent call last)",
            "\u001b[0;32m<ipython-input-7-f605d4254c16>\u001b[0m in \u001b[0;36m<cell line: 0>\u001b[0;34m()\u001b[0m\n\u001b[1;32m      2\u001b[0m \u001b[0mm\u001b[0m \u001b[0;34m=\u001b[0m \u001b[0;34m[\u001b[0m\u001b[0;36m1\u001b[0m\u001b[0;34m,\u001b[0m\u001b[0;36m5\u001b[0m\u001b[0;34m,\u001b[0m\u001b[0;36m9\u001b[0m\u001b[0;34m,\u001b[0m\u001b[0;36m8\u001b[0m\u001b[0;34m,\u001b[0m\u001b[0;36m6\u001b[0m\u001b[0;34m]\u001b[0m\u001b[0;34m\u001b[0m\u001b[0;34m\u001b[0m\u001b[0m\n\u001b[1;32m      3\u001b[0m \u001b[0;34m\u001b[0m\u001b[0m\n\u001b[0;32m----> 4\u001b[0;31m \u001b[0mprint\u001b[0m\u001b[0;34m(\u001b[0m\u001b[0mm\u001b[0m\u001b[0;34m[\u001b[0m\u001b[0;36m6\u001b[0m\u001b[0;34m]\u001b[0m\u001b[0;34m)\u001b[0m\u001b[0;34m\u001b[0m\u001b[0;34m\u001b[0m\u001b[0m\n\u001b[0m",
            "\u001b[0;31mIndexError\u001b[0m: list index out of range"
          ]
        }
      ]
    },
    {
      "cell_type": "code",
      "source": [
        "# KeyError\n",
        "\n",
        "data = {\n",
        "    \"name\": \"Alice\",\n",
        "    \"age\": 25,\n",
        "    \"is_employee\": False,\n",
        "    \"skills\": [\"Java\", \"Spark\", \"Machine Learning\"]\n",
        "}"
      ],
      "metadata": {
        "id": "un-2aYo2JRbl"
      },
      "execution_count": null,
      "outputs": []
    },
    {
      "cell_type": "code",
      "source": [
        "data[\"named\"]"
      ],
      "metadata": {
        "colab": {
          "base_uri": "https://localhost:8080/",
          "height": 141
        },
        "id": "0d1jfYdkPADS",
        "outputId": "2ad938df-3208-4863-f444-0a32cd343a1d"
      },
      "execution_count": null,
      "outputs": [
        {
          "output_type": "error",
          "ename": "KeyError",
          "evalue": "'named'",
          "traceback": [
            "\u001b[0;31m---------------------------------------------------------------------------\u001b[0m",
            "\u001b[0;31mKeyError\u001b[0m                                  Traceback (most recent call last)",
            "\u001b[0;32m<ipython-input-11-f2633caf690b>\u001b[0m in \u001b[0;36m<cell line: 0>\u001b[0;34m()\u001b[0m\n\u001b[0;32m----> 1\u001b[0;31m \u001b[0mdata\u001b[0m\u001b[0;34m[\u001b[0m\u001b[0;34m\"named\"\u001b[0m\u001b[0;34m]\u001b[0m\u001b[0;34m\u001b[0m\u001b[0;34m\u001b[0m\u001b[0m\n\u001b[0m",
            "\u001b[0;31mKeyError\u001b[0m: 'named'"
          ]
        }
      ]
    },
    {
      "cell_type": "code",
      "source": [
        "#indentation error\n",
        "\n",
        "\n",
        "a = 25\n",
        "  b = \"ok\""
      ],
      "metadata": {
        "id": "H5cCaDIgJViB",
        "colab": {
          "base_uri": "https://localhost:8080/",
          "height": 106
        },
        "outputId": "493aa133-8fd3-4a2b-cc96-6f8d50a14cbc"
      },
      "execution_count": null,
      "outputs": [
        {
          "output_type": "error",
          "ename": "IndentationError",
          "evalue": "unexpected indent (<ipython-input-12-0e66a5c696cc>, line 5)",
          "traceback": [
            "\u001b[0;36m  File \u001b[0;32m\"<ipython-input-12-0e66a5c696cc>\"\u001b[0;36m, line \u001b[0;32m5\u001b[0m\n\u001b[0;31m    b = \"ok\"\u001b[0m\n\u001b[0m    ^\u001b[0m\n\u001b[0;31mIndentationError\u001b[0m\u001b[0;31m:\u001b[0m unexpected indent\n"
          ]
        }
      ]
    },
    {
      "cell_type": "code",
      "source": [
        "#syntax error\n",
        "\n",
        "print(\"hello\""
      ],
      "metadata": {
        "id": "T4AJhu3IJWOf",
        "colab": {
          "base_uri": "https://localhost:8080/",
          "height": 106
        },
        "outputId": "a7b4db63-16d7-4ca1-9d4e-6ede1ec0e01d"
      },
      "execution_count": null,
      "outputs": [
        {
          "output_type": "error",
          "ename": "SyntaxError",
          "evalue": "incomplete input (<ipython-input-13-a1dd5631ed42>, line 3)",
          "traceback": [
            "\u001b[0;36m  File \u001b[0;32m\"<ipython-input-13-a1dd5631ed42>\"\u001b[0;36m, line \u001b[0;32m3\u001b[0m\n\u001b[0;31m    print(\"hello\"\u001b[0m\n\u001b[0m                 ^\u001b[0m\n\u001b[0;31mSyntaxError\u001b[0m\u001b[0;31m:\u001b[0m incomplete input\n"
          ]
        }
      ]
    },
    {
      "cell_type": "code",
      "source": [
        "# ZeroDivisionError\n",
        "a = 25\n",
        "b = 0\n",
        "\n",
        "c = a/b"
      ],
      "metadata": {
        "id": "XE_xjeFnJZtb",
        "colab": {
          "base_uri": "https://localhost:8080/",
          "height": 176
        },
        "outputId": "9b804466-a386-499c-ef5e-654b8bb34cb0"
      },
      "execution_count": null,
      "outputs": [
        {
          "output_type": "error",
          "ename": "ZeroDivisionError",
          "evalue": "division by zero",
          "traceback": [
            "\u001b[0;31m---------------------------------------------------------------------------\u001b[0m",
            "\u001b[0;31mZeroDivisionError\u001b[0m                         Traceback (most recent call last)",
            "\u001b[0;32m<ipython-input-14-3eb05db17f7b>\u001b[0m in \u001b[0;36m<cell line: 0>\u001b[0;34m()\u001b[0m\n\u001b[1;32m      3\u001b[0m \u001b[0mb\u001b[0m \u001b[0;34m=\u001b[0m \u001b[0;36m0\u001b[0m\u001b[0;34m\u001b[0m\u001b[0;34m\u001b[0m\u001b[0m\n\u001b[1;32m      4\u001b[0m \u001b[0;34m\u001b[0m\u001b[0m\n\u001b[0;32m----> 5\u001b[0;31m \u001b[0mc\u001b[0m \u001b[0;34m=\u001b[0m \u001b[0ma\u001b[0m\u001b[0;34m/\u001b[0m\u001b[0mb\u001b[0m\u001b[0;34m\u001b[0m\u001b[0;34m\u001b[0m\u001b[0m\n\u001b[0m",
            "\u001b[0;31mZeroDivisionError\u001b[0m: division by zero"
          ]
        }
      ]
    },
    {
      "cell_type": "code",
      "source": [
        "# NameError\n",
        "\n",
        "a = \"hjfgfgu\"\n",
        "\n",
        "print(h)"
      ],
      "metadata": {
        "id": "5y1_nwCaJcTp",
        "colab": {
          "base_uri": "https://localhost:8080/",
          "height": 176
        },
        "outputId": "6729b141-6ab7-4f6b-a5fe-4d16f9872f61"
      },
      "execution_count": null,
      "outputs": [
        {
          "output_type": "error",
          "ename": "NameError",
          "evalue": "name 'h' is not defined",
          "traceback": [
            "\u001b[0;31m---------------------------------------------------------------------------\u001b[0m",
            "\u001b[0;31mNameError\u001b[0m                                 Traceback (most recent call last)",
            "\u001b[0;32m<ipython-input-15-306b210cca02>\u001b[0m in \u001b[0;36m<cell line: 0>\u001b[0;34m()\u001b[0m\n\u001b[1;32m      3\u001b[0m \u001b[0ma\u001b[0m \u001b[0;34m=\u001b[0m \u001b[0;34m\"hjfgfgu\"\u001b[0m\u001b[0;34m\u001b[0m\u001b[0;34m\u001b[0m\u001b[0m\n\u001b[1;32m      4\u001b[0m \u001b[0;34m\u001b[0m\u001b[0m\n\u001b[0;32m----> 5\u001b[0;31m \u001b[0mprint\u001b[0m\u001b[0;34m(\u001b[0m\u001b[0mh\u001b[0m\u001b[0;34m)\u001b[0m\u001b[0;34m\u001b[0m\u001b[0;34m\u001b[0m\u001b[0m\n\u001b[0m",
            "\u001b[0;31mNameError\u001b[0m: name 'h' is not defined"
          ]
        }
      ]
    },
    {
      "cell_type": "code",
      "source": [
        "a = int(input(\"enter a number\"))\n",
        "b = int(input(\"enter a number\"))\n",
        "\n",
        "c = a/b\n",
        "\n",
        "print(c)"
      ],
      "metadata": {
        "id": "2Irnma2IJfwN"
      },
      "execution_count": null,
      "outputs": []
    },
    {
      "cell_type": "code",
      "source": [
        "try :\n",
        "\n",
        "  # it is used to catch the error\n",
        "  # it contains function for which we want to catch the error\n",
        "except:\n",
        "  # lines to display the error\n",
        "  # another code to handle the error\n",
        "\n",
        "\n",
        "\n",
        "#if you want to handle more than one errors separately u can add multiple except blocks\n",
        "\n",
        "except errortype:\n",
        "\n",
        "except ZeroDivisionError:\n",
        "except valueError:\n",
        "\n",
        "\n",
        "finally:\n",
        "\n",
        "  # it will execute irespective of error occured or not\n",
        "\n",
        "\n",
        "# Note : we can add multiple except blocks for a try block depending on error occurs :\n"
      ],
      "metadata": {
        "id": "tO2TFwNIJqBu"
      },
      "execution_count": null,
      "outputs": []
    },
    {
      "cell_type": "code",
      "source": [
        "a = int(input(\"enter a number\"))\n",
        "b = int(input(\"enter a number\"))\n",
        "\n",
        "c = a/b\n",
        "\n",
        "print(c)"
      ],
      "metadata": {
        "colab": {
          "base_uri": "https://localhost:8080/",
          "height": 245
        },
        "id": "gu9aecjzQfzh",
        "outputId": "571e4aca-44ec-4654-99ff-b13daf0d67de"
      },
      "execution_count": null,
      "outputs": [
        {
          "name": "stdout",
          "output_type": "stream",
          "text": [
            "enter a number12\n",
            "enter a number0\n"
          ]
        },
        {
          "output_type": "error",
          "ename": "ZeroDivisionError",
          "evalue": "division by zero",
          "traceback": [
            "\u001b[0;31m---------------------------------------------------------------------------\u001b[0m",
            "\u001b[0;31mZeroDivisionError\u001b[0m                         Traceback (most recent call last)",
            "\u001b[0;32m<ipython-input-21-3d24a07062a0>\u001b[0m in \u001b[0;36m<cell line: 0>\u001b[0;34m()\u001b[0m\n\u001b[1;32m      2\u001b[0m \u001b[0mb\u001b[0m \u001b[0;34m=\u001b[0m \u001b[0mint\u001b[0m\u001b[0;34m(\u001b[0m\u001b[0minput\u001b[0m\u001b[0;34m(\u001b[0m\u001b[0;34m\"enter a number\"\u001b[0m\u001b[0;34m)\u001b[0m\u001b[0;34m)\u001b[0m\u001b[0;34m\u001b[0m\u001b[0;34m\u001b[0m\u001b[0m\n\u001b[1;32m      3\u001b[0m \u001b[0;34m\u001b[0m\u001b[0m\n\u001b[0;32m----> 4\u001b[0;31m \u001b[0mc\u001b[0m \u001b[0;34m=\u001b[0m \u001b[0ma\u001b[0m\u001b[0;34m/\u001b[0m\u001b[0mb\u001b[0m\u001b[0;34m\u001b[0m\u001b[0;34m\u001b[0m\u001b[0m\n\u001b[0m\u001b[1;32m      5\u001b[0m \u001b[0;34m\u001b[0m\u001b[0m\n\u001b[1;32m      6\u001b[0m \u001b[0mprint\u001b[0m\u001b[0;34m(\u001b[0m\u001b[0mc\u001b[0m\u001b[0;34m)\u001b[0m\u001b[0;34m\u001b[0m\u001b[0;34m\u001b[0m\u001b[0m\n",
            "\u001b[0;31mZeroDivisionError\u001b[0m: division by zero"
          ]
        }
      ]
    },
    {
      "cell_type": "code",
      "source": [
        "a = int(input(\"enter a number\"))\n",
        "b = int(input(\"enter a number\"))\n",
        "\n",
        "c = a/b\n",
        "\n",
        "print(c)"
      ],
      "metadata": {
        "colab": {
          "base_uri": "https://localhost:8080/",
          "height": 228
        },
        "id": "o6DUZZqYRs4A",
        "outputId": "fbe3a727-e9c2-4e3a-95da-defa9301fed2"
      },
      "execution_count": null,
      "outputs": [
        {
          "name": "stdout",
          "output_type": "stream",
          "text": [
            "enter a numberdfjdf\n"
          ]
        },
        {
          "output_type": "error",
          "ename": "ValueError",
          "evalue": "invalid literal for int() with base 10: 'dfjdf'",
          "traceback": [
            "\u001b[0;31m---------------------------------------------------------------------------\u001b[0m",
            "\u001b[0;31mValueError\u001b[0m                                Traceback (most recent call last)",
            "\u001b[0;32m<ipython-input-25-3d24a07062a0>\u001b[0m in \u001b[0;36m<cell line: 0>\u001b[0;34m()\u001b[0m\n\u001b[0;32m----> 1\u001b[0;31m \u001b[0ma\u001b[0m \u001b[0;34m=\u001b[0m \u001b[0mint\u001b[0m\u001b[0;34m(\u001b[0m\u001b[0minput\u001b[0m\u001b[0;34m(\u001b[0m\u001b[0;34m\"enter a number\"\u001b[0m\u001b[0;34m)\u001b[0m\u001b[0;34m)\u001b[0m\u001b[0;34m\u001b[0m\u001b[0;34m\u001b[0m\u001b[0m\n\u001b[0m\u001b[1;32m      2\u001b[0m \u001b[0mb\u001b[0m \u001b[0;34m=\u001b[0m \u001b[0mint\u001b[0m\u001b[0;34m(\u001b[0m\u001b[0minput\u001b[0m\u001b[0;34m(\u001b[0m\u001b[0;34m\"enter a number\"\u001b[0m\u001b[0;34m)\u001b[0m\u001b[0;34m)\u001b[0m\u001b[0;34m\u001b[0m\u001b[0;34m\u001b[0m\u001b[0m\n\u001b[1;32m      3\u001b[0m \u001b[0;34m\u001b[0m\u001b[0m\n\u001b[1;32m      4\u001b[0m \u001b[0mc\u001b[0m \u001b[0;34m=\u001b[0m \u001b[0ma\u001b[0m\u001b[0;34m/\u001b[0m\u001b[0mb\u001b[0m\u001b[0;34m\u001b[0m\u001b[0;34m\u001b[0m\u001b[0m\n\u001b[1;32m      5\u001b[0m \u001b[0;34m\u001b[0m\u001b[0m\n",
            "\u001b[0;31mValueError\u001b[0m: invalid literal for int() with base 10: 'dfjdf'"
          ]
        }
      ]
    },
    {
      "cell_type": "code",
      "source": [
        "# a = int(input(\"enter a number\"))\n",
        "# b = int(input(\"enter a number\"))\n",
        "\n",
        "\n",
        "\n",
        "try:\n",
        "  # it will contain ur function\n",
        "  a = int(input(\"enter a number\"))\n",
        "  b = int(input(\"enter a number\"))\n",
        "  c = a/b\n",
        "  print(c)\n",
        "except ZeroDivisionError:\n",
        "  print(\"you cannot divide by zero\")\n",
        "  b = int(input(\"enter a non zero number\"))\n",
        "  c = a/b\n",
        "  print(c)\n",
        "except ValueError:\n",
        "  print(\"valueError block\")\n",
        "  a =int(input(\"please enter only number1\"))\n",
        "  b = int(input(\"please enter only number2\"))\n",
        "  c = a/b\n",
        "  print(c)\n",
        "\n",
        "except:\n",
        "  print(\"default except block\")\n",
        "\n",
        "finally:\n",
        "  print(\"finally block\")\n",
        "\n",
        "\n",
        "\n",
        "print(\"hello \")\n",
        "print(\"execution \")\n"
      ],
      "metadata": {
        "id": "ZEgxAOqqJxk-",
        "colab": {
          "base_uri": "https://localhost:8080/"
        },
        "outputId": "8bdb3ffb-2baa-4d68-8cec-eb90f8f31362"
      },
      "execution_count": null,
      "outputs": [
        {
          "output_type": "stream",
          "name": "stdout",
          "text": [
            "enter a numbervgvh\n",
            "valueError block\n",
            "please enter only number112\n",
            "please enter only number225\n",
            "0.48\n",
            "finally block\n",
            "hello \n",
            "execution \n"
          ]
        }
      ]
    },
    {
      "cell_type": "code",
      "source": [
        "OOPS :\n",
        "procedure :\n",
        "function :\n",
        "opps:\n"
      ],
      "metadata": {
        "id": "HZz2lhz0JwZy"
      },
      "execution_count": null,
      "outputs": []
    },
    {
      "cell_type": "code",
      "source": [
        "procedure :   line by line\n",
        "functions :"
      ],
      "metadata": {
        "id": "gTLovOWCJ6bl"
      },
      "execution_count": null,
      "outputs": []
    },
    {
      "cell_type": "code",
      "source": [
        "def student_info():\n",
        "  name = input()\n",
        "  hobbies = input(hobbies)"
      ],
      "metadata": {
        "id": "dohHUAO3J-9O"
      },
      "execution_count": null,
      "outputs": []
    },
    {
      "cell_type": "code",
      "source": [
        "students : 60 students\n",
        "\n",
        "\n",
        "s1 = \"dataengineer\"\n",
        "clgs1 = \"dhjjh\"\n",
        "\n",
        "\n"
      ],
      "metadata": {
        "id": "AWjeCILOKDYo"
      },
      "execution_count": null,
      "outputs": []
    },
    {
      "cell_type": "code",
      "source": [
        "# class is blueprint of object\n",
        "# properties and methods\n",
        "\n",
        "#object\n",
        "#methods\n",
        "#properties"
      ],
      "metadata": {
        "id": "FzubM0hcKEac"
      },
      "execution_count": null,
      "outputs": []
    },
    {
      "cell_type": "code",
      "source": [
        "class Student:\n",
        "    def __init__(self, name, age):                  # Constructor\n",
        "        self.name = name\n",
        "        self.age = age\n",
        "        self.clg = \"GCOERA\"\n",
        "        self.cls = \"BE\"                  # we can have no of variables or properties\n",
        "\n",
        "    def display_info(self):                                   # we can have multiple methods\n",
        "        print(f\"Name: {self.name}\")\n",
        "        print(\"sdhvfkjjkf\")\n",
        "        print(f\"Age: {self.age}\")\n"
      ],
      "metadata": {
        "id": "cwNdY93mKEUo"
      },
      "execution_count": null,
      "outputs": []
    },
    {
      "cell_type": "code",
      "source": [
        "s = Student(\"Jitu\", 26)"
      ],
      "metadata": {
        "id": "eFRC7uBZKaxu"
      },
      "execution_count": null,
      "outputs": []
    },
    {
      "cell_type": "code",
      "source": [
        "s.name"
      ],
      "metadata": {
        "colab": {
          "base_uri": "https://localhost:8080/",
          "height": 36
        },
        "id": "lTAlfh0OKx_U",
        "outputId": "3e044ad1-b347-4d0f-a210-2db6b08d6330"
      },
      "execution_count": null,
      "outputs": [
        {
          "output_type": "execute_result",
          "data": {
            "text/plain": [
              "'Jitu'"
            ],
            "application/vnd.google.colaboratory.intrinsic+json": {
              "type": "string"
            }
          },
          "metadata": {},
          "execution_count": 7
        }
      ]
    },
    {
      "cell_type": "code",
      "source": [
        "s.age"
      ],
      "metadata": {
        "colab": {
          "base_uri": "https://localhost:8080/"
        },
        "id": "62o_apyZK0lt",
        "outputId": "40315ae0-6f2d-4f03-8f46-e8417d860da0"
      },
      "execution_count": null,
      "outputs": [
        {
          "output_type": "execute_result",
          "data": {
            "text/plain": [
              "26"
            ]
          },
          "metadata": {},
          "execution_count": 8
        }
      ]
    },
    {
      "cell_type": "code",
      "source": [
        "type(s)"
      ],
      "metadata": {
        "colab": {
          "base_uri": "https://localhost:8080/",
          "height": 103
        },
        "id": "cHT_jKQ2KanA",
        "outputId": "1ec90334-eaf4-478f-b146-9c514e42d922"
      },
      "execution_count": null,
      "outputs": [
        {
          "output_type": "execute_result",
          "data": {
            "text/plain": [
              "__main__.Student"
            ],
            "text/html": [
              "<div style=\"max-width:800px; border: 1px solid var(--colab-border-color);\"><style>\n",
              "      pre.function-repr-contents {\n",
              "        overflow-x: auto;\n",
              "        padding: 8px 12px;\n",
              "        max-height: 500px;\n",
              "      }\n",
              "\n",
              "      pre.function-repr-contents.function-repr-contents-collapsed {\n",
              "        cursor: pointer;\n",
              "        max-height: 100px;\n",
              "      }\n",
              "    </style>\n",
              "    <pre style=\"white-space: initial; background:\n",
              "         var(--colab-secondary-surface-color); padding: 8px 12px;\n",
              "         border-bottom: 1px solid var(--colab-border-color);\"><b>Student</b><br/>def __init__(name, age)</pre><pre class=\"function-repr-contents function-repr-contents-collapsed\" style=\"\"><a class=\"filepath\" style=\"display:none\" href=\"#\"></a>&lt;no docstring&gt;</pre></div>"
            ]
          },
          "metadata": {},
          "execution_count": 3
        }
      ]
    },
    {
      "cell_type": "code",
      "source": [
        "m = Student(\"Vaibhav\",25)"
      ],
      "metadata": {
        "id": "U6rX6ZapK3Wf"
      },
      "execution_count": null,
      "outputs": []
    },
    {
      "cell_type": "code",
      "source": [],
      "metadata": {
        "id": "uHEss6MeK3RV"
      },
      "execution_count": null,
      "outputs": []
    },
    {
      "cell_type": "code",
      "source": [
        "l = [1,2,3,4,5,6]\n"
      ],
      "metadata": {
        "id": "tfzP2nvRKktn"
      },
      "execution_count": null,
      "outputs": []
    },
    {
      "cell_type": "code",
      "source": [
        "print(type(l))"
      ],
      "metadata": {
        "colab": {
          "base_uri": "https://localhost:8080/"
        },
        "id": "vhYGpNNBKkm9",
        "outputId": "397a155b-a034-4bad-92e1-360cc5a325f1"
      },
      "execution_count": null,
      "outputs": [
        {
          "output_type": "stream",
          "name": "stdout",
          "text": [
            "<class 'list'>\n"
          ]
        }
      ]
    },
    {
      "cell_type": "code",
      "source": [
        "s.display_info()"
      ],
      "metadata": {
        "colab": {
          "base_uri": "https://localhost:8080/"
        },
        "id": "4UNaNz8HKvqD",
        "outputId": "40843bf9-d8bc-47fb-88bf-09f236da6ba3"
      },
      "execution_count": null,
      "outputs": [
        {
          "output_type": "stream",
          "name": "stdout",
          "text": [
            "Name: Jitu\n",
            "sdhvfkjjkf\n",
            "Age: 26\n"
          ]
        }
      ]
    },
    {
      "cell_type": "code",
      "source": [
        "#Encapsulation : encpaulating methods and data inside a class\n",
        "# Abstraction :\n",
        "\n",
        "# inheritence:\n",
        "# polymorphism:"
      ],
      "metadata": {
        "id": "_f-SQe5dKKs_"
      },
      "execution_count": null,
      "outputs": []
    },
    {
      "cell_type": "code",
      "source": [
        "class Car:\n",
        "  def __init__ (self, model,mode,fuel):\n",
        "    self.model = Model\n",
        "  def start():\n",
        "    print(\"car is started\")\n",
        "  def drive(self):\n",
        "    print(\"can be self or manual \")"
      ],
      "metadata": {
        "id": "nQ3A_rQ-KNRm"
      },
      "execution_count": null,
      "outputs": []
    },
    {
      "cell_type": "code",
      "source": [
        "class Tata_cars(Car):\n",
        "  def __init__(self,):\n",
        "\n",
        "    def drive(self):\n",
        "      print(\"It is self drive\")\n",
        "\n",
        "class Nexon(Tata_cars):\n",
        "\n",
        "class Nexon_base(Nexon)"
      ],
      "metadata": {
        "id": "pnNaWPwVKSDU"
      },
      "execution_count": null,
      "outputs": []
    },
    {
      "cell_type": "code",
      "source": [
        "1. Encapsulation\n",
        "Encapsulation is the concept of bundling the data (attributes/variables/properties) and the methods (functions) that operate on the data into a single unit called a class.\n",
        "It also involves restricting access to certain components of the object, making some data private and hidden from the outside world.\n",
        "\n",
        "\n",
        "capsule = data + methods\n",
        "\n",
        "private variable =  any variable starting with __ is private\n",
        "public : normal declaration\n"
      ],
      "metadata": {
        "id": "_Y-U4C-lKVsH"
      },
      "execution_count": null,
      "outputs": []
    },
    {
      "cell_type": "code",
      "source": [
        "2. Abstraction\n",
        "Abstraction is the concept of hiding the complex implementation details and showing only the essential features of the object.\n",
        "In Python, this is typically achieved through abstract classes and methods."
      ],
      "metadata": {
        "id": "nSB3FPdgLIec"
      },
      "execution_count": null,
      "outputs": []
    },
    {
      "cell_type": "code",
      "source": [
        "3. Inheritance\n",
        "Inheritance is a mechanism that allows one class (child class) to inherit the properties and behaviors (attributes and methods) from another class (parent class).\n",
        "This allows for code reuse and a hierarchical class structure.\n",
        "\n",
        "Parent (Base) Class: The class being inherited from.\n",
        "Child (Derived) Class: The class that inherits from the parent class.\n",
        "\n",
        "\n",
        "\n",
        "child class has access to all the methods and attributes which are associated with parent class but viceversa is not true."
      ],
      "metadata": {
        "id": "FiFvxRFCLNYo"
      },
      "execution_count": null,
      "outputs": []
    },
    {
      "cell_type": "code",
      "source": [
        "class Animal:\n",
        "    def speak(self):\n",
        "        return \"Animal sound\"\n",
        "\n",
        "animal = Animal()\n",
        "\n",
        "class Dog(Animal):                        # Dog :   parent class Animal\n",
        "    def bark(self):\n",
        "        return \"Woof!\"\n",
        "\n",
        "dog = Dog()\n",
        "\n",
        "class Tommy(Dog):         # Tommy : parent class is Dog\n",
        "  def intro(self):\n",
        "    return \"My name is Tommy\"\n",
        "\n",
        "tommy = Tommy()\n",
        "\n",
        "\n"
      ],
      "metadata": {
        "id": "wyT1KWG5LTW7"
      },
      "execution_count": null,
      "outputs": []
    }
  ]
}